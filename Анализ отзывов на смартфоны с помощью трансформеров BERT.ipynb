{
  "nbformat": 4,
  "nbformat_minor": 0,
  "metadata": {
    "colab": {
      "provenance": [],
      "gpuType": "T4"
    },
    "kernelspec": {
      "name": "python3",
      "display_name": "Python 3"
    },
    "language_info": {
      "name": "python"
    },
    "accelerator": "GPU",
    "widgets": {
      "application/vnd.jupyter.widget-state+json": {
        "7c6e80f9731a4a24bc448398fda0b135": {
          "model_module": "@jupyter-widgets/controls",
          "model_name": "HBoxModel",
          "model_module_version": "1.5.0",
          "state": {
            "_dom_classes": [],
            "_model_module": "@jupyter-widgets/controls",
            "_model_module_version": "1.5.0",
            "_model_name": "HBoxModel",
            "_view_count": null,
            "_view_module": "@jupyter-widgets/controls",
            "_view_module_version": "1.5.0",
            "_view_name": "HBoxView",
            "box_style": "",
            "children": [
              "IPY_MODEL_5abf65db05a2449bb5206f33b75ac23e",
              "IPY_MODEL_192f25a438824ef9bb68845ed1a7442b",
              "IPY_MODEL_ccb84721759c48d998cc8b1d01785db1"
            ],
            "layout": "IPY_MODEL_26abad82c23a4bf8aecc9bc9ff08dab6"
          }
        },
        "5abf65db05a2449bb5206f33b75ac23e": {
          "model_module": "@jupyter-widgets/controls",
          "model_name": "HTMLModel",
          "model_module_version": "1.5.0",
          "state": {
            "_dom_classes": [],
            "_model_module": "@jupyter-widgets/controls",
            "_model_module_version": "1.5.0",
            "_model_name": "HTMLModel",
            "_view_count": null,
            "_view_module": "@jupyter-widgets/controls",
            "_view_module_version": "1.5.0",
            "_view_name": "HTMLView",
            "description": "",
            "description_tooltip": null,
            "layout": "IPY_MODEL_fafdaed2afa7408083b4d1242349c2d2",
            "placeholder": "​",
            "style": "IPY_MODEL_ed77576ded2e41b7b8f8c215ee6ceb61",
            "value": "tokenizer_config.json: 100%"
          }
        },
        "192f25a438824ef9bb68845ed1a7442b": {
          "model_module": "@jupyter-widgets/controls",
          "model_name": "FloatProgressModel",
          "model_module_version": "1.5.0",
          "state": {
            "_dom_classes": [],
            "_model_module": "@jupyter-widgets/controls",
            "_model_module_version": "1.5.0",
            "_model_name": "FloatProgressModel",
            "_view_count": null,
            "_view_module": "@jupyter-widgets/controls",
            "_view_module_version": "1.5.0",
            "_view_name": "ProgressView",
            "bar_style": "success",
            "description": "",
            "description_tooltip": null,
            "layout": "IPY_MODEL_eb920870a84f42308725d4448e403a11",
            "max": 1271,
            "min": 0,
            "orientation": "horizontal",
            "style": "IPY_MODEL_294d60d1fd934fac9062d41e744e3cf7",
            "value": 1271
          }
        },
        "ccb84721759c48d998cc8b1d01785db1": {
          "model_module": "@jupyter-widgets/controls",
          "model_name": "HTMLModel",
          "model_module_version": "1.5.0",
          "state": {
            "_dom_classes": [],
            "_model_module": "@jupyter-widgets/controls",
            "_model_module_version": "1.5.0",
            "_model_name": "HTMLModel",
            "_view_count": null,
            "_view_module": "@jupyter-widgets/controls",
            "_view_module_version": "1.5.0",
            "_view_name": "HTMLView",
            "description": "",
            "description_tooltip": null,
            "layout": "IPY_MODEL_be47b12c759449489e144a305829592a",
            "placeholder": "​",
            "style": "IPY_MODEL_481d2fa56397432988e1a6d22cb20324",
            "value": " 1.27k/1.27k [00:00&lt;00:00, 79.9kB/s]"
          }
        },
        "26abad82c23a4bf8aecc9bc9ff08dab6": {
          "model_module": "@jupyter-widgets/base",
          "model_name": "LayoutModel",
          "model_module_version": "1.2.0",
          "state": {
            "_model_module": "@jupyter-widgets/base",
            "_model_module_version": "1.2.0",
            "_model_name": "LayoutModel",
            "_view_count": null,
            "_view_module": "@jupyter-widgets/base",
            "_view_module_version": "1.2.0",
            "_view_name": "LayoutView",
            "align_content": null,
            "align_items": null,
            "align_self": null,
            "border": null,
            "bottom": null,
            "display": null,
            "flex": null,
            "flex_flow": null,
            "grid_area": null,
            "grid_auto_columns": null,
            "grid_auto_flow": null,
            "grid_auto_rows": null,
            "grid_column": null,
            "grid_gap": null,
            "grid_row": null,
            "grid_template_areas": null,
            "grid_template_columns": null,
            "grid_template_rows": null,
            "height": null,
            "justify_content": null,
            "justify_items": null,
            "left": null,
            "margin": null,
            "max_height": null,
            "max_width": null,
            "min_height": null,
            "min_width": null,
            "object_fit": null,
            "object_position": null,
            "order": null,
            "overflow": null,
            "overflow_x": null,
            "overflow_y": null,
            "padding": null,
            "right": null,
            "top": null,
            "visibility": null,
            "width": null
          }
        },
        "fafdaed2afa7408083b4d1242349c2d2": {
          "model_module": "@jupyter-widgets/base",
          "model_name": "LayoutModel",
          "model_module_version": "1.2.0",
          "state": {
            "_model_module": "@jupyter-widgets/base",
            "_model_module_version": "1.2.0",
            "_model_name": "LayoutModel",
            "_view_count": null,
            "_view_module": "@jupyter-widgets/base",
            "_view_module_version": "1.2.0",
            "_view_name": "LayoutView",
            "align_content": null,
            "align_items": null,
            "align_self": null,
            "border": null,
            "bottom": null,
            "display": null,
            "flex": null,
            "flex_flow": null,
            "grid_area": null,
            "grid_auto_columns": null,
            "grid_auto_flow": null,
            "grid_auto_rows": null,
            "grid_column": null,
            "grid_gap": null,
            "grid_row": null,
            "grid_template_areas": null,
            "grid_template_columns": null,
            "grid_template_rows": null,
            "height": null,
            "justify_content": null,
            "justify_items": null,
            "left": null,
            "margin": null,
            "max_height": null,
            "max_width": null,
            "min_height": null,
            "min_width": null,
            "object_fit": null,
            "object_position": null,
            "order": null,
            "overflow": null,
            "overflow_x": null,
            "overflow_y": null,
            "padding": null,
            "right": null,
            "top": null,
            "visibility": null,
            "width": null
          }
        },
        "ed77576ded2e41b7b8f8c215ee6ceb61": {
          "model_module": "@jupyter-widgets/controls",
          "model_name": "DescriptionStyleModel",
          "model_module_version": "1.5.0",
          "state": {
            "_model_module": "@jupyter-widgets/controls",
            "_model_module_version": "1.5.0",
            "_model_name": "DescriptionStyleModel",
            "_view_count": null,
            "_view_module": "@jupyter-widgets/base",
            "_view_module_version": "1.2.0",
            "_view_name": "StyleView",
            "description_width": ""
          }
        },
        "eb920870a84f42308725d4448e403a11": {
          "model_module": "@jupyter-widgets/base",
          "model_name": "LayoutModel",
          "model_module_version": "1.2.0",
          "state": {
            "_model_module": "@jupyter-widgets/base",
            "_model_module_version": "1.2.0",
            "_model_name": "LayoutModel",
            "_view_count": null,
            "_view_module": "@jupyter-widgets/base",
            "_view_module_version": "1.2.0",
            "_view_name": "LayoutView",
            "align_content": null,
            "align_items": null,
            "align_self": null,
            "border": null,
            "bottom": null,
            "display": null,
            "flex": null,
            "flex_flow": null,
            "grid_area": null,
            "grid_auto_columns": null,
            "grid_auto_flow": null,
            "grid_auto_rows": null,
            "grid_column": null,
            "grid_gap": null,
            "grid_row": null,
            "grid_template_areas": null,
            "grid_template_columns": null,
            "grid_template_rows": null,
            "height": null,
            "justify_content": null,
            "justify_items": null,
            "left": null,
            "margin": null,
            "max_height": null,
            "max_width": null,
            "min_height": null,
            "min_width": null,
            "object_fit": null,
            "object_position": null,
            "order": null,
            "overflow": null,
            "overflow_x": null,
            "overflow_y": null,
            "padding": null,
            "right": null,
            "top": null,
            "visibility": null,
            "width": null
          }
        },
        "294d60d1fd934fac9062d41e744e3cf7": {
          "model_module": "@jupyter-widgets/controls",
          "model_name": "ProgressStyleModel",
          "model_module_version": "1.5.0",
          "state": {
            "_model_module": "@jupyter-widgets/controls",
            "_model_module_version": "1.5.0",
            "_model_name": "ProgressStyleModel",
            "_view_count": null,
            "_view_module": "@jupyter-widgets/base",
            "_view_module_version": "1.2.0",
            "_view_name": "StyleView",
            "bar_color": null,
            "description_width": ""
          }
        },
        "be47b12c759449489e144a305829592a": {
          "model_module": "@jupyter-widgets/base",
          "model_name": "LayoutModel",
          "model_module_version": "1.2.0",
          "state": {
            "_model_module": "@jupyter-widgets/base",
            "_model_module_version": "1.2.0",
            "_model_name": "LayoutModel",
            "_view_count": null,
            "_view_module": "@jupyter-widgets/base",
            "_view_module_version": "1.2.0",
            "_view_name": "LayoutView",
            "align_content": null,
            "align_items": null,
            "align_self": null,
            "border": null,
            "bottom": null,
            "display": null,
            "flex": null,
            "flex_flow": null,
            "grid_area": null,
            "grid_auto_columns": null,
            "grid_auto_flow": null,
            "grid_auto_rows": null,
            "grid_column": null,
            "grid_gap": null,
            "grid_row": null,
            "grid_template_areas": null,
            "grid_template_columns": null,
            "grid_template_rows": null,
            "height": null,
            "justify_content": null,
            "justify_items": null,
            "left": null,
            "margin": null,
            "max_height": null,
            "max_width": null,
            "min_height": null,
            "min_width": null,
            "object_fit": null,
            "object_position": null,
            "order": null,
            "overflow": null,
            "overflow_x": null,
            "overflow_y": null,
            "padding": null,
            "right": null,
            "top": null,
            "visibility": null,
            "width": null
          }
        },
        "481d2fa56397432988e1a6d22cb20324": {
          "model_module": "@jupyter-widgets/controls",
          "model_name": "DescriptionStyleModel",
          "model_module_version": "1.5.0",
          "state": {
            "_model_module": "@jupyter-widgets/controls",
            "_model_module_version": "1.5.0",
            "_model_name": "DescriptionStyleModel",
            "_view_count": null,
            "_view_module": "@jupyter-widgets/base",
            "_view_module_version": "1.2.0",
            "_view_name": "StyleView",
            "description_width": ""
          }
        },
        "9e08c21dbf5243ca8610a5ee2b628d67": {
          "model_module": "@jupyter-widgets/controls",
          "model_name": "HBoxModel",
          "model_module_version": "1.5.0",
          "state": {
            "_dom_classes": [],
            "_model_module": "@jupyter-widgets/controls",
            "_model_module_version": "1.5.0",
            "_model_name": "HBoxModel",
            "_view_count": null,
            "_view_module": "@jupyter-widgets/controls",
            "_view_module_version": "1.5.0",
            "_view_name": "HBoxView",
            "box_style": "",
            "children": [
              "IPY_MODEL_76dd3bd99d6046d2b3800895070d9881",
              "IPY_MODEL_55a6b99b33774e5b9ce60e5c0ac5974b",
              "IPY_MODEL_5daa49cc83aa4b3ba2fee45703424a54"
            ],
            "layout": "IPY_MODEL_0b9446afa60e44e5b11055ff56fcbc1f"
          }
        },
        "76dd3bd99d6046d2b3800895070d9881": {
          "model_module": "@jupyter-widgets/controls",
          "model_name": "HTMLModel",
          "model_module_version": "1.5.0",
          "state": {
            "_dom_classes": [],
            "_model_module": "@jupyter-widgets/controls",
            "_model_module_version": "1.5.0",
            "_model_name": "HTMLModel",
            "_view_count": null,
            "_view_module": "@jupyter-widgets/controls",
            "_view_module_version": "1.5.0",
            "_view_name": "HTMLView",
            "description": "",
            "description_tooltip": null,
            "layout": "IPY_MODEL_2a038539479c4d63a7dd733e7cfd0c2f",
            "placeholder": "​",
            "style": "IPY_MODEL_4c23adc856dc4d83b25d478791567914",
            "value": "vocab.txt: 100%"
          }
        },
        "55a6b99b33774e5b9ce60e5c0ac5974b": {
          "model_module": "@jupyter-widgets/controls",
          "model_name": "FloatProgressModel",
          "model_module_version": "1.5.0",
          "state": {
            "_dom_classes": [],
            "_model_module": "@jupyter-widgets/controls",
            "_model_module_version": "1.5.0",
            "_model_name": "FloatProgressModel",
            "_view_count": null,
            "_view_module": "@jupyter-widgets/controls",
            "_view_module_version": "1.5.0",
            "_view_name": "ProgressView",
            "bar_style": "success",
            "description": "",
            "description_tooltip": null,
            "layout": "IPY_MODEL_a4c7fcdb808c4055943b17d847ec4c13",
            "max": 1649718,
            "min": 0,
            "orientation": "horizontal",
            "style": "IPY_MODEL_9ab5fe0ac4b84e61afda49bcf8ad1997",
            "value": 1649718
          }
        },
        "5daa49cc83aa4b3ba2fee45703424a54": {
          "model_module": "@jupyter-widgets/controls",
          "model_name": "HTMLModel",
          "model_module_version": "1.5.0",
          "state": {
            "_dom_classes": [],
            "_model_module": "@jupyter-widgets/controls",
            "_model_module_version": "1.5.0",
            "_model_name": "HTMLModel",
            "_view_count": null,
            "_view_module": "@jupyter-widgets/controls",
            "_view_module_version": "1.5.0",
            "_view_name": "HTMLView",
            "description": "",
            "description_tooltip": null,
            "layout": "IPY_MODEL_3c941f0bcd6640168b297172eb7d5cc7",
            "placeholder": "​",
            "style": "IPY_MODEL_e497cd55846c4e06ac2cc4224317690a",
            "value": " 1.65M/1.65M [00:01&lt;00:00, 1.54MB/s]"
          }
        },
        "0b9446afa60e44e5b11055ff56fcbc1f": {
          "model_module": "@jupyter-widgets/base",
          "model_name": "LayoutModel",
          "model_module_version": "1.2.0",
          "state": {
            "_model_module": "@jupyter-widgets/base",
            "_model_module_version": "1.2.0",
            "_model_name": "LayoutModel",
            "_view_count": null,
            "_view_module": "@jupyter-widgets/base",
            "_view_module_version": "1.2.0",
            "_view_name": "LayoutView",
            "align_content": null,
            "align_items": null,
            "align_self": null,
            "border": null,
            "bottom": null,
            "display": null,
            "flex": null,
            "flex_flow": null,
            "grid_area": null,
            "grid_auto_columns": null,
            "grid_auto_flow": null,
            "grid_auto_rows": null,
            "grid_column": null,
            "grid_gap": null,
            "grid_row": null,
            "grid_template_areas": null,
            "grid_template_columns": null,
            "grid_template_rows": null,
            "height": null,
            "justify_content": null,
            "justify_items": null,
            "left": null,
            "margin": null,
            "max_height": null,
            "max_width": null,
            "min_height": null,
            "min_width": null,
            "object_fit": null,
            "object_position": null,
            "order": null,
            "overflow": null,
            "overflow_x": null,
            "overflow_y": null,
            "padding": null,
            "right": null,
            "top": null,
            "visibility": null,
            "width": null
          }
        },
        "2a038539479c4d63a7dd733e7cfd0c2f": {
          "model_module": "@jupyter-widgets/base",
          "model_name": "LayoutModel",
          "model_module_version": "1.2.0",
          "state": {
            "_model_module": "@jupyter-widgets/base",
            "_model_module_version": "1.2.0",
            "_model_name": "LayoutModel",
            "_view_count": null,
            "_view_module": "@jupyter-widgets/base",
            "_view_module_version": "1.2.0",
            "_view_name": "LayoutView",
            "align_content": null,
            "align_items": null,
            "align_self": null,
            "border": null,
            "bottom": null,
            "display": null,
            "flex": null,
            "flex_flow": null,
            "grid_area": null,
            "grid_auto_columns": null,
            "grid_auto_flow": null,
            "grid_auto_rows": null,
            "grid_column": null,
            "grid_gap": null,
            "grid_row": null,
            "grid_template_areas": null,
            "grid_template_columns": null,
            "grid_template_rows": null,
            "height": null,
            "justify_content": null,
            "justify_items": null,
            "left": null,
            "margin": null,
            "max_height": null,
            "max_width": null,
            "min_height": null,
            "min_width": null,
            "object_fit": null,
            "object_position": null,
            "order": null,
            "overflow": null,
            "overflow_x": null,
            "overflow_y": null,
            "padding": null,
            "right": null,
            "top": null,
            "visibility": null,
            "width": null
          }
        },
        "4c23adc856dc4d83b25d478791567914": {
          "model_module": "@jupyter-widgets/controls",
          "model_name": "DescriptionStyleModel",
          "model_module_version": "1.5.0",
          "state": {
            "_model_module": "@jupyter-widgets/controls",
            "_model_module_version": "1.5.0",
            "_model_name": "DescriptionStyleModel",
            "_view_count": null,
            "_view_module": "@jupyter-widgets/base",
            "_view_module_version": "1.2.0",
            "_view_name": "StyleView",
            "description_width": ""
          }
        },
        "a4c7fcdb808c4055943b17d847ec4c13": {
          "model_module": "@jupyter-widgets/base",
          "model_name": "LayoutModel",
          "model_module_version": "1.2.0",
          "state": {
            "_model_module": "@jupyter-widgets/base",
            "_model_module_version": "1.2.0",
            "_model_name": "LayoutModel",
            "_view_count": null,
            "_view_module": "@jupyter-widgets/base",
            "_view_module_version": "1.2.0",
            "_view_name": "LayoutView",
            "align_content": null,
            "align_items": null,
            "align_self": null,
            "border": null,
            "bottom": null,
            "display": null,
            "flex": null,
            "flex_flow": null,
            "grid_area": null,
            "grid_auto_columns": null,
            "grid_auto_flow": null,
            "grid_auto_rows": null,
            "grid_column": null,
            "grid_gap": null,
            "grid_row": null,
            "grid_template_areas": null,
            "grid_template_columns": null,
            "grid_template_rows": null,
            "height": null,
            "justify_content": null,
            "justify_items": null,
            "left": null,
            "margin": null,
            "max_height": null,
            "max_width": null,
            "min_height": null,
            "min_width": null,
            "object_fit": null,
            "object_position": null,
            "order": null,
            "overflow": null,
            "overflow_x": null,
            "overflow_y": null,
            "padding": null,
            "right": null,
            "top": null,
            "visibility": null,
            "width": null
          }
        },
        "9ab5fe0ac4b84e61afda49bcf8ad1997": {
          "model_module": "@jupyter-widgets/controls",
          "model_name": "ProgressStyleModel",
          "model_module_version": "1.5.0",
          "state": {
            "_model_module": "@jupyter-widgets/controls",
            "_model_module_version": "1.5.0",
            "_model_name": "ProgressStyleModel",
            "_view_count": null,
            "_view_module": "@jupyter-widgets/base",
            "_view_module_version": "1.2.0",
            "_view_name": "StyleView",
            "bar_color": null,
            "description_width": ""
          }
        },
        "3c941f0bcd6640168b297172eb7d5cc7": {
          "model_module": "@jupyter-widgets/base",
          "model_name": "LayoutModel",
          "model_module_version": "1.2.0",
          "state": {
            "_model_module": "@jupyter-widgets/base",
            "_model_module_version": "1.2.0",
            "_model_name": "LayoutModel",
            "_view_count": null,
            "_view_module": "@jupyter-widgets/base",
            "_view_module_version": "1.2.0",
            "_view_name": "LayoutView",
            "align_content": null,
            "align_items": null,
            "align_self": null,
            "border": null,
            "bottom": null,
            "display": null,
            "flex": null,
            "flex_flow": null,
            "grid_area": null,
            "grid_auto_columns": null,
            "grid_auto_flow": null,
            "grid_auto_rows": null,
            "grid_column": null,
            "grid_gap": null,
            "grid_row": null,
            "grid_template_areas": null,
            "grid_template_columns": null,
            "grid_template_rows": null,
            "height": null,
            "justify_content": null,
            "justify_items": null,
            "left": null,
            "margin": null,
            "max_height": null,
            "max_width": null,
            "min_height": null,
            "min_width": null,
            "object_fit": null,
            "object_position": null,
            "order": null,
            "overflow": null,
            "overflow_x": null,
            "overflow_y": null,
            "padding": null,
            "right": null,
            "top": null,
            "visibility": null,
            "width": null
          }
        },
        "e497cd55846c4e06ac2cc4224317690a": {
          "model_module": "@jupyter-widgets/controls",
          "model_name": "DescriptionStyleModel",
          "model_module_version": "1.5.0",
          "state": {
            "_model_module": "@jupyter-widgets/controls",
            "_model_module_version": "1.5.0",
            "_model_name": "DescriptionStyleModel",
            "_view_count": null,
            "_view_module": "@jupyter-widgets/base",
            "_view_module_version": "1.2.0",
            "_view_name": "StyleView",
            "description_width": ""
          }
        },
        "edab01b8d9284330b47fb0c670cc5c28": {
          "model_module": "@jupyter-widgets/controls",
          "model_name": "HBoxModel",
          "model_module_version": "1.5.0",
          "state": {
            "_dom_classes": [],
            "_model_module": "@jupyter-widgets/controls",
            "_model_module_version": "1.5.0",
            "_model_name": "HBoxModel",
            "_view_count": null,
            "_view_module": "@jupyter-widgets/controls",
            "_view_module_version": "1.5.0",
            "_view_name": "HBoxView",
            "box_style": "",
            "children": [
              "IPY_MODEL_cf7e0eba6b3e40f0958fc5aabe0c97c7",
              "IPY_MODEL_ab52c6d7d0294ecfb9a3b20d27f914bb",
              "IPY_MODEL_6e23a09ccef64220a50230b773d1d5e4"
            ],
            "layout": "IPY_MODEL_4f8eb337ae2d40ea96cbb995e2bcff92"
          }
        },
        "cf7e0eba6b3e40f0958fc5aabe0c97c7": {
          "model_module": "@jupyter-widgets/controls",
          "model_name": "HTMLModel",
          "model_module_version": "1.5.0",
          "state": {
            "_dom_classes": [],
            "_model_module": "@jupyter-widgets/controls",
            "_model_module_version": "1.5.0",
            "_model_name": "HTMLModel",
            "_view_count": null,
            "_view_module": "@jupyter-widgets/controls",
            "_view_module_version": "1.5.0",
            "_view_name": "HTMLView",
            "description": "",
            "description_tooltip": null,
            "layout": "IPY_MODEL_1ef0530621cc42e5a4874e2a9b74ee55",
            "placeholder": "​",
            "style": "IPY_MODEL_49ca76e5f0e94730bc532f91ca3bc42d",
            "value": "tokenizer.json: 100%"
          }
        },
        "ab52c6d7d0294ecfb9a3b20d27f914bb": {
          "model_module": "@jupyter-widgets/controls",
          "model_name": "FloatProgressModel",
          "model_module_version": "1.5.0",
          "state": {
            "_dom_classes": [],
            "_model_module": "@jupyter-widgets/controls",
            "_model_module_version": "1.5.0",
            "_model_name": "FloatProgressModel",
            "_view_count": null,
            "_view_module": "@jupyter-widgets/controls",
            "_view_module_version": "1.5.0",
            "_view_name": "ProgressView",
            "bar_style": "success",
            "description": "",
            "description_tooltip": null,
            "layout": "IPY_MODEL_c17af5c5bc564fd48040bf5409c902b1",
            "max": 3573554,
            "min": 0,
            "orientation": "horizontal",
            "style": "IPY_MODEL_1000329fc4534989a594a6dcceb64236",
            "value": 3573554
          }
        },
        "6e23a09ccef64220a50230b773d1d5e4": {
          "model_module": "@jupyter-widgets/controls",
          "model_name": "HTMLModel",
          "model_module_version": "1.5.0",
          "state": {
            "_dom_classes": [],
            "_model_module": "@jupyter-widgets/controls",
            "_model_module_version": "1.5.0",
            "_model_name": "HTMLModel",
            "_view_count": null,
            "_view_module": "@jupyter-widgets/controls",
            "_view_module_version": "1.5.0",
            "_view_name": "HTMLView",
            "description": "",
            "description_tooltip": null,
            "layout": "IPY_MODEL_93c0ff9657244f448ee7ae8d616a2b38",
            "placeholder": "​",
            "style": "IPY_MODEL_b4c099a7641449db8eacf46063afdb36",
            "value": " 3.57M/3.57M [00:02&lt;00:00, 1.20MB/s]"
          }
        },
        "4f8eb337ae2d40ea96cbb995e2bcff92": {
          "model_module": "@jupyter-widgets/base",
          "model_name": "LayoutModel",
          "model_module_version": "1.2.0",
          "state": {
            "_model_module": "@jupyter-widgets/base",
            "_model_module_version": "1.2.0",
            "_model_name": "LayoutModel",
            "_view_count": null,
            "_view_module": "@jupyter-widgets/base",
            "_view_module_version": "1.2.0",
            "_view_name": "LayoutView",
            "align_content": null,
            "align_items": null,
            "align_self": null,
            "border": null,
            "bottom": null,
            "display": null,
            "flex": null,
            "flex_flow": null,
            "grid_area": null,
            "grid_auto_columns": null,
            "grid_auto_flow": null,
            "grid_auto_rows": null,
            "grid_column": null,
            "grid_gap": null,
            "grid_row": null,
            "grid_template_areas": null,
            "grid_template_columns": null,
            "grid_template_rows": null,
            "height": null,
            "justify_content": null,
            "justify_items": null,
            "left": null,
            "margin": null,
            "max_height": null,
            "max_width": null,
            "min_height": null,
            "min_width": null,
            "object_fit": null,
            "object_position": null,
            "order": null,
            "overflow": null,
            "overflow_x": null,
            "overflow_y": null,
            "padding": null,
            "right": null,
            "top": null,
            "visibility": null,
            "width": null
          }
        },
        "1ef0530621cc42e5a4874e2a9b74ee55": {
          "model_module": "@jupyter-widgets/base",
          "model_name": "LayoutModel",
          "model_module_version": "1.2.0",
          "state": {
            "_model_module": "@jupyter-widgets/base",
            "_model_module_version": "1.2.0",
            "_model_name": "LayoutModel",
            "_view_count": null,
            "_view_module": "@jupyter-widgets/base",
            "_view_module_version": "1.2.0",
            "_view_name": "LayoutView",
            "align_content": null,
            "align_items": null,
            "align_self": null,
            "border": null,
            "bottom": null,
            "display": null,
            "flex": null,
            "flex_flow": null,
            "grid_area": null,
            "grid_auto_columns": null,
            "grid_auto_flow": null,
            "grid_auto_rows": null,
            "grid_column": null,
            "grid_gap": null,
            "grid_row": null,
            "grid_template_areas": null,
            "grid_template_columns": null,
            "grid_template_rows": null,
            "height": null,
            "justify_content": null,
            "justify_items": null,
            "left": null,
            "margin": null,
            "max_height": null,
            "max_width": null,
            "min_height": null,
            "min_width": null,
            "object_fit": null,
            "object_position": null,
            "order": null,
            "overflow": null,
            "overflow_x": null,
            "overflow_y": null,
            "padding": null,
            "right": null,
            "top": null,
            "visibility": null,
            "width": null
          }
        },
        "49ca76e5f0e94730bc532f91ca3bc42d": {
          "model_module": "@jupyter-widgets/controls",
          "model_name": "DescriptionStyleModel",
          "model_module_version": "1.5.0",
          "state": {
            "_model_module": "@jupyter-widgets/controls",
            "_model_module_version": "1.5.0",
            "_model_name": "DescriptionStyleModel",
            "_view_count": null,
            "_view_module": "@jupyter-widgets/base",
            "_view_module_version": "1.2.0",
            "_view_name": "StyleView",
            "description_width": ""
          }
        },
        "c17af5c5bc564fd48040bf5409c902b1": {
          "model_module": "@jupyter-widgets/base",
          "model_name": "LayoutModel",
          "model_module_version": "1.2.0",
          "state": {
            "_model_module": "@jupyter-widgets/base",
            "_model_module_version": "1.2.0",
            "_model_name": "LayoutModel",
            "_view_count": null,
            "_view_module": "@jupyter-widgets/base",
            "_view_module_version": "1.2.0",
            "_view_name": "LayoutView",
            "align_content": null,
            "align_items": null,
            "align_self": null,
            "border": null,
            "bottom": null,
            "display": null,
            "flex": null,
            "flex_flow": null,
            "grid_area": null,
            "grid_auto_columns": null,
            "grid_auto_flow": null,
            "grid_auto_rows": null,
            "grid_column": null,
            "grid_gap": null,
            "grid_row": null,
            "grid_template_areas": null,
            "grid_template_columns": null,
            "grid_template_rows": null,
            "height": null,
            "justify_content": null,
            "justify_items": null,
            "left": null,
            "margin": null,
            "max_height": null,
            "max_width": null,
            "min_height": null,
            "min_width": null,
            "object_fit": null,
            "object_position": null,
            "order": null,
            "overflow": null,
            "overflow_x": null,
            "overflow_y": null,
            "padding": null,
            "right": null,
            "top": null,
            "visibility": null,
            "width": null
          }
        },
        "1000329fc4534989a594a6dcceb64236": {
          "model_module": "@jupyter-widgets/controls",
          "model_name": "ProgressStyleModel",
          "model_module_version": "1.5.0",
          "state": {
            "_model_module": "@jupyter-widgets/controls",
            "_model_module_version": "1.5.0",
            "_model_name": "ProgressStyleModel",
            "_view_count": null,
            "_view_module": "@jupyter-widgets/base",
            "_view_module_version": "1.2.0",
            "_view_name": "StyleView",
            "bar_color": null,
            "description_width": ""
          }
        },
        "93c0ff9657244f448ee7ae8d616a2b38": {
          "model_module": "@jupyter-widgets/base",
          "model_name": "LayoutModel",
          "model_module_version": "1.2.0",
          "state": {
            "_model_module": "@jupyter-widgets/base",
            "_model_module_version": "1.2.0",
            "_model_name": "LayoutModel",
            "_view_count": null,
            "_view_module": "@jupyter-widgets/base",
            "_view_module_version": "1.2.0",
            "_view_name": "LayoutView",
            "align_content": null,
            "align_items": null,
            "align_self": null,
            "border": null,
            "bottom": null,
            "display": null,
            "flex": null,
            "flex_flow": null,
            "grid_area": null,
            "grid_auto_columns": null,
            "grid_auto_flow": null,
            "grid_auto_rows": null,
            "grid_column": null,
            "grid_gap": null,
            "grid_row": null,
            "grid_template_areas": null,
            "grid_template_columns": null,
            "grid_template_rows": null,
            "height": null,
            "justify_content": null,
            "justify_items": null,
            "left": null,
            "margin": null,
            "max_height": null,
            "max_width": null,
            "min_height": null,
            "min_width": null,
            "object_fit": null,
            "object_position": null,
            "order": null,
            "overflow": null,
            "overflow_x": null,
            "overflow_y": null,
            "padding": null,
            "right": null,
            "top": null,
            "visibility": null,
            "width": null
          }
        },
        "b4c099a7641449db8eacf46063afdb36": {
          "model_module": "@jupyter-widgets/controls",
          "model_name": "DescriptionStyleModel",
          "model_module_version": "1.5.0",
          "state": {
            "_model_module": "@jupyter-widgets/controls",
            "_model_module_version": "1.5.0",
            "_model_name": "DescriptionStyleModel",
            "_view_count": null,
            "_view_module": "@jupyter-widgets/base",
            "_view_module_version": "1.2.0",
            "_view_name": "StyleView",
            "description_width": ""
          }
        },
        "163351f680ca468aac4b8f6a4b2698b3": {
          "model_module": "@jupyter-widgets/controls",
          "model_name": "HBoxModel",
          "model_module_version": "1.5.0",
          "state": {
            "_dom_classes": [],
            "_model_module": "@jupyter-widgets/controls",
            "_model_module_version": "1.5.0",
            "_model_name": "HBoxModel",
            "_view_count": null,
            "_view_module": "@jupyter-widgets/controls",
            "_view_module_version": "1.5.0",
            "_view_name": "HBoxView",
            "box_style": "",
            "children": [
              "IPY_MODEL_eceea48928f541138c76cb23f04f582c",
              "IPY_MODEL_cb28bbcb85dc4f54bff726604c120b37",
              "IPY_MODEL_f415bf4717884291ba66c2cad0c0741b"
            ],
            "layout": "IPY_MODEL_35ae30e9e96a478381a2fc1403314aab"
          }
        },
        "eceea48928f541138c76cb23f04f582c": {
          "model_module": "@jupyter-widgets/controls",
          "model_name": "HTMLModel",
          "model_module_version": "1.5.0",
          "state": {
            "_dom_classes": [],
            "_model_module": "@jupyter-widgets/controls",
            "_model_module_version": "1.5.0",
            "_model_name": "HTMLModel",
            "_view_count": null,
            "_view_module": "@jupyter-widgets/controls",
            "_view_module_version": "1.5.0",
            "_view_name": "HTMLView",
            "description": "",
            "description_tooltip": null,
            "layout": "IPY_MODEL_cf9a3aa6c9704df6b5b707845cc21821",
            "placeholder": "​",
            "style": "IPY_MODEL_05153f2a137d4eccab04ef8c43c4cacb",
            "value": "special_tokens_map.json: 100%"
          }
        },
        "cb28bbcb85dc4f54bff726604c120b37": {
          "model_module": "@jupyter-widgets/controls",
          "model_name": "FloatProgressModel",
          "model_module_version": "1.5.0",
          "state": {
            "_dom_classes": [],
            "_model_module": "@jupyter-widgets/controls",
            "_model_module_version": "1.5.0",
            "_model_name": "FloatProgressModel",
            "_view_count": null,
            "_view_module": "@jupyter-widgets/controls",
            "_view_module_version": "1.5.0",
            "_view_name": "ProgressView",
            "bar_style": "success",
            "description": "",
            "description_tooltip": null,
            "layout": "IPY_MODEL_980e23465bf549c1aaa4b69a8e6faf26",
            "max": 125,
            "min": 0,
            "orientation": "horizontal",
            "style": "IPY_MODEL_14cdf865785c4a6a9c4e7ab1ba821840",
            "value": 125
          }
        },
        "f415bf4717884291ba66c2cad0c0741b": {
          "model_module": "@jupyter-widgets/controls",
          "model_name": "HTMLModel",
          "model_module_version": "1.5.0",
          "state": {
            "_dom_classes": [],
            "_model_module": "@jupyter-widgets/controls",
            "_model_module_version": "1.5.0",
            "_model_name": "HTMLModel",
            "_view_count": null,
            "_view_module": "@jupyter-widgets/controls",
            "_view_module_version": "1.5.0",
            "_view_name": "HTMLView",
            "description": "",
            "description_tooltip": null,
            "layout": "IPY_MODEL_1e08c03e371642f38843c0d8f892383d",
            "placeholder": "​",
            "style": "IPY_MODEL_5584de63d67f46e08a922dcdc8a4bcc8",
            "value": " 125/125 [00:00&lt;00:00, 5.33kB/s]"
          }
        },
        "35ae30e9e96a478381a2fc1403314aab": {
          "model_module": "@jupyter-widgets/base",
          "model_name": "LayoutModel",
          "model_module_version": "1.2.0",
          "state": {
            "_model_module": "@jupyter-widgets/base",
            "_model_module_version": "1.2.0",
            "_model_name": "LayoutModel",
            "_view_count": null,
            "_view_module": "@jupyter-widgets/base",
            "_view_module_version": "1.2.0",
            "_view_name": "LayoutView",
            "align_content": null,
            "align_items": null,
            "align_self": null,
            "border": null,
            "bottom": null,
            "display": null,
            "flex": null,
            "flex_flow": null,
            "grid_area": null,
            "grid_auto_columns": null,
            "grid_auto_flow": null,
            "grid_auto_rows": null,
            "grid_column": null,
            "grid_gap": null,
            "grid_row": null,
            "grid_template_areas": null,
            "grid_template_columns": null,
            "grid_template_rows": null,
            "height": null,
            "justify_content": null,
            "justify_items": null,
            "left": null,
            "margin": null,
            "max_height": null,
            "max_width": null,
            "min_height": null,
            "min_width": null,
            "object_fit": null,
            "object_position": null,
            "order": null,
            "overflow": null,
            "overflow_x": null,
            "overflow_y": null,
            "padding": null,
            "right": null,
            "top": null,
            "visibility": null,
            "width": null
          }
        },
        "cf9a3aa6c9704df6b5b707845cc21821": {
          "model_module": "@jupyter-widgets/base",
          "model_name": "LayoutModel",
          "model_module_version": "1.2.0",
          "state": {
            "_model_module": "@jupyter-widgets/base",
            "_model_module_version": "1.2.0",
            "_model_name": "LayoutModel",
            "_view_count": null,
            "_view_module": "@jupyter-widgets/base",
            "_view_module_version": "1.2.0",
            "_view_name": "LayoutView",
            "align_content": null,
            "align_items": null,
            "align_self": null,
            "border": null,
            "bottom": null,
            "display": null,
            "flex": null,
            "flex_flow": null,
            "grid_area": null,
            "grid_auto_columns": null,
            "grid_auto_flow": null,
            "grid_auto_rows": null,
            "grid_column": null,
            "grid_gap": null,
            "grid_row": null,
            "grid_template_areas": null,
            "grid_template_columns": null,
            "grid_template_rows": null,
            "height": null,
            "justify_content": null,
            "justify_items": null,
            "left": null,
            "margin": null,
            "max_height": null,
            "max_width": null,
            "min_height": null,
            "min_width": null,
            "object_fit": null,
            "object_position": null,
            "order": null,
            "overflow": null,
            "overflow_x": null,
            "overflow_y": null,
            "padding": null,
            "right": null,
            "top": null,
            "visibility": null,
            "width": null
          }
        },
        "05153f2a137d4eccab04ef8c43c4cacb": {
          "model_module": "@jupyter-widgets/controls",
          "model_name": "DescriptionStyleModel",
          "model_module_version": "1.5.0",
          "state": {
            "_model_module": "@jupyter-widgets/controls",
            "_model_module_version": "1.5.0",
            "_model_name": "DescriptionStyleModel",
            "_view_count": null,
            "_view_module": "@jupyter-widgets/base",
            "_view_module_version": "1.2.0",
            "_view_name": "StyleView",
            "description_width": ""
          }
        },
        "980e23465bf549c1aaa4b69a8e6faf26": {
          "model_module": "@jupyter-widgets/base",
          "model_name": "LayoutModel",
          "model_module_version": "1.2.0",
          "state": {
            "_model_module": "@jupyter-widgets/base",
            "_model_module_version": "1.2.0",
            "_model_name": "LayoutModel",
            "_view_count": null,
            "_view_module": "@jupyter-widgets/base",
            "_view_module_version": "1.2.0",
            "_view_name": "LayoutView",
            "align_content": null,
            "align_items": null,
            "align_self": null,
            "border": null,
            "bottom": null,
            "display": null,
            "flex": null,
            "flex_flow": null,
            "grid_area": null,
            "grid_auto_columns": null,
            "grid_auto_flow": null,
            "grid_auto_rows": null,
            "grid_column": null,
            "grid_gap": null,
            "grid_row": null,
            "grid_template_areas": null,
            "grid_template_columns": null,
            "grid_template_rows": null,
            "height": null,
            "justify_content": null,
            "justify_items": null,
            "left": null,
            "margin": null,
            "max_height": null,
            "max_width": null,
            "min_height": null,
            "min_width": null,
            "object_fit": null,
            "object_position": null,
            "order": null,
            "overflow": null,
            "overflow_x": null,
            "overflow_y": null,
            "padding": null,
            "right": null,
            "top": null,
            "visibility": null,
            "width": null
          }
        },
        "14cdf865785c4a6a9c4e7ab1ba821840": {
          "model_module": "@jupyter-widgets/controls",
          "model_name": "ProgressStyleModel",
          "model_module_version": "1.5.0",
          "state": {
            "_model_module": "@jupyter-widgets/controls",
            "_model_module_version": "1.5.0",
            "_model_name": "ProgressStyleModel",
            "_view_count": null,
            "_view_module": "@jupyter-widgets/base",
            "_view_module_version": "1.2.0",
            "_view_name": "StyleView",
            "bar_color": null,
            "description_width": ""
          }
        },
        "1e08c03e371642f38843c0d8f892383d": {
          "model_module": "@jupyter-widgets/base",
          "model_name": "LayoutModel",
          "model_module_version": "1.2.0",
          "state": {
            "_model_module": "@jupyter-widgets/base",
            "_model_module_version": "1.2.0",
            "_model_name": "LayoutModel",
            "_view_count": null,
            "_view_module": "@jupyter-widgets/base",
            "_view_module_version": "1.2.0",
            "_view_name": "LayoutView",
            "align_content": null,
            "align_items": null,
            "align_self": null,
            "border": null,
            "bottom": null,
            "display": null,
            "flex": null,
            "flex_flow": null,
            "grid_area": null,
            "grid_auto_columns": null,
            "grid_auto_flow": null,
            "grid_auto_rows": null,
            "grid_column": null,
            "grid_gap": null,
            "grid_row": null,
            "grid_template_areas": null,
            "grid_template_columns": null,
            "grid_template_rows": null,
            "height": null,
            "justify_content": null,
            "justify_items": null,
            "left": null,
            "margin": null,
            "max_height": null,
            "max_width": null,
            "min_height": null,
            "min_width": null,
            "object_fit": null,
            "object_position": null,
            "order": null,
            "overflow": null,
            "overflow_x": null,
            "overflow_y": null,
            "padding": null,
            "right": null,
            "top": null,
            "visibility": null,
            "width": null
          }
        },
        "5584de63d67f46e08a922dcdc8a4bcc8": {
          "model_module": "@jupyter-widgets/controls",
          "model_name": "DescriptionStyleModel",
          "model_module_version": "1.5.0",
          "state": {
            "_model_module": "@jupyter-widgets/controls",
            "_model_module_version": "1.5.0",
            "_model_name": "DescriptionStyleModel",
            "_view_count": null,
            "_view_module": "@jupyter-widgets/base",
            "_view_module_version": "1.2.0",
            "_view_name": "StyleView",
            "description_width": ""
          }
        },
        "b86329963d464d87ac5d6a289aae4e11": {
          "model_module": "@jupyter-widgets/controls",
          "model_name": "HBoxModel",
          "model_module_version": "1.5.0",
          "state": {
            "_dom_classes": [],
            "_model_module": "@jupyter-widgets/controls",
            "_model_module_version": "1.5.0",
            "_model_name": "HBoxModel",
            "_view_count": null,
            "_view_module": "@jupyter-widgets/controls",
            "_view_module_version": "1.5.0",
            "_view_name": "HBoxView",
            "box_style": "",
            "children": [
              "IPY_MODEL_53204ecb2d79475ba4887f036c2cb274",
              "IPY_MODEL_ac3a98ed3cc346629f3f56f49067185f",
              "IPY_MODEL_24db486109c643d9b8948ccc36d2fe7f"
            ],
            "layout": "IPY_MODEL_2032a73b261d4cb28a6660b3ed908d50"
          }
        },
        "53204ecb2d79475ba4887f036c2cb274": {
          "model_module": "@jupyter-widgets/controls",
          "model_name": "HTMLModel",
          "model_module_version": "1.5.0",
          "state": {
            "_dom_classes": [],
            "_model_module": "@jupyter-widgets/controls",
            "_model_module_version": "1.5.0",
            "_model_name": "HTMLModel",
            "_view_count": null,
            "_view_module": "@jupyter-widgets/controls",
            "_view_module_version": "1.5.0",
            "_view_name": "HTMLView",
            "description": "",
            "description_tooltip": null,
            "layout": "IPY_MODEL_40d66ef95d024b3eb5eca487fc5e5158",
            "placeholder": "​",
            "style": "IPY_MODEL_628cd85213634c79a9136b20b3b03d3f",
            "value": "config.json: 100%"
          }
        },
        "ac3a98ed3cc346629f3f56f49067185f": {
          "model_module": "@jupyter-widgets/controls",
          "model_name": "FloatProgressModel",
          "model_module_version": "1.5.0",
          "state": {
            "_dom_classes": [],
            "_model_module": "@jupyter-widgets/controls",
            "_model_module_version": "1.5.0",
            "_model_name": "FloatProgressModel",
            "_view_count": null,
            "_view_module": "@jupyter-widgets/controls",
            "_view_module_version": "1.5.0",
            "_view_name": "ProgressView",
            "bar_style": "success",
            "description": "",
            "description_tooltip": null,
            "layout": "IPY_MODEL_cf815c88e8f4462c8c461e5d1a3963ae",
            "max": 1020,
            "min": 0,
            "orientation": "horizontal",
            "style": "IPY_MODEL_f7bd3345cb3d4b1ca4245db19b5db644",
            "value": 1020
          }
        },
        "24db486109c643d9b8948ccc36d2fe7f": {
          "model_module": "@jupyter-widgets/controls",
          "model_name": "HTMLModel",
          "model_module_version": "1.5.0",
          "state": {
            "_dom_classes": [],
            "_model_module": "@jupyter-widgets/controls",
            "_model_module_version": "1.5.0",
            "_model_name": "HTMLModel",
            "_view_count": null,
            "_view_module": "@jupyter-widgets/controls",
            "_view_module_version": "1.5.0",
            "_view_name": "HTMLView",
            "description": "",
            "description_tooltip": null,
            "layout": "IPY_MODEL_114a1caba5204096a9027dd9bbdf9e60",
            "placeholder": "​",
            "style": "IPY_MODEL_00a710adfe8b4e8fa02902a2292fa3c1",
            "value": " 1.02k/1.02k [00:00&lt;00:00, 73.5kB/s]"
          }
        },
        "2032a73b261d4cb28a6660b3ed908d50": {
          "model_module": "@jupyter-widgets/base",
          "model_name": "LayoutModel",
          "model_module_version": "1.2.0",
          "state": {
            "_model_module": "@jupyter-widgets/base",
            "_model_module_version": "1.2.0",
            "_model_name": "LayoutModel",
            "_view_count": null,
            "_view_module": "@jupyter-widgets/base",
            "_view_module_version": "1.2.0",
            "_view_name": "LayoutView",
            "align_content": null,
            "align_items": null,
            "align_self": null,
            "border": null,
            "bottom": null,
            "display": null,
            "flex": null,
            "flex_flow": null,
            "grid_area": null,
            "grid_auto_columns": null,
            "grid_auto_flow": null,
            "grid_auto_rows": null,
            "grid_column": null,
            "grid_gap": null,
            "grid_row": null,
            "grid_template_areas": null,
            "grid_template_columns": null,
            "grid_template_rows": null,
            "height": null,
            "justify_content": null,
            "justify_items": null,
            "left": null,
            "margin": null,
            "max_height": null,
            "max_width": null,
            "min_height": null,
            "min_width": null,
            "object_fit": null,
            "object_position": null,
            "order": null,
            "overflow": null,
            "overflow_x": null,
            "overflow_y": null,
            "padding": null,
            "right": null,
            "top": null,
            "visibility": null,
            "width": null
          }
        },
        "40d66ef95d024b3eb5eca487fc5e5158": {
          "model_module": "@jupyter-widgets/base",
          "model_name": "LayoutModel",
          "model_module_version": "1.2.0",
          "state": {
            "_model_module": "@jupyter-widgets/base",
            "_model_module_version": "1.2.0",
            "_model_name": "LayoutModel",
            "_view_count": null,
            "_view_module": "@jupyter-widgets/base",
            "_view_module_version": "1.2.0",
            "_view_name": "LayoutView",
            "align_content": null,
            "align_items": null,
            "align_self": null,
            "border": null,
            "bottom": null,
            "display": null,
            "flex": null,
            "flex_flow": null,
            "grid_area": null,
            "grid_auto_columns": null,
            "grid_auto_flow": null,
            "grid_auto_rows": null,
            "grid_column": null,
            "grid_gap": null,
            "grid_row": null,
            "grid_template_areas": null,
            "grid_template_columns": null,
            "grid_template_rows": null,
            "height": null,
            "justify_content": null,
            "justify_items": null,
            "left": null,
            "margin": null,
            "max_height": null,
            "max_width": null,
            "min_height": null,
            "min_width": null,
            "object_fit": null,
            "object_position": null,
            "order": null,
            "overflow": null,
            "overflow_x": null,
            "overflow_y": null,
            "padding": null,
            "right": null,
            "top": null,
            "visibility": null,
            "width": null
          }
        },
        "628cd85213634c79a9136b20b3b03d3f": {
          "model_module": "@jupyter-widgets/controls",
          "model_name": "DescriptionStyleModel",
          "model_module_version": "1.5.0",
          "state": {
            "_model_module": "@jupyter-widgets/controls",
            "_model_module_version": "1.5.0",
            "_model_name": "DescriptionStyleModel",
            "_view_count": null,
            "_view_module": "@jupyter-widgets/base",
            "_view_module_version": "1.2.0",
            "_view_name": "StyleView",
            "description_width": ""
          }
        },
        "cf815c88e8f4462c8c461e5d1a3963ae": {
          "model_module": "@jupyter-widgets/base",
          "model_name": "LayoutModel",
          "model_module_version": "1.2.0",
          "state": {
            "_model_module": "@jupyter-widgets/base",
            "_model_module_version": "1.2.0",
            "_model_name": "LayoutModel",
            "_view_count": null,
            "_view_module": "@jupyter-widgets/base",
            "_view_module_version": "1.2.0",
            "_view_name": "LayoutView",
            "align_content": null,
            "align_items": null,
            "align_self": null,
            "border": null,
            "bottom": null,
            "display": null,
            "flex": null,
            "flex_flow": null,
            "grid_area": null,
            "grid_auto_columns": null,
            "grid_auto_flow": null,
            "grid_auto_rows": null,
            "grid_column": null,
            "grid_gap": null,
            "grid_row": null,
            "grid_template_areas": null,
            "grid_template_columns": null,
            "grid_template_rows": null,
            "height": null,
            "justify_content": null,
            "justify_items": null,
            "left": null,
            "margin": null,
            "max_height": null,
            "max_width": null,
            "min_height": null,
            "min_width": null,
            "object_fit": null,
            "object_position": null,
            "order": null,
            "overflow": null,
            "overflow_x": null,
            "overflow_y": null,
            "padding": null,
            "right": null,
            "top": null,
            "visibility": null,
            "width": null
          }
        },
        "f7bd3345cb3d4b1ca4245db19b5db644": {
          "model_module": "@jupyter-widgets/controls",
          "model_name": "ProgressStyleModel",
          "model_module_version": "1.5.0",
          "state": {
            "_model_module": "@jupyter-widgets/controls",
            "_model_module_version": "1.5.0",
            "_model_name": "ProgressStyleModel",
            "_view_count": null,
            "_view_module": "@jupyter-widgets/base",
            "_view_module_version": "1.2.0",
            "_view_name": "StyleView",
            "bar_color": null,
            "description_width": ""
          }
        },
        "114a1caba5204096a9027dd9bbdf9e60": {
          "model_module": "@jupyter-widgets/base",
          "model_name": "LayoutModel",
          "model_module_version": "1.2.0",
          "state": {
            "_model_module": "@jupyter-widgets/base",
            "_model_module_version": "1.2.0",
            "_model_name": "LayoutModel",
            "_view_count": null,
            "_view_module": "@jupyter-widgets/base",
            "_view_module_version": "1.2.0",
            "_view_name": "LayoutView",
            "align_content": null,
            "align_items": null,
            "align_self": null,
            "border": null,
            "bottom": null,
            "display": null,
            "flex": null,
            "flex_flow": null,
            "grid_area": null,
            "grid_auto_columns": null,
            "grid_auto_flow": null,
            "grid_auto_rows": null,
            "grid_column": null,
            "grid_gap": null,
            "grid_row": null,
            "grid_template_areas": null,
            "grid_template_columns": null,
            "grid_template_rows": null,
            "height": null,
            "justify_content": null,
            "justify_items": null,
            "left": null,
            "margin": null,
            "max_height": null,
            "max_width": null,
            "min_height": null,
            "min_width": null,
            "object_fit": null,
            "object_position": null,
            "order": null,
            "overflow": null,
            "overflow_x": null,
            "overflow_y": null,
            "padding": null,
            "right": null,
            "top": null,
            "visibility": null,
            "width": null
          }
        },
        "00a710adfe8b4e8fa02902a2292fa3c1": {
          "model_module": "@jupyter-widgets/controls",
          "model_name": "DescriptionStyleModel",
          "model_module_version": "1.5.0",
          "state": {
            "_model_module": "@jupyter-widgets/controls",
            "_model_module_version": "1.5.0",
            "_model_name": "DescriptionStyleModel",
            "_view_count": null,
            "_view_module": "@jupyter-widgets/base",
            "_view_module_version": "1.2.0",
            "_view_name": "StyleView",
            "description_width": ""
          }
        },
        "40a727f6854945058f0f3cdd3b568a10": {
          "model_module": "@jupyter-widgets/controls",
          "model_name": "HBoxModel",
          "model_module_version": "1.5.0",
          "state": {
            "_dom_classes": [],
            "_model_module": "@jupyter-widgets/controls",
            "_model_module_version": "1.5.0",
            "_model_name": "HBoxModel",
            "_view_count": null,
            "_view_module": "@jupyter-widgets/controls",
            "_view_module_version": "1.5.0",
            "_view_name": "HBoxView",
            "box_style": "",
            "children": [
              "IPY_MODEL_02236bd81e26484eb2fe4f64effb5adb",
              "IPY_MODEL_72dc2f3e79f54b2d9eefca8040cf16b4",
              "IPY_MODEL_d12a923a407c4df9b980f98e102ef263"
            ],
            "layout": "IPY_MODEL_5083d0fa90da47a186c2541e38941432"
          }
        },
        "02236bd81e26484eb2fe4f64effb5adb": {
          "model_module": "@jupyter-widgets/controls",
          "model_name": "HTMLModel",
          "model_module_version": "1.5.0",
          "state": {
            "_dom_classes": [],
            "_model_module": "@jupyter-widgets/controls",
            "_model_module_version": "1.5.0",
            "_model_name": "HTMLModel",
            "_view_count": null,
            "_view_module": "@jupyter-widgets/controls",
            "_view_module_version": "1.5.0",
            "_view_name": "HTMLView",
            "description": "",
            "description_tooltip": null,
            "layout": "IPY_MODEL_72386f0975b64518b36576f87432c8df",
            "placeholder": "​",
            "style": "IPY_MODEL_cf897e65c98044778190b13d52d13830",
            "value": "model.safetensors: 100%"
          }
        },
        "72dc2f3e79f54b2d9eefca8040cf16b4": {
          "model_module": "@jupyter-widgets/controls",
          "model_name": "FloatProgressModel",
          "model_module_version": "1.5.0",
          "state": {
            "_dom_classes": [],
            "_model_module": "@jupyter-widgets/controls",
            "_model_module_version": "1.5.0",
            "_model_name": "FloatProgressModel",
            "_view_count": null,
            "_view_module": "@jupyter-widgets/controls",
            "_view_module_version": "1.5.0",
            "_view_name": "ProgressView",
            "bar_style": "success",
            "description": "",
            "description_tooltip": null,
            "layout": "IPY_MODEL_bd4fdc9f91fb4c85a3df267c5df39062",
            "max": 709083980,
            "min": 0,
            "orientation": "horizontal",
            "style": "IPY_MODEL_5e9a63014fd242399a8aff5838aafc6d",
            "value": 709083980
          }
        },
        "d12a923a407c4df9b980f98e102ef263": {
          "model_module": "@jupyter-widgets/controls",
          "model_name": "HTMLModel",
          "model_module_version": "1.5.0",
          "state": {
            "_dom_classes": [],
            "_model_module": "@jupyter-widgets/controls",
            "_model_module_version": "1.5.0",
            "_model_name": "HTMLModel",
            "_view_count": null,
            "_view_module": "@jupyter-widgets/controls",
            "_view_module_version": "1.5.0",
            "_view_name": "HTMLView",
            "description": "",
            "description_tooltip": null,
            "layout": "IPY_MODEL_fd315f336eac430085a31946cfb3f02f",
            "placeholder": "​",
            "style": "IPY_MODEL_7f6a5e819f0b43e0bf3f7f05eebe1021",
            "value": " 709M/709M [00:29&lt;00:00, 25.5MB/s]"
          }
        },
        "5083d0fa90da47a186c2541e38941432": {
          "model_module": "@jupyter-widgets/base",
          "model_name": "LayoutModel",
          "model_module_version": "1.2.0",
          "state": {
            "_model_module": "@jupyter-widgets/base",
            "_model_module_version": "1.2.0",
            "_model_name": "LayoutModel",
            "_view_count": null,
            "_view_module": "@jupyter-widgets/base",
            "_view_module_version": "1.2.0",
            "_view_name": "LayoutView",
            "align_content": null,
            "align_items": null,
            "align_self": null,
            "border": null,
            "bottom": null,
            "display": null,
            "flex": null,
            "flex_flow": null,
            "grid_area": null,
            "grid_auto_columns": null,
            "grid_auto_flow": null,
            "grid_auto_rows": null,
            "grid_column": null,
            "grid_gap": null,
            "grid_row": null,
            "grid_template_areas": null,
            "grid_template_columns": null,
            "grid_template_rows": null,
            "height": null,
            "justify_content": null,
            "justify_items": null,
            "left": null,
            "margin": null,
            "max_height": null,
            "max_width": null,
            "min_height": null,
            "min_width": null,
            "object_fit": null,
            "object_position": null,
            "order": null,
            "overflow": null,
            "overflow_x": null,
            "overflow_y": null,
            "padding": null,
            "right": null,
            "top": null,
            "visibility": null,
            "width": null
          }
        },
        "72386f0975b64518b36576f87432c8df": {
          "model_module": "@jupyter-widgets/base",
          "model_name": "LayoutModel",
          "model_module_version": "1.2.0",
          "state": {
            "_model_module": "@jupyter-widgets/base",
            "_model_module_version": "1.2.0",
            "_model_name": "LayoutModel",
            "_view_count": null,
            "_view_module": "@jupyter-widgets/base",
            "_view_module_version": "1.2.0",
            "_view_name": "LayoutView",
            "align_content": null,
            "align_items": null,
            "align_self": null,
            "border": null,
            "bottom": null,
            "display": null,
            "flex": null,
            "flex_flow": null,
            "grid_area": null,
            "grid_auto_columns": null,
            "grid_auto_flow": null,
            "grid_auto_rows": null,
            "grid_column": null,
            "grid_gap": null,
            "grid_row": null,
            "grid_template_areas": null,
            "grid_template_columns": null,
            "grid_template_rows": null,
            "height": null,
            "justify_content": null,
            "justify_items": null,
            "left": null,
            "margin": null,
            "max_height": null,
            "max_width": null,
            "min_height": null,
            "min_width": null,
            "object_fit": null,
            "object_position": null,
            "order": null,
            "overflow": null,
            "overflow_x": null,
            "overflow_y": null,
            "padding": null,
            "right": null,
            "top": null,
            "visibility": null,
            "width": null
          }
        },
        "cf897e65c98044778190b13d52d13830": {
          "model_module": "@jupyter-widgets/controls",
          "model_name": "DescriptionStyleModel",
          "model_module_version": "1.5.0",
          "state": {
            "_model_module": "@jupyter-widgets/controls",
            "_model_module_version": "1.5.0",
            "_model_name": "DescriptionStyleModel",
            "_view_count": null,
            "_view_module": "@jupyter-widgets/base",
            "_view_module_version": "1.2.0",
            "_view_name": "StyleView",
            "description_width": ""
          }
        },
        "bd4fdc9f91fb4c85a3df267c5df39062": {
          "model_module": "@jupyter-widgets/base",
          "model_name": "LayoutModel",
          "model_module_version": "1.2.0",
          "state": {
            "_model_module": "@jupyter-widgets/base",
            "_model_module_version": "1.2.0",
            "_model_name": "LayoutModel",
            "_view_count": null,
            "_view_module": "@jupyter-widgets/base",
            "_view_module_version": "1.2.0",
            "_view_name": "LayoutView",
            "align_content": null,
            "align_items": null,
            "align_self": null,
            "border": null,
            "bottom": null,
            "display": null,
            "flex": null,
            "flex_flow": null,
            "grid_area": null,
            "grid_auto_columns": null,
            "grid_auto_flow": null,
            "grid_auto_rows": null,
            "grid_column": null,
            "grid_gap": null,
            "grid_row": null,
            "grid_template_areas": null,
            "grid_template_columns": null,
            "grid_template_rows": null,
            "height": null,
            "justify_content": null,
            "justify_items": null,
            "left": null,
            "margin": null,
            "max_height": null,
            "max_width": null,
            "min_height": null,
            "min_width": null,
            "object_fit": null,
            "object_position": null,
            "order": null,
            "overflow": null,
            "overflow_x": null,
            "overflow_y": null,
            "padding": null,
            "right": null,
            "top": null,
            "visibility": null,
            "width": null
          }
        },
        "5e9a63014fd242399a8aff5838aafc6d": {
          "model_module": "@jupyter-widgets/controls",
          "model_name": "ProgressStyleModel",
          "model_module_version": "1.5.0",
          "state": {
            "_model_module": "@jupyter-widgets/controls",
            "_model_module_version": "1.5.0",
            "_model_name": "ProgressStyleModel",
            "_view_count": null,
            "_view_module": "@jupyter-widgets/base",
            "_view_module_version": "1.2.0",
            "_view_name": "StyleView",
            "bar_color": null,
            "description_width": ""
          }
        },
        "fd315f336eac430085a31946cfb3f02f": {
          "model_module": "@jupyter-widgets/base",
          "model_name": "LayoutModel",
          "model_module_version": "1.2.0",
          "state": {
            "_model_module": "@jupyter-widgets/base",
            "_model_module_version": "1.2.0",
            "_model_name": "LayoutModel",
            "_view_count": null,
            "_view_module": "@jupyter-widgets/base",
            "_view_module_version": "1.2.0",
            "_view_name": "LayoutView",
            "align_content": null,
            "align_items": null,
            "align_self": null,
            "border": null,
            "bottom": null,
            "display": null,
            "flex": null,
            "flex_flow": null,
            "grid_area": null,
            "grid_auto_columns": null,
            "grid_auto_flow": null,
            "grid_auto_rows": null,
            "grid_column": null,
            "grid_gap": null,
            "grid_row": null,
            "grid_template_areas": null,
            "grid_template_columns": null,
            "grid_template_rows": null,
            "height": null,
            "justify_content": null,
            "justify_items": null,
            "left": null,
            "margin": null,
            "max_height": null,
            "max_width": null,
            "min_height": null,
            "min_width": null,
            "object_fit": null,
            "object_position": null,
            "order": null,
            "overflow": null,
            "overflow_x": null,
            "overflow_y": null,
            "padding": null,
            "right": null,
            "top": null,
            "visibility": null,
            "width": null
          }
        },
        "7f6a5e819f0b43e0bf3f7f05eebe1021": {
          "model_module": "@jupyter-widgets/controls",
          "model_name": "DescriptionStyleModel",
          "model_module_version": "1.5.0",
          "state": {
            "_model_module": "@jupyter-widgets/controls",
            "_model_module_version": "1.5.0",
            "_model_name": "DescriptionStyleModel",
            "_view_count": null,
            "_view_module": "@jupyter-widgets/base",
            "_view_module_version": "1.2.0",
            "_view_name": "StyleView",
            "description_width": ""
          }
        }
      }
    }
  },
  "cells": [
    {
      "cell_type": "markdown",
      "source": [
        "### Установка необходимых пакетов и импорт библиотек"
      ],
      "metadata": {
        "id": "n7IAO78Y67mv"
      }
    },
    {
      "cell_type": "code",
      "source": [
        "!pip install emoji==1.4.1\n",
        "!pip install imblearn"
      ],
      "metadata": {
        "colab": {
          "base_uri": "https://localhost:8080/"
        },
        "id": "NB_bWrMx-AaI",
        "outputId": "ddf762a2-e363-4944-9996-4894bc4da020"
      },
      "execution_count": null,
      "outputs": [
        {
          "output_type": "stream",
          "name": "stdout",
          "text": [
            "Collecting emoji==1.4.1\n",
            "  Downloading emoji-1.4.1.tar.gz (185 kB)\n",
            "\u001b[?25l     \u001b[90m━━━━━━━━━━━━━━━━━━━━━━━━━━━━━━━━━━━━━━━━\u001b[0m \u001b[32m0.0/185.1 kB\u001b[0m \u001b[31m?\u001b[0m eta \u001b[36m-:--:--\u001b[0m\r\u001b[2K     \u001b[90m━━━━━━━━━━━━━━━━━━━━━━━━━━━━━━━━━━━━━━━━\u001b[0m \u001b[32m185.1/185.1 kB\u001b[0m \u001b[31m11.4 MB/s\u001b[0m eta \u001b[36m0:00:00\u001b[0m\n",
            "\u001b[?25h  Preparing metadata (setup.py) ... \u001b[?25l\u001b[?25hdone\n",
            "Building wheels for collected packages: emoji\n",
            "  Building wheel for emoji (setup.py) ... \u001b[?25l\u001b[?25hdone\n",
            "  Created wheel for emoji: filename=emoji-1.4.1-py3-none-any.whl size=186377 sha256=07e420bd865080c380539405d922a0700e6c96514a4f453ee001c0ba44ec91f6\n",
            "  Stored in directory: /root/.cache/pip/wheels/35/27/d6/a425b9b845119a8e2f1fb85f405bc4ba2a836bd2805c3c8403\n",
            "Successfully built emoji\n",
            "Installing collected packages: emoji\n",
            "Successfully installed emoji-1.4.1\n",
            "Collecting imblearn\n",
            "  Downloading imblearn-0.0-py2.py3-none-any.whl.metadata (355 bytes)\n",
            "Requirement already satisfied: imbalanced-learn in /usr/local/lib/python3.10/dist-packages (from imblearn) (0.12.4)\n",
            "Requirement already satisfied: numpy>=1.17.3 in /usr/local/lib/python3.10/dist-packages (from imbalanced-learn->imblearn) (1.26.4)\n",
            "Requirement already satisfied: scipy>=1.5.0 in /usr/local/lib/python3.10/dist-packages (from imbalanced-learn->imblearn) (1.13.1)\n",
            "Requirement already satisfied: scikit-learn>=1.0.2 in /usr/local/lib/python3.10/dist-packages (from imbalanced-learn->imblearn) (1.5.2)\n",
            "Requirement already satisfied: joblib>=1.1.1 in /usr/local/lib/python3.10/dist-packages (from imbalanced-learn->imblearn) (1.4.2)\n",
            "Requirement already satisfied: threadpoolctl>=2.0.0 in /usr/local/lib/python3.10/dist-packages (from imbalanced-learn->imblearn) (3.5.0)\n",
            "Downloading imblearn-0.0-py2.py3-none-any.whl (1.9 kB)\n",
            "Installing collected packages: imblearn\n",
            "Successfully installed imblearn-0.0\n"
          ]
        }
      ]
    },
    {
      "cell_type": "code",
      "source": [
        "import numpy as np\n",
        "\n",
        "# Работа с датафреймом\n",
        "import pandas as pd\n",
        "\n",
        "\n",
        "# Обработка данных\n",
        "import re, string\n",
        "import emoji\n",
        "import nltk\n",
        "from sklearn import preprocessing\n",
        "from imblearn.over_sampling import RandomOverSampler\n",
        "from sklearn.model_selection import train_test_split\n",
        "\n",
        "\n",
        "# Результаты BERT и roBert мы сравним с наивным байесовским классификатором\n",
        "from sklearn.feature_extraction.text import CountVectorizer\n",
        "from sklearn.feature_extraction.text import TfidfTransformer\n",
        "from sklearn.naive_bayes import MultinomialNB\n",
        "\n",
        "# Токены и модели из библиотеки transformers\n",
        "from transformers import BertTokenizerFast\n",
        "from transformers import TFBertModel\n",
        "from transformers import RobertaTokenizerFast\n",
        "from transformers import TFRobertaModel\n",
        "\n",
        "# Keras\n",
        "import tensorflow as tf\n",
        "from tensorflow import keras\n",
        "\n",
        "# Метрики\n",
        "from sklearn.metrics import accuracy_score, f1_score\n",
        "from sklearn.metrics import classification_report, confusion_matrix\n",
        "\n",
        "# Для воспроизводимости результатов\n",
        "seed=42\n",
        "\n",
        "# Настройка стилей для графиков\n",
        "import matplotlib.pyplot as plt\n",
        "import seaborn as sns\n",
        "sns.set_style(\"whitegrid\")\n",
        "sns.despine()\n",
        "plt.style.use(\"seaborn-whitegrid\")\n",
        "plt.rc(\"figure\", autolayout=True)\n",
        "plt.rc(\"axes\", labelweight=\"bold\", labelsize=\"large\", titleweight=\"bold\", titlepad=10)\n",
        "\n",
        "# Отключим мешаюшие предупреждения\n",
        "import warnings\n",
        "warnings.filterwarnings(\"ignore\")"
      ],
      "metadata": {
        "colab": {
          "base_uri": "https://localhost:8080/",
          "height": 89
        },
        "id": "mdmaUhhat_ZC",
        "outputId": "ae6f3e5d-a8fb-4308-b9b5-4fc8c83d159e"
      },
      "execution_count": null,
      "outputs": [
        {
          "output_type": "stream",
          "name": "stderr",
          "text": [
            "<ipython-input-3-c3ab30836ef0>:43: MatplotlibDeprecationWarning: The seaborn styles shipped by Matplotlib are deprecated since 3.6, as they no longer correspond to the styles shipped by seaborn. However, they will remain available as 'seaborn-v0_8-<style>'. Alternatively, directly use the seaborn API instead.\n",
            "  plt.style.use(\"seaborn-whitegrid\")\n"
          ]
        },
        {
          "output_type": "display_data",
          "data": {
            "text/plain": [
              "<Figure size 640x480 with 0 Axes>"
            ]
          },
          "metadata": {}
        }
      ]
    },
    {
      "cell_type": "code",
      "source": [
        "# или в более новых версиях\n",
        "df = pd.read_csv('/content/reviews.csv', encoding='utf-8', on_bad_lines='skip')"
      ],
      "metadata": {
        "id": "hGb9KXnSkg7E"
      },
      "execution_count": null,
      "outputs": []
    },
    {
      "cell_type": "code",
      "source": [
        "df.head()"
      ],
      "metadata": {
        "colab": {
          "base_uri": "https://localhost:8080/",
          "height": 206
        },
        "id": "tz7rF46PxQ6N",
        "outputId": "81a449a1-cb1e-420e-d75a-b1443a871f92"
      },
      "execution_count": null,
      "outputs": [
        {
          "output_type": "execute_result",
          "data": {
            "text/plain": [
              "                                              Review  Rating\n",
              "0  3D Touch просто восхитительная вещь! Заряд дер...       5\n",
              "1  Отключается при температуре близкой к нулю, не...       4\n",
              "2  В Apple окончательно решили не заморачиваться,...       3\n",
              "3  Постарался наиболее ёмко и коротко описать все...       4\n",
              "4  Достойный телефон. Пользоваться одно удовольст...       5"
            ],
            "text/html": [
              "\n",
              "  <div id=\"df-8484aa42-a08c-4332-a54d-c49256a4d1c6\" class=\"colab-df-container\">\n",
              "    <div>\n",
              "<style scoped>\n",
              "    .dataframe tbody tr th:only-of-type {\n",
              "        vertical-align: middle;\n",
              "    }\n",
              "\n",
              "    .dataframe tbody tr th {\n",
              "        vertical-align: top;\n",
              "    }\n",
              "\n",
              "    .dataframe thead th {\n",
              "        text-align: right;\n",
              "    }\n",
              "</style>\n",
              "<table border=\"1\" class=\"dataframe\">\n",
              "  <thead>\n",
              "    <tr style=\"text-align: right;\">\n",
              "      <th></th>\n",
              "      <th>Review</th>\n",
              "      <th>Rating</th>\n",
              "    </tr>\n",
              "  </thead>\n",
              "  <tbody>\n",
              "    <tr>\n",
              "      <th>0</th>\n",
              "      <td>3D Touch просто восхитительная вещь! Заряд дер...</td>\n",
              "      <td>5</td>\n",
              "    </tr>\n",
              "    <tr>\n",
              "      <th>1</th>\n",
              "      <td>Отключается при температуре близкой к нулю, не...</td>\n",
              "      <td>4</td>\n",
              "    </tr>\n",
              "    <tr>\n",
              "      <th>2</th>\n",
              "      <td>В Apple окончательно решили не заморачиваться,...</td>\n",
              "      <td>3</td>\n",
              "    </tr>\n",
              "    <tr>\n",
              "      <th>3</th>\n",
              "      <td>Постарался наиболее ёмко и коротко описать все...</td>\n",
              "      <td>4</td>\n",
              "    </tr>\n",
              "    <tr>\n",
              "      <th>4</th>\n",
              "      <td>Достойный телефон. Пользоваться одно удовольст...</td>\n",
              "      <td>5</td>\n",
              "    </tr>\n",
              "  </tbody>\n",
              "</table>\n",
              "</div>\n",
              "    <div class=\"colab-df-buttons\">\n",
              "\n",
              "  <div class=\"colab-df-container\">\n",
              "    <button class=\"colab-df-convert\" onclick=\"convertToInteractive('df-8484aa42-a08c-4332-a54d-c49256a4d1c6')\"\n",
              "            title=\"Convert this dataframe to an interactive table.\"\n",
              "            style=\"display:none;\">\n",
              "\n",
              "  <svg xmlns=\"http://www.w3.org/2000/svg\" height=\"24px\" viewBox=\"0 -960 960 960\">\n",
              "    <path d=\"M120-120v-720h720v720H120Zm60-500h600v-160H180v160Zm220 220h160v-160H400v160Zm0 220h160v-160H400v160ZM180-400h160v-160H180v160Zm440 0h160v-160H620v160ZM180-180h160v-160H180v160Zm440 0h160v-160H620v160Z\"/>\n",
              "  </svg>\n",
              "    </button>\n",
              "\n",
              "  <style>\n",
              "    .colab-df-container {\n",
              "      display:flex;\n",
              "      gap: 12px;\n",
              "    }\n",
              "\n",
              "    .colab-df-convert {\n",
              "      background-color: #E8F0FE;\n",
              "      border: none;\n",
              "      border-radius: 50%;\n",
              "      cursor: pointer;\n",
              "      display: none;\n",
              "      fill: #1967D2;\n",
              "      height: 32px;\n",
              "      padding: 0 0 0 0;\n",
              "      width: 32px;\n",
              "    }\n",
              "\n",
              "    .colab-df-convert:hover {\n",
              "      background-color: #E2EBFA;\n",
              "      box-shadow: 0px 1px 2px rgba(60, 64, 67, 0.3), 0px 1px 3px 1px rgba(60, 64, 67, 0.15);\n",
              "      fill: #174EA6;\n",
              "    }\n",
              "\n",
              "    .colab-df-buttons div {\n",
              "      margin-bottom: 4px;\n",
              "    }\n",
              "\n",
              "    [theme=dark] .colab-df-convert {\n",
              "      background-color: #3B4455;\n",
              "      fill: #D2E3FC;\n",
              "    }\n",
              "\n",
              "    [theme=dark] .colab-df-convert:hover {\n",
              "      background-color: #434B5C;\n",
              "      box-shadow: 0px 1px 3px 1px rgba(0, 0, 0, 0.15);\n",
              "      filter: drop-shadow(0px 1px 2px rgba(0, 0, 0, 0.3));\n",
              "      fill: #FFFFFF;\n",
              "    }\n",
              "  </style>\n",
              "\n",
              "    <script>\n",
              "      const buttonEl =\n",
              "        document.querySelector('#df-8484aa42-a08c-4332-a54d-c49256a4d1c6 button.colab-df-convert');\n",
              "      buttonEl.style.display =\n",
              "        google.colab.kernel.accessAllowed ? 'block' : 'none';\n",
              "\n",
              "      async function convertToInteractive(key) {\n",
              "        const element = document.querySelector('#df-8484aa42-a08c-4332-a54d-c49256a4d1c6');\n",
              "        const dataTable =\n",
              "          await google.colab.kernel.invokeFunction('convertToInteractive',\n",
              "                                                    [key], {});\n",
              "        if (!dataTable) return;\n",
              "\n",
              "        const docLinkHtml = 'Like what you see? Visit the ' +\n",
              "          '<a target=\"_blank\" href=https://colab.research.google.com/notebooks/data_table.ipynb>data table notebook</a>'\n",
              "          + ' to learn more about interactive tables.';\n",
              "        element.innerHTML = '';\n",
              "        dataTable['output_type'] = 'display_data';\n",
              "        await google.colab.output.renderOutput(dataTable, element);\n",
              "        const docLink = document.createElement('div');\n",
              "        docLink.innerHTML = docLinkHtml;\n",
              "        element.appendChild(docLink);\n",
              "      }\n",
              "    </script>\n",
              "  </div>\n",
              "\n",
              "\n",
              "<div id=\"df-594d7672-c9a0-4401-a1de-295a321ca49b\">\n",
              "  <button class=\"colab-df-quickchart\" onclick=\"quickchart('df-594d7672-c9a0-4401-a1de-295a321ca49b')\"\n",
              "            title=\"Suggest charts\"\n",
              "            style=\"display:none;\">\n",
              "\n",
              "<svg xmlns=\"http://www.w3.org/2000/svg\" height=\"24px\"viewBox=\"0 0 24 24\"\n",
              "     width=\"24px\">\n",
              "    <g>\n",
              "        <path d=\"M19 3H5c-1.1 0-2 .9-2 2v14c0 1.1.9 2 2 2h14c1.1 0 2-.9 2-2V5c0-1.1-.9-2-2-2zM9 17H7v-7h2v7zm4 0h-2V7h2v10zm4 0h-2v-4h2v4z\"/>\n",
              "    </g>\n",
              "</svg>\n",
              "  </button>\n",
              "\n",
              "<style>\n",
              "  .colab-df-quickchart {\n",
              "      --bg-color: #E8F0FE;\n",
              "      --fill-color: #1967D2;\n",
              "      --hover-bg-color: #E2EBFA;\n",
              "      --hover-fill-color: #174EA6;\n",
              "      --disabled-fill-color: #AAA;\n",
              "      --disabled-bg-color: #DDD;\n",
              "  }\n",
              "\n",
              "  [theme=dark] .colab-df-quickchart {\n",
              "      --bg-color: #3B4455;\n",
              "      --fill-color: #D2E3FC;\n",
              "      --hover-bg-color: #434B5C;\n",
              "      --hover-fill-color: #FFFFFF;\n",
              "      --disabled-bg-color: #3B4455;\n",
              "      --disabled-fill-color: #666;\n",
              "  }\n",
              "\n",
              "  .colab-df-quickchart {\n",
              "    background-color: var(--bg-color);\n",
              "    border: none;\n",
              "    border-radius: 50%;\n",
              "    cursor: pointer;\n",
              "    display: none;\n",
              "    fill: var(--fill-color);\n",
              "    height: 32px;\n",
              "    padding: 0;\n",
              "    width: 32px;\n",
              "  }\n",
              "\n",
              "  .colab-df-quickchart:hover {\n",
              "    background-color: var(--hover-bg-color);\n",
              "    box-shadow: 0 1px 2px rgba(60, 64, 67, 0.3), 0 1px 3px 1px rgba(60, 64, 67, 0.15);\n",
              "    fill: var(--button-hover-fill-color);\n",
              "  }\n",
              "\n",
              "  .colab-df-quickchart-complete:disabled,\n",
              "  .colab-df-quickchart-complete:disabled:hover {\n",
              "    background-color: var(--disabled-bg-color);\n",
              "    fill: var(--disabled-fill-color);\n",
              "    box-shadow: none;\n",
              "  }\n",
              "\n",
              "  .colab-df-spinner {\n",
              "    border: 2px solid var(--fill-color);\n",
              "    border-color: transparent;\n",
              "    border-bottom-color: var(--fill-color);\n",
              "    animation:\n",
              "      spin 1s steps(1) infinite;\n",
              "  }\n",
              "\n",
              "  @keyframes spin {\n",
              "    0% {\n",
              "      border-color: transparent;\n",
              "      border-bottom-color: var(--fill-color);\n",
              "      border-left-color: var(--fill-color);\n",
              "    }\n",
              "    20% {\n",
              "      border-color: transparent;\n",
              "      border-left-color: var(--fill-color);\n",
              "      border-top-color: var(--fill-color);\n",
              "    }\n",
              "    30% {\n",
              "      border-color: transparent;\n",
              "      border-left-color: var(--fill-color);\n",
              "      border-top-color: var(--fill-color);\n",
              "      border-right-color: var(--fill-color);\n",
              "    }\n",
              "    40% {\n",
              "      border-color: transparent;\n",
              "      border-right-color: var(--fill-color);\n",
              "      border-top-color: var(--fill-color);\n",
              "    }\n",
              "    60% {\n",
              "      border-color: transparent;\n",
              "      border-right-color: var(--fill-color);\n",
              "    }\n",
              "    80% {\n",
              "      border-color: transparent;\n",
              "      border-right-color: var(--fill-color);\n",
              "      border-bottom-color: var(--fill-color);\n",
              "    }\n",
              "    90% {\n",
              "      border-color: transparent;\n",
              "      border-bottom-color: var(--fill-color);\n",
              "    }\n",
              "  }\n",
              "</style>\n",
              "\n",
              "  <script>\n",
              "    async function quickchart(key) {\n",
              "      const quickchartButtonEl =\n",
              "        document.querySelector('#' + key + ' button');\n",
              "      quickchartButtonEl.disabled = true;  // To prevent multiple clicks.\n",
              "      quickchartButtonEl.classList.add('colab-df-spinner');\n",
              "      try {\n",
              "        const charts = await google.colab.kernel.invokeFunction(\n",
              "            'suggestCharts', [key], {});\n",
              "      } catch (error) {\n",
              "        console.error('Error during call to suggestCharts:', error);\n",
              "      }\n",
              "      quickchartButtonEl.classList.remove('colab-df-spinner');\n",
              "      quickchartButtonEl.classList.add('colab-df-quickchart-complete');\n",
              "    }\n",
              "    (() => {\n",
              "      let quickchartButtonEl =\n",
              "        document.querySelector('#df-594d7672-c9a0-4401-a1de-295a321ca49b button');\n",
              "      quickchartButtonEl.style.display =\n",
              "        google.colab.kernel.accessAllowed ? 'block' : 'none';\n",
              "    })();\n",
              "  </script>\n",
              "</div>\n",
              "    </div>\n",
              "  </div>\n"
            ],
            "application/vnd.google.colaboratory.intrinsic+json": {
              "type": "dataframe",
              "variable_name": "df"
            }
          },
          "metadata": {},
          "execution_count": 5
        }
      ]
    },
    {
      "cell_type": "code",
      "source": [
        "#df = df.drop(columns=['Restaurant', 'Reviewer', 'Metadata', 'Time', 'Pictures', '7514'])"
      ],
      "metadata": {
        "id": "BbLz4Vgqo1Ky"
      },
      "execution_count": null,
      "outputs": []
    },
    {
      "cell_type": "code",
      "source": [
        "df.drop_duplicates(inplace = True)"
      ],
      "metadata": {
        "id": "gAgfMd57pO6E"
      },
      "execution_count": null,
      "outputs": []
    },
    {
      "cell_type": "code",
      "source": [
        "df.shape"
      ],
      "metadata": {
        "colab": {
          "base_uri": "https://localhost:8080/"
        },
        "id": "8k1tzaYrxeb_",
        "outputId": "d601c77f-3656-41c9-8000-a4a0b8935aa7"
      },
      "execution_count": null,
      "outputs": [
        {
          "output_type": "execute_result",
          "data": {
            "text/plain": [
              "(321106, 2)"
            ]
          },
          "metadata": {},
          "execution_count": 7
        }
      ]
    },
    {
      "cell_type": "code",
      "source": [
        "df.isna().sum()"
      ],
      "metadata": {
        "colab": {
          "base_uri": "https://localhost:8080/",
          "height": 147
        },
        "id": "hb-B-QPMpX7g",
        "outputId": "66dd0829-9d86-4134-e7cb-a764aa8eb4ea"
      },
      "execution_count": null,
      "outputs": [
        {
          "output_type": "execute_result",
          "data": {
            "text/plain": [
              "Review    5\n",
              "Rating    0\n",
              "dtype: int64"
            ],
            "text/html": [
              "<div>\n",
              "<style scoped>\n",
              "    .dataframe tbody tr th:only-of-type {\n",
              "        vertical-align: middle;\n",
              "    }\n",
              "\n",
              "    .dataframe tbody tr th {\n",
              "        vertical-align: top;\n",
              "    }\n",
              "\n",
              "    .dataframe thead th {\n",
              "        text-align: right;\n",
              "    }\n",
              "</style>\n",
              "<table border=\"1\" class=\"dataframe\">\n",
              "  <thead>\n",
              "    <tr style=\"text-align: right;\">\n",
              "      <th></th>\n",
              "      <th>0</th>\n",
              "    </tr>\n",
              "  </thead>\n",
              "  <tbody>\n",
              "    <tr>\n",
              "      <th>Review</th>\n",
              "      <td>5</td>\n",
              "    </tr>\n",
              "    <tr>\n",
              "      <th>Rating</th>\n",
              "      <td>0</td>\n",
              "    </tr>\n",
              "  </tbody>\n",
              "</table>\n",
              "</div><br><label><b>dtype:</b> int64</label>"
            ]
          },
          "metadata": {},
          "execution_count": 8
        }
      ]
    },
    {
      "cell_type": "code",
      "source": [
        "df = df.dropna()"
      ],
      "metadata": {
        "id": "B-XS9okopbhw"
      },
      "execution_count": null,
      "outputs": []
    },
    {
      "cell_type": "code",
      "source": [
        "df.info()"
      ],
      "metadata": {
        "colab": {
          "base_uri": "https://localhost:8080/"
        },
        "id": "aCfFwh8znJXW",
        "outputId": "e6769688-5e9c-46e0-fd36-7bfea103a6cd"
      },
      "execution_count": null,
      "outputs": [
        {
          "output_type": "stream",
          "name": "stdout",
          "text": [
            "<class 'pandas.core.frame.DataFrame'>\n",
            "Index: 321101 entries, 0 to 458432\n",
            "Data columns (total 2 columns):\n",
            " #   Column  Non-Null Count   Dtype \n",
            "---  ------  --------------   ----- \n",
            " 0   Review  321101 non-null  object\n",
            " 1   Rating  321101 non-null  int64 \n",
            "dtypes: int64(1), object(1)\n",
            "memory usage: 7.3+ MB\n"
          ]
        }
      ]
    },
    {
      "cell_type": "code",
      "source": [
        "df.shape"
      ],
      "metadata": {
        "colab": {
          "base_uri": "https://localhost:8080/"
        },
        "id": "mtqJ0lTbuySW",
        "outputId": "a232ed33-e4cc-435f-81cc-114d92d276b0"
      },
      "execution_count": null,
      "outputs": [
        {
          "output_type": "execute_result",
          "data": {
            "text/plain": [
              "(321101, 2)"
            ]
          },
          "metadata": {},
          "execution_count": 11
        }
      ]
    },
    {
      "cell_type": "code",
      "source": [
        "df = df.iloc[:40000]"
      ],
      "metadata": {
        "id": "2YZWObTeDiCc"
      },
      "execution_count": null,
      "outputs": []
    },
    {
      "cell_type": "markdown",
      "source": [
        "Импортируем библиотеки:"
      ],
      "metadata": {
        "id": "DXa9S6hZ6764"
      }
    },
    {
      "cell_type": "markdown",
      "source": [
        "# Вспомогательные функции"
      ],
      "metadata": {
        "id": "tVvCGv4pArKV"
      }
    },
    {
      "cell_type": "markdown",
      "source": [
        "Определим функцию для вывода матрицы ошибок."
      ],
      "metadata": {
        "id": "aYgQolvwBrQe"
      }
    },
    {
      "cell_type": "code",
      "source": [
        "def conf_matrix(y, y_pred, title):\n",
        "    fig, ax =plt.subplots(figsize=(5,5))\n",
        "    labels = ['1', '2', '3', '4', '5']\n",
        "    ax=sns.heatmap(confusion_matrix(y, y_pred), annot=True, cmap=\"Blues\", fmt='g', cbar=False, annot_kws={\"size\":25})\n",
        "    plt.title(title, fontsize=20)\n",
        "    ax.xaxis.set_ticklabels(labels, fontsize=17)\n",
        "    ax.yaxis.set_ticklabels(labels, fontsize=17)\n",
        "    ax.set_ylabel('Тест', fontsize=20)\n",
        "    ax.set_xlabel('Предсказание', fontsize=20)\n",
        "    plt.show()"
      ],
      "metadata": {
        "id": "2E7GY9BZBTUP"
      },
      "execution_count": null,
      "outputs": []
    },
    {
      "cell_type": "markdown",
      "source": [
        "### Предобработка и анализ данных"
      ],
      "metadata": {
        "id": "U_kHNZqvFv_w"
      }
    },
    {
      "cell_type": "code",
      "source": [
        "df.rename(columns={'Review': 'OriginalTweet', 'Rating': 'Sentiment'}, inplace=True)"
      ],
      "metadata": {
        "id": "JfdUQzjVzA1b"
      },
      "execution_count": null,
      "outputs": []
    },
    {
      "cell_type": "markdown",
      "source": [
        "Определим функцию очистки"
      ],
      "metadata": {
        "id": "3DEqfiHB1mDg"
      }
    },
    {
      "cell_type": "code",
      "source": [
        "# Очистка emojis из текстов\n",
        "def strip_emoji(text):\n",
        "    return re.sub(emoji.get_emoji_regexp(), r\"\", text)  # удаляем emoji (смайлики)\n",
        "\n",
        "# Удаляем пунктуацию, ссылки, упоминание других участников, символы конца строки и переноса \\r\\n\n",
        "def strip_all_entities(text):\n",
        "    text = text.replace('\\r', '').replace('\\n', ' ').lower()  # удаляем \\n и \\r и переводим строку в нижний регистр\n",
        "    text = re.sub(r\"(?:\\@|https?\\://)\\S+\", \"\", text)  # удаление ссылок и упоминаний других участников\n",
        "    text = re.sub(r'[^\\x00-\\x7fА-Яа-яЁё]', r'', text)  # удаление символов не utf8/ascii, оставляя кириллицу\n",
        "    banned_list = string.punctuation + '…' + '«' + '»' + '—'  # добавление специфичных для русского символов\n",
        "    table = str.maketrans('', '', banned_list)  # создание словаря замены\n",
        "    text = text.translate(table)  # применение к строке словаря замены\n",
        "    return text\n",
        "\n",
        "# Убираем хэштеги в конце предложения и оставляем в середине, удалив только символ #\n",
        "def clean_hashtags(tweet):\n",
        "    new_tweet = \" \".join(word.strip() for word in re.split('#(?!(?:hashtag)\\b)[\\wа-яА-ЯёЁ-]+(?=(?:\\s+#[\\wа-яА-ЯёЁ-]+)*\\s*$)', tweet))  # удаление последнего хэштега\n",
        "    new_tweet2 = \" \".join(word.strip() for word in re.split('#|_', new_tweet))  # удаление символа хэштега в середине предложения\n",
        "    return new_tweet2\n",
        "\n",
        "# Фильтрация специальных символов, таких как & и $, присутствующих в некоторых словах\n",
        "def filter_chars(a):\n",
        "    sent = []\n",
        "    for word in a.split(' '):\n",
        "        if ('&' in word):  # Убираем слова, содержащие '&'\n",
        "            sent.append('')\n",
        "        else:\n",
        "            sent.append(word)\n",
        "    return ' '.join(sent)\n",
        "\n",
        "def remove_mult_spaces(text):  # удаление множественных пробелов с помощью регулярки\n",
        "    return re.sub(\"\\s\\s+\", \" \", text)"
      ],
      "metadata": {
        "id": "R_OFqZQgk-Ip"
      },
      "execution_count": null,
      "outputs": []
    },
    {
      "cell_type": "markdown",
      "source": [
        "Применим функции для очистки"
      ],
      "metadata": {
        "id": "lZ2X47e64QwC"
      }
    },
    {
      "cell_type": "code",
      "source": [
        "texts_new = []\n",
        "for t in df.OriginalTweet:\n",
        "    texts_new.append(remove_mult_spaces(filter_chars(clean_hashtags(strip_all_entities(strip_emoji(t))))))"
      ],
      "metadata": {
        "execution": {
          "iopub.status.busy": "2021-12-22T21:15:19.701015Z",
          "iopub.execute_input": "2021-12-22T21:15:19.701235Z",
          "iopub.status.idle": "2021-12-22T21:16:17.869828Z",
          "shell.execute_reply.started": "2021-12-22T21:15:19.701201Z",
          "shell.execute_reply": "2021-12-22T21:16:17.869039Z"
        },
        "trusted": true,
        "id": "WmMUAIE3Sha3"
      },
      "execution_count": null,
      "outputs": []
    },
    {
      "cell_type": "markdown",
      "source": [
        "Теперь мы можем создать новую колонку `text_clean` для размещения очищенной версии текста твитов."
      ],
      "metadata": {
        "id": "mwZU77vH4zTp"
      }
    },
    {
      "cell_type": "code",
      "source": [
        "df['text_clean'] = texts_new"
      ],
      "metadata": {
        "execution": {
          "iopub.status.busy": "2021-12-22T21:16:23.199371Z",
          "iopub.execute_input": "2021-12-22T21:16:23.199648Z",
          "iopub.status.idle": "2021-12-22T21:16:23.212118Z",
          "shell.execute_reply.started": "2021-12-22T21:16:23.199614Z",
          "shell.execute_reply": "2021-12-22T21:16:23.211257Z"
        },
        "trusted": true,
        "id": "l8XNwaVQSha7"
      },
      "execution_count": null,
      "outputs": []
    },
    {
      "cell_type": "code",
      "source": [
        "df['text_clean'].head()"
      ],
      "metadata": {
        "execution": {
          "iopub.status.busy": "2021-12-22T21:16:23.213498Z",
          "iopub.execute_input": "2021-12-22T21:16:23.213745Z",
          "iopub.status.idle": "2021-12-22T21:16:23.227327Z",
          "shell.execute_reply.started": "2021-12-22T21:16:23.213708Z",
          "shell.execute_reply": "2021-12-22T21:16:23.226641Z"
        },
        "trusted": true,
        "id": "XknC3sCYSha7",
        "outputId": "68053fef-ff2b-49e6-957c-3adbced6cf97",
        "colab": {
          "base_uri": "https://localhost:8080/",
          "height": 241
        }
      },
      "execution_count": null,
      "outputs": [
        {
          "output_type": "execute_result",
          "data": {
            "text/plain": [
              "0    3d touch просто восхитительная вещь заряд держ...\n",
              "1    отключается при температуре близкой к нулю неп...\n",
              "2    в apple окончательно решили не заморачиваться ...\n",
              "3    постарался наиболее ёмко и коротко описать все...\n",
              "4     достойный телефон пользоваться одно удовольствие\n",
              "Name: text_clean, dtype: object"
            ],
            "text/html": [
              "<div>\n",
              "<style scoped>\n",
              "    .dataframe tbody tr th:only-of-type {\n",
              "        vertical-align: middle;\n",
              "    }\n",
              "\n",
              "    .dataframe tbody tr th {\n",
              "        vertical-align: top;\n",
              "    }\n",
              "\n",
              "    .dataframe thead th {\n",
              "        text-align: right;\n",
              "    }\n",
              "</style>\n",
              "<table border=\"1\" class=\"dataframe\">\n",
              "  <thead>\n",
              "    <tr style=\"text-align: right;\">\n",
              "      <th></th>\n",
              "      <th>text_clean</th>\n",
              "    </tr>\n",
              "  </thead>\n",
              "  <tbody>\n",
              "    <tr>\n",
              "      <th>0</th>\n",
              "      <td>3d touch просто восхитительная вещь заряд держ...</td>\n",
              "    </tr>\n",
              "    <tr>\n",
              "      <th>1</th>\n",
              "      <td>отключается при температуре близкой к нулю неп...</td>\n",
              "    </tr>\n",
              "    <tr>\n",
              "      <th>2</th>\n",
              "      <td>в apple окончательно решили не заморачиваться ...</td>\n",
              "    </tr>\n",
              "    <tr>\n",
              "      <th>3</th>\n",
              "      <td>постарался наиболее ёмко и коротко описать все...</td>\n",
              "    </tr>\n",
              "    <tr>\n",
              "      <th>4</th>\n",
              "      <td>достойный телефон пользоваться одно удовольствие</td>\n",
              "    </tr>\n",
              "  </tbody>\n",
              "</table>\n",
              "</div><br><label><b>dtype:</b> object</label>"
            ]
          },
          "metadata": {},
          "execution_count": 18
        }
      ]
    },
    {
      "cell_type": "code",
      "source": [
        "df['OriginalTweet'][1:4].values"
      ],
      "metadata": {
        "colab": {
          "base_uri": "https://localhost:8080/"
        },
        "id": "c_LwcMl9K_7l",
        "outputId": "20c3ad54-ec65-4f99-b25b-9d1b70b78d23"
      },
      "execution_count": null,
      "outputs": [
        {
          "output_type": "execute_result",
          "data": {
            "text/plain": [
              "array(['Отключается при температуре близкой к нулю, непонятно ведет себя батарея',\n",
              "       'В Apple окончательно решили не заморачиваться, делая незначительные изменения в телефоне, выдают эти изменения за инновации. На этот раз скопировали не только функционал, но и дизайн. Цена и была неадекватно завышена, а после скачка курса так и говорить об этом не приходится. Многие скажут, что и HD разрешения будет достаточно для такой диагонали, может так оно и есть, но аппарат позиционируется, как топовое решение, а в итоге получаем банальную экономию производителя, ведь что произойдёт с временем работы, если увеличить до FHD?! 1 гб оперативки тоже прошлый век! И не надо рассказывать сказки про великолепную оптимизацию iOS, чудес на свете не бывает, этого мало. Те кто скажет, что их не волнуют технические характеристики смартфона, главное чтоб он хорошо работал, телефон за 5000 будет так же хорошо работать, а отдавая (выбрасывая) 55000 нужно думать головой и понимать, что этих денег данный телефон просто непросто не может стоить! Про удобство использования стоит отметить, что больший по размерам Note 4 гораздо лучше лежит в руке и пользоваться им сподручнее.',\n",
              "       'Постарался наиболее ёмко и коротко описать все основные плюсы и минусы. Большим мне аппарат не показался, размеры - что надо. Внешний вид, как для меня, так 5-ка выглядит интереснее и солиднее.'],\n",
              "      dtype=object)"
            ]
          },
          "metadata": {},
          "execution_count": 19
        }
      ]
    },
    {
      "cell_type": "code",
      "source": [
        "df['text_clean'][1:4].values"
      ],
      "metadata": {
        "execution": {
          "iopub.status.busy": "2021-12-22T21:16:23.241001Z",
          "iopub.execute_input": "2021-12-22T21:16:23.241499Z",
          "iopub.status.idle": "2021-12-22T21:16:23.250236Z",
          "shell.execute_reply.started": "2021-12-22T21:16:23.241461Z",
          "shell.execute_reply": "2021-12-22T21:16:23.249487Z"
        },
        "trusted": true,
        "id": "w3_brNTpSha7",
        "outputId": "6b4cb373-d062-47ed-e7bd-f9ac6c0ebe6a",
        "colab": {
          "base_uri": "https://localhost:8080/"
        }
      },
      "execution_count": null,
      "outputs": [
        {
          "output_type": "execute_result",
          "data": {
            "text/plain": [
              "array(['отключается при температуре близкой к нулю непонятно ведет себя батарея',\n",
              "       'в apple окончательно решили не заморачиваться делая незначительные изменения в телефоне выдают эти изменения за инновации на этот раз скопировали не только функционал но и дизайн цена и была неадекватно завышена а после скачка курса так и говорить об этом не приходится многие скажут что и hd разрешения будет достаточно для такой диагонали может так оно и есть но аппарат позиционируется как топовое решение а в итоге получаем банальную экономию производителя ведь что произойдёт с временем работы если увеличить до fhd 1 гб оперативки тоже прошлый век и не надо рассказывать сказки про великолепную оптимизацию ios чудес на свете не бывает этого мало те кто скажет что их не волнуют технические характеристики смартфона главное чтоб он хорошо работал телефон за 5000 будет так же хорошо работать а отдавая выбрасывая 55000 нужно думать головой и понимать что этих денег данный телефон просто непросто не может стоить про удобство использования стоит отметить что больший по размерам note 4 гораздо лучше лежит в руке и пользоваться им сподручнее',\n",
              "       'постарался наиболее ёмко и коротко описать все основные плюсы и минусы большим мне аппарат не показался размеры что надо внешний вид как для меня так 5ка выглядит интереснее и солиднее'],\n",
              "      dtype=object)"
            ]
          },
          "metadata": {},
          "execution_count": 20
        }
      ]
    },
    {
      "cell_type": "markdown",
      "source": [
        "Также давайте создадим столбец для оценки длины очищенного текста, чтобы контролировать, а не удалили ли мы весь твит?"
      ],
      "metadata": {
        "id": "Ab6yzZcR8smt"
      }
    },
    {
      "cell_type": "code",
      "source": [
        "text_len = []\n",
        "for text in df.text_clean:\n",
        "    tweet_len = len(text.split())\n",
        "    text_len.append(tweet_len)"
      ],
      "metadata": {
        "execution": {
          "iopub.status.busy": "2021-12-22T21:16:23.252435Z",
          "iopub.execute_input": "2021-12-22T21:16:23.253023Z",
          "iopub.status.idle": "2021-12-22T21:16:23.346853Z",
          "shell.execute_reply.started": "2021-12-22T21:16:23.252986Z",
          "shell.execute_reply": "2021-12-22T21:16:23.346251Z"
        },
        "trusted": true,
        "id": "Cauv5-xdSha7"
      },
      "execution_count": null,
      "outputs": []
    },
    {
      "cell_type": "code",
      "source": [
        "df['text_len'] = text_len"
      ],
      "metadata": {
        "execution": {
          "iopub.status.busy": "2021-12-22T21:16:23.347901Z",
          "iopub.execute_input": "2021-12-22T21:16:23.348129Z",
          "iopub.status.idle": "2021-12-22T21:16:23.369365Z",
          "shell.execute_reply.started": "2021-12-22T21:16:23.348096Z",
          "shell.execute_reply": "2021-12-22T21:16:23.368729Z"
        },
        "trusted": true,
        "id": "bbNg3AKJSha7"
      },
      "execution_count": null,
      "outputs": []
    },
    {
      "cell_type": "code",
      "source": [
        "plt.figure(figsize=(7,5))\n",
        "ax = sns.countplot(x='text_len', data=df[df['text_len']<10], palette='mako')\n",
        "plt.title('Твиты с длиной сообщений менее 10 слов (обучающая выборка)')\n",
        "plt.yticks([])\n",
        "ax.bar_label(ax.containers[0])\n",
        "plt.ylabel('Число таких твитов')\n",
        "plt.xlabel('')\n",
        "plt.show()"
      ],
      "metadata": {
        "_kg_hide-input": true,
        "execution": {
          "iopub.status.busy": "2021-12-22T21:16:23.400127Z",
          "iopub.execute_input": "2021-12-22T21:16:23.400721Z",
          "iopub.status.idle": "2021-12-22T21:16:23.670878Z",
          "shell.execute_reply.started": "2021-12-22T21:16:23.400676Z",
          "shell.execute_reply": "2021-12-22T21:16:23.67021Z"
        },
        "trusted": true,
        "id": "qkRi7qELSha8",
        "outputId": "ed45eb28-a0b3-4804-8945-ddd6aefba614",
        "colab": {
          "base_uri": "https://localhost:8080/",
          "height": 506
        }
      },
      "execution_count": null,
      "outputs": [
        {
          "output_type": "display_data",
          "data": {
            "text/plain": [
              "<Figure size 700x500 with 1 Axes>"
            ],
            "image/png": "[encoded data removed]"
          },
          "metadata": {}
        }
      ]
    },
    {
      "cell_type": "code",
      "source": [
        "print(f\"Форма обучающей выборки: {df.shape}\")"
      ],
      "metadata": {
        "execution": {
          "iopub.status.busy": "2021-12-22T21:16:23.927254Z",
          "iopub.execute_input": "2021-12-22T21:16:23.927515Z",
          "iopub.status.idle": "2021-12-22T21:16:23.935987Z",
          "shell.execute_reply.started": "2021-12-22T21:16:23.92748Z",
          "shell.execute_reply": "2021-12-22T21:16:23.935269Z"
        },
        "trusted": true,
        "id": "ZpQZUkBjSha8",
        "outputId": "6f45edb5-c3dc-40b1-cf8e-110d7e9d6440",
        "colab": {
          "base_uri": "https://localhost:8080/"
        }
      },
      "execution_count": null,
      "outputs": [
        {
          "output_type": "stream",
          "name": "stdout",
          "text": [
            "Форма обучающей выборки: (40000, 4)\n"
          ]
        }
      ]
    },
    {
      "cell_type": "code",
      "source": [
        "df = df[df['text_len'] > 4] # удаляем из обучающей выборки твиты короче 4 слов"
      ],
      "metadata": {
        "execution": {
          "iopub.status.busy": "2021-12-22T21:16:23.937463Z",
          "iopub.execute_input": "2021-12-22T21:16:23.937742Z",
          "iopub.status.idle": "2021-12-22T21:16:23.947934Z",
          "shell.execute_reply.started": "2021-12-22T21:16:23.937695Z",
          "shell.execute_reply": "2021-12-22T21:16:23.947188Z"
        },
        "trusted": true,
        "id": "y-2_3XoESha8"
      },
      "execution_count": null,
      "outputs": []
    },
    {
      "cell_type": "code",
      "source": [
        "print(f\"Форма обучающей выборки после очистки: {df.shape}\")"
      ],
      "metadata": {
        "execution": {
          "iopub.status.busy": "2021-12-22T21:16:23.957889Z",
          "iopub.execute_input": "2021-12-22T21:16:23.958147Z",
          "iopub.status.idle": "2021-12-22T21:16:23.965132Z",
          "shell.execute_reply.started": "2021-12-22T21:16:23.958113Z",
          "shell.execute_reply": "2021-12-22T21:16:23.964401Z"
        },
        "trusted": true,
        "id": "hEP1nj8jSha8",
        "outputId": "b9d581d7-dd69-4b1e-dce3-cffe0f8b04c3",
        "colab": {
          "base_uri": "https://localhost:8080/"
        }
      },
      "execution_count": null,
      "outputs": [
        {
          "output_type": "stream",
          "name": "stdout",
          "text": [
            "Форма обучающей выборки после очистки: (37953, 4)\n"
          ]
        }
      ]
    },
    {
      "cell_type": "markdown",
      "source": [
        "### Токенизация"
      ],
      "metadata": {
        "id": "ShTnv-5gBWRZ"
      }
    },
    {
      "cell_type": "markdown",
      "source": [
        "Будем использовать предобученный BERT-токенизатор."
      ],
      "metadata": {
        "id": "VRVMLWCAByQj"
      }
    },
    {
      "cell_type": "code",
      "source": [
        "tokenizer = BertTokenizerFast.from_pretrained(\"kazars24/rubert-ner-drugname\")"
      ],
      "metadata": {
        "_kg_hide-output": true,
        "execution": {
          "iopub.status.busy": "2021-12-22T21:16:23.966349Z",
          "iopub.execute_input": "2021-12-22T21:16:23.966874Z",
          "iopub.status.idle": "2021-12-22T21:16:30.505565Z",
          "shell.execute_reply.started": "2021-12-22T21:16:23.966837Z",
          "shell.execute_reply": "2021-12-22T21:16:30.504847Z"
        },
        "trusted": true,
        "id": "yhcer6jHSha9",
        "colab": {
          "base_uri": "https://localhost:8080/",
          "height": 145,
          "referenced_widgets": [
            "7c6e80f9731a4a24bc448398fda0b135",
            "5abf65db05a2449bb5206f33b75ac23e",
            "192f25a438824ef9bb68845ed1a7442b",
            "ccb84721759c48d998cc8b1d01785db1",
            "26abad82c23a4bf8aecc9bc9ff08dab6",
            "fafdaed2afa7408083b4d1242349c2d2",
            "ed77576ded2e41b7b8f8c215ee6ceb61",
            "eb920870a84f42308725d4448e403a11",
            "294d60d1fd934fac9062d41e744e3cf7",
            "be47b12c759449489e144a305829592a",
            "481d2fa56397432988e1a6d22cb20324",
            "9e08c21dbf5243ca8610a5ee2b628d67",
            "76dd3bd99d6046d2b3800895070d9881",
            "55a6b99b33774e5b9ce60e5c0ac5974b",
            "5daa49cc83aa4b3ba2fee45703424a54",
            "0b9446afa60e44e5b11055ff56fcbc1f",
            "2a038539479c4d63a7dd733e7cfd0c2f",
            "4c23adc856dc4d83b25d478791567914",
            "a4c7fcdb808c4055943b17d847ec4c13",
            "9ab5fe0ac4b84e61afda49bcf8ad1997",
            "3c941f0bcd6640168b297172eb7d5cc7",
            "e497cd55846c4e06ac2cc4224317690a",
            "edab01b8d9284330b47fb0c670cc5c28",
            "cf7e0eba6b3e40f0958fc5aabe0c97c7",
            "ab52c6d7d0294ecfb9a3b20d27f914bb",
            "6e23a09ccef64220a50230b773d1d5e4",
            "4f8eb337ae2d40ea96cbb995e2bcff92",
            "1ef0530621cc42e5a4874e2a9b74ee55",
            "49ca76e5f0e94730bc532f91ca3bc42d",
            "c17af5c5bc564fd48040bf5409c902b1",
            "1000329fc4534989a594a6dcceb64236",
            "93c0ff9657244f448ee7ae8d616a2b38",
            "b4c099a7641449db8eacf46063afdb36",
            "163351f680ca468aac4b8f6a4b2698b3",
            "eceea48928f541138c76cb23f04f582c",
            "cb28bbcb85dc4f54bff726604c120b37",
            "f415bf4717884291ba66c2cad0c0741b",
            "35ae30e9e96a478381a2fc1403314aab",
            "cf9a3aa6c9704df6b5b707845cc21821",
            "05153f2a137d4eccab04ef8c43c4cacb",
            "980e23465bf549c1aaa4b69a8e6faf26",
            "14cdf865785c4a6a9c4e7ab1ba821840",
            "1e08c03e371642f38843c0d8f892383d",
            "5584de63d67f46e08a922dcdc8a4bcc8"
          ]
        },
        "outputId": "5f7e0389-9d9e-4ece-eb41-b72e71cfa0dd"
      },
      "execution_count": null,
      "outputs": [
        {
          "output_type": "display_data",
          "data": {
            "text/plain": [
              "tokenizer_config.json:   0%|          | 0.00/1.27k [00:00<?, ?B/s]"
            ],
            "application/vnd.jupyter.widget-view+json": {
              "version_major": 2,
              "version_minor": 0,
              "model_id": "7c6e80f9731a4a24bc448398fda0b135"
            }
          },
          "metadata": {}
        },
        {
          "output_type": "display_data",
          "data": {
            "text/plain": [
              "vocab.txt:   0%|          | 0.00/1.65M [00:00<?, ?B/s]"
            ],
            "application/vnd.jupyter.widget-view+json": {
              "version_major": 2,
              "version_minor": 0,
              "model_id": "9e08c21dbf5243ca8610a5ee2b628d67"
            }
          },
          "metadata": {}
        },
        {
          "output_type": "display_data",
          "data": {
            "text/plain": [
              "tokenizer.json:   0%|          | 0.00/3.57M [00:00<?, ?B/s]"
            ],
            "application/vnd.jupyter.widget-view+json": {
              "version_major": 2,
              "version_minor": 0,
              "model_id": "edab01b8d9284330b47fb0c670cc5c28"
            }
          },
          "metadata": {}
        },
        {
          "output_type": "display_data",
          "data": {
            "text/plain": [
              "special_tokens_map.json:   0%|          | 0.00/125 [00:00<?, ?B/s]"
            ],
            "application/vnd.jupyter.widget-view+json": {
              "version_major": 2,
              "version_minor": 0,
              "model_id": "163351f680ca468aac4b8f6a4b2698b3"
            }
          },
          "metadata": {}
        }
      ]
    },
    {
      "cell_type": "markdown",
      "source": [
        "Применим токенизатор к \"очищенным\" данным:"
      ],
      "metadata": {
        "id": "0pkQG8U2B5y1"
      }
    },
    {
      "cell_type": "code",
      "source": [
        "token_lens = []\n",
        "\n",
        "for txt in df['text_clean'].values:\n",
        "    tokens = tokenizer.encode(txt, max_length=512, truncation=True)\n",
        "    token_lens.append(len(tokens))\n",
        "\n",
        "max_len=np.max(token_lens)"
      ],
      "metadata": {
        "execution": {
          "iopub.status.busy": "2021-12-22T21:16:30.506822Z",
          "iopub.execute_input": "2021-12-22T21:16:30.507117Z",
          "iopub.status.idle": "2021-12-22T21:16:38.608135Z",
          "shell.execute_reply.started": "2021-12-22T21:16:30.507082Z",
          "shell.execute_reply": "2021-12-22T21:16:38.60725Z"
        },
        "trusted": true,
        "id": "T3yeW_G3Sha9"
      },
      "execution_count": null,
      "outputs": []
    },
    {
      "cell_type": "code",
      "source": [
        "print(f\"Максимальная длина токенизированной последовательности: {max_len}\")"
      ],
      "metadata": {
        "execution": {
          "iopub.status.busy": "2021-12-22T21:16:38.612489Z",
          "iopub.execute_input": "2021-12-22T21:16:38.614497Z",
          "iopub.status.idle": "2021-12-22T21:16:38.622543Z",
          "shell.execute_reply.started": "2021-12-22T21:16:38.614458Z",
          "shell.execute_reply": "2021-12-22T21:16:38.621788Z"
        },
        "trusted": true,
        "id": "ydLVUfSNSha9",
        "outputId": "feeb5d4f-b4f7-4e58-be03-851ec016f68a",
        "colab": {
          "base_uri": "https://localhost:8080/"
        }
      },
      "execution_count": null,
      "outputs": [
        {
          "output_type": "stream",
          "name": "stdout",
          "text": [
            "Максимальная длина токенизированной последовательности: 482\n"
          ]
        }
      ]
    },
    {
      "cell_type": "code",
      "source": [
        "token_lens = []\n",
        "\n",
        "for i,txt in enumerate(df['text_clean'].values):\n",
        "    tokens = tokenizer.encode(txt, max_length=512, truncation=True)\n",
        "    token_lens.append(len(tokens))"
      ],
      "metadata": {
        "execution": {
          "iopub.status.busy": "2021-12-22T21:16:38.627275Z",
          "iopub.execute_input": "2021-12-22T21:16:38.627927Z",
          "iopub.status.idle": "2021-12-22T21:16:45.918973Z",
          "shell.execute_reply.started": "2021-12-22T21:16:38.62789Z",
          "shell.execute_reply": "2021-12-22T21:16:45.918256Z"
        },
        "trusted": true,
        "id": "6E2V4bspSha-"
      },
      "execution_count": null,
      "outputs": []
    },
    {
      "cell_type": "markdown",
      "source": [
        "\n",
        "\n",
        "\n",
        "Эти последовательности не на английском языке и должны быть удалены.\n",
        "Отсортируем по убыванию числа токенов предложения:"
      ],
      "metadata": {
        "id": "WctKAFn7EOlY"
      }
    },
    {
      "cell_type": "code",
      "source": [
        "df['token_lens'] = token_lens"
      ],
      "metadata": {
        "execution": {
          "iopub.status.busy": "2021-12-22T21:16:45.920127Z",
          "iopub.execute_input": "2021-12-22T21:16:45.920514Z",
          "iopub.status.idle": "2021-12-22T21:16:45.942482Z",
          "shell.execute_reply.started": "2021-12-22T21:16:45.920472Z",
          "shell.execute_reply": "2021-12-22T21:16:45.941845Z"
        },
        "trusted": true,
        "id": "16svPGPXSha-"
      },
      "execution_count": null,
      "outputs": []
    },
    {
      "cell_type": "code",
      "source": [
        "df = df.sort_values(by='text_len', ascending=False)\n",
        "df.head()"
      ],
      "metadata": {
        "execution": {
          "iopub.status.busy": "2021-12-22T21:16:45.943569Z",
          "iopub.execute_input": "2021-12-22T21:16:45.943812Z",
          "iopub.status.idle": "2021-12-22T21:16:45.966583Z",
          "shell.execute_reply.started": "2021-12-22T21:16:45.943779Z",
          "shell.execute_reply": "2021-12-22T21:16:45.965943Z"
        },
        "trusted": true,
        "id": "uJG4IyfGShbA",
        "outputId": "78c9a123-a6d2-411a-b302-8a5d37c3fc47",
        "colab": {
          "base_uri": "https://localhost:8080/",
          "height": 206
        }
      },
      "execution_count": null,
      "outputs": [
        {
          "output_type": "execute_result",
          "data": {
            "text/plain": [
              "                                           OriginalTweet  Sentiment  \\\n",
              "7083   Хочу оставить свой отзыв об этом телефоне. \\rМ...          5   \n",
              "30001  Встаю в 8 утра. В 9.30 выезжаю из дома, домой ...          5   \n",
              "7074   Имел опыт поюзать такие телефоны как HTC Daimo...          3   \n",
              "21674  Начну с того, что Эппл сами себе навредили, на...          5   \n",
              "41017  Выбирала этот телефон достаточно долго. Ориети...          2   \n",
              "\n",
              "                                              text_clean  text_len  token_lens  \n",
              "7083   хочу оставить свой отзыв об этом телефоне мне ...       354         450  \n",
              "30001  встаю в 8 утра в 930 выезжаю из дома домой при...       353         430  \n",
              "7074   имел опыт поюзать такие телефоны как htc daimo...       347         423  \n",
              "21674  начну с того что эппл сами себе навредили назв...       342         403  \n",
              "41017  выбирала этот телефон достаточно долго ориетир...       342         410  "
            ],
            "text/html": [
              "\n",
              "  <div id=\"df-ae4959a6-39d5-496c-bb94-df4230b46d22\" class=\"colab-df-container\">\n",
              "    <div>\n",
              "<style scoped>\n",
              "    .dataframe tbody tr th:only-of-type {\n",
              "        vertical-align: middle;\n",
              "    }\n",
              "\n",
              "    .dataframe tbody tr th {\n",
              "        vertical-align: top;\n",
              "    }\n",
              "\n",
              "    .dataframe thead th {\n",
              "        text-align: right;\n",
              "    }\n",
              "</style>\n",
              "<table border=\"1\" class=\"dataframe\">\n",
              "  <thead>\n",
              "    <tr style=\"text-align: right;\">\n",
              "      <th></th>\n",
              "      <th>OriginalTweet</th>\n",
              "      <th>Sentiment</th>\n",
              "      <th>text_clean</th>\n",
              "      <th>text_len</th>\n",
              "      <th>token_lens</th>\n",
              "    </tr>\n",
              "  </thead>\n",
              "  <tbody>\n",
              "    <tr>\n",
              "      <th>7083</th>\n",
              "      <td>Хочу оставить свой отзыв об этом телефоне. \\rМ...</td>\n",
              "      <td>5</td>\n",
              "      <td>хочу оставить свой отзыв об этом телефоне мне ...</td>\n",
              "      <td>354</td>\n",
              "      <td>450</td>\n",
              "    </tr>\n",
              "    <tr>\n",
              "      <th>30001</th>\n",
              "      <td>Встаю в 8 утра. В 9.30 выезжаю из дома, домой ...</td>\n",
              "      <td>5</td>\n",
              "      <td>встаю в 8 утра в 930 выезжаю из дома домой при...</td>\n",
              "      <td>353</td>\n",
              "      <td>430</td>\n",
              "    </tr>\n",
              "    <tr>\n",
              "      <th>7074</th>\n",
              "      <td>Имел опыт поюзать такие телефоны как HTC Daimo...</td>\n",
              "      <td>3</td>\n",
              "      <td>имел опыт поюзать такие телефоны как htc daimo...</td>\n",
              "      <td>347</td>\n",
              "      <td>423</td>\n",
              "    </tr>\n",
              "    <tr>\n",
              "      <th>21674</th>\n",
              "      <td>Начну с того, что Эппл сами себе навредили, на...</td>\n",
              "      <td>5</td>\n",
              "      <td>начну с того что эппл сами себе навредили назв...</td>\n",
              "      <td>342</td>\n",
              "      <td>403</td>\n",
              "    </tr>\n",
              "    <tr>\n",
              "      <th>41017</th>\n",
              "      <td>Выбирала этот телефон достаточно долго. Ориети...</td>\n",
              "      <td>2</td>\n",
              "      <td>выбирала этот телефон достаточно долго ориетир...</td>\n",
              "      <td>342</td>\n",
              "      <td>410</td>\n",
              "    </tr>\n",
              "  </tbody>\n",
              "</table>\n",
              "</div>\n",
              "    <div class=\"colab-df-buttons\">\n",
              "\n",
              "  <div class=\"colab-df-container\">\n",
              "    <button class=\"colab-df-convert\" onclick=\"convertToInteractive('df-ae4959a6-39d5-496c-bb94-df4230b46d22')\"\n",
              "            title=\"Convert this dataframe to an interactive table.\"\n",
              "            style=\"display:none;\">\n",
              "\n",
              "  <svg xmlns=\"http://www.w3.org/2000/svg\" height=\"24px\" viewBox=\"0 -960 960 960\">\n",
              "    <path d=\"M120-120v-720h720v720H120Zm60-500h600v-160H180v160Zm220 220h160v-160H400v160Zm0 220h160v-160H400v160ZM180-400h160v-160H180v160Zm440 0h160v-160H620v160ZM180-180h160v-160H180v160Zm440 0h160v-160H620v160Z\"/>\n",
              "  </svg>\n",
              "    </button>\n",
              "\n",
              "  <style>\n",
              "    .colab-df-container {\n",
              "      display:flex;\n",
              "      gap: 12px;\n",
              "    }\n",
              "\n",
              "    .colab-df-convert {\n",
              "      background-color: #E8F0FE;\n",
              "      border: none;\n",
              "      border-radius: 50%;\n",
              "      cursor: pointer;\n",
              "      display: none;\n",
              "      fill: #1967D2;\n",
              "      height: 32px;\n",
              "      padding: 0 0 0 0;\n",
              "      width: 32px;\n",
              "    }\n",
              "\n",
              "    .colab-df-convert:hover {\n",
              "      background-color: #E2EBFA;\n",
              "      box-shadow: 0px 1px 2px rgba(60, 64, 67, 0.3), 0px 1px 3px 1px rgba(60, 64, 67, 0.15);\n",
              "      fill: #174EA6;\n",
              "    }\n",
              "\n",
              "    .colab-df-buttons div {\n",
              "      margin-bottom: 4px;\n",
              "    }\n",
              "\n",
              "    [theme=dark] .colab-df-convert {\n",
              "      background-color: #3B4455;\n",
              "      fill: #D2E3FC;\n",
              "    }\n",
              "\n",
              "    [theme=dark] .colab-df-convert:hover {\n",
              "      background-color: #434B5C;\n",
              "      box-shadow: 0px 1px 3px 1px rgba(0, 0, 0, 0.15);\n",
              "      filter: drop-shadow(0px 1px 2px rgba(0, 0, 0, 0.3));\n",
              "      fill: #FFFFFF;\n",
              "    }\n",
              "  </style>\n",
              "\n",
              "    <script>\n",
              "      const buttonEl =\n",
              "        document.querySelector('#df-ae4959a6-39d5-496c-bb94-df4230b46d22 button.colab-df-convert');\n",
              "      buttonEl.style.display =\n",
              "        google.colab.kernel.accessAllowed ? 'block' : 'none';\n",
              "\n",
              "      async function convertToInteractive(key) {\n",
              "        const element = document.querySelector('#df-ae4959a6-39d5-496c-bb94-df4230b46d22');\n",
              "        const dataTable =\n",
              "          await google.colab.kernel.invokeFunction('convertToInteractive',\n",
              "                                                    [key], {});\n",
              "        if (!dataTable) return;\n",
              "\n",
              "        const docLinkHtml = 'Like what you see? Visit the ' +\n",
              "          '<a target=\"_blank\" href=https://colab.research.google.com/notebooks/data_table.ipynb>data table notebook</a>'\n",
              "          + ' to learn more about interactive tables.';\n",
              "        element.innerHTML = '';\n",
              "        dataTable['output_type'] = 'display_data';\n",
              "        await google.colab.output.renderOutput(dataTable, element);\n",
              "        const docLink = document.createElement('div');\n",
              "        docLink.innerHTML = docLinkHtml;\n",
              "        element.appendChild(docLink);\n",
              "      }\n",
              "    </script>\n",
              "  </div>\n",
              "\n",
              "\n",
              "<div id=\"df-08807e4e-c476-4d61-9606-ee6fb886c2ae\">\n",
              "  <button class=\"colab-df-quickchart\" onclick=\"quickchart('df-08807e4e-c476-4d61-9606-ee6fb886c2ae')\"\n",
              "            title=\"Suggest charts\"\n",
              "            style=\"display:none;\">\n",
              "\n",
              "<svg xmlns=\"http://www.w3.org/2000/svg\" height=\"24px\"viewBox=\"0 0 24 24\"\n",
              "     width=\"24px\">\n",
              "    <g>\n",
              "        <path d=\"M19 3H5c-1.1 0-2 .9-2 2v14c0 1.1.9 2 2 2h14c1.1 0 2-.9 2-2V5c0-1.1-.9-2-2-2zM9 17H7v-7h2v7zm4 0h-2V7h2v10zm4 0h-2v-4h2v4z\"/>\n",
              "    </g>\n",
              "</svg>\n",
              "  </button>\n",
              "\n",
              "<style>\n",
              "  .colab-df-quickchart {\n",
              "      --bg-color: #E8F0FE;\n",
              "      --fill-color: #1967D2;\n",
              "      --hover-bg-color: #E2EBFA;\n",
              "      --hover-fill-color: #174EA6;\n",
              "      --disabled-fill-color: #AAA;\n",
              "      --disabled-bg-color: #DDD;\n",
              "  }\n",
              "\n",
              "  [theme=dark] .colab-df-quickchart {\n",
              "      --bg-color: #3B4455;\n",
              "      --fill-color: #D2E3FC;\n",
              "      --hover-bg-color: #434B5C;\n",
              "      --hover-fill-color: #FFFFFF;\n",
              "      --disabled-bg-color: #3B4455;\n",
              "      --disabled-fill-color: #666;\n",
              "  }\n",
              "\n",
              "  .colab-df-quickchart {\n",
              "    background-color: var(--bg-color);\n",
              "    border: none;\n",
              "    border-radius: 50%;\n",
              "    cursor: pointer;\n",
              "    display: none;\n",
              "    fill: var(--fill-color);\n",
              "    height: 32px;\n",
              "    padding: 0;\n",
              "    width: 32px;\n",
              "  }\n",
              "\n",
              "  .colab-df-quickchart:hover {\n",
              "    background-color: var(--hover-bg-color);\n",
              "    box-shadow: 0 1px 2px rgba(60, 64, 67, 0.3), 0 1px 3px 1px rgba(60, 64, 67, 0.15);\n",
              "    fill: var(--button-hover-fill-color);\n",
              "  }\n",
              "\n",
              "  .colab-df-quickchart-complete:disabled,\n",
              "  .colab-df-quickchart-complete:disabled:hover {\n",
              "    background-color: var(--disabled-bg-color);\n",
              "    fill: var(--disabled-fill-color);\n",
              "    box-shadow: none;\n",
              "  }\n",
              "\n",
              "  .colab-df-spinner {\n",
              "    border: 2px solid var(--fill-color);\n",
              "    border-color: transparent;\n",
              "    border-bottom-color: var(--fill-color);\n",
              "    animation:\n",
              "      spin 1s steps(1) infinite;\n",
              "  }\n",
              "\n",
              "  @keyframes spin {\n",
              "    0% {\n",
              "      border-color: transparent;\n",
              "      border-bottom-color: var(--fill-color);\n",
              "      border-left-color: var(--fill-color);\n",
              "    }\n",
              "    20% {\n",
              "      border-color: transparent;\n",
              "      border-left-color: var(--fill-color);\n",
              "      border-top-color: var(--fill-color);\n",
              "    }\n",
              "    30% {\n",
              "      border-color: transparent;\n",
              "      border-left-color: var(--fill-color);\n",
              "      border-top-color: var(--fill-color);\n",
              "      border-right-color: var(--fill-color);\n",
              "    }\n",
              "    40% {\n",
              "      border-color: transparent;\n",
              "      border-right-color: var(--fill-color);\n",
              "      border-top-color: var(--fill-color);\n",
              "    }\n",
              "    60% {\n",
              "      border-color: transparent;\n",
              "      border-right-color: var(--fill-color);\n",
              "    }\n",
              "    80% {\n",
              "      border-color: transparent;\n",
              "      border-right-color: var(--fill-color);\n",
              "      border-bottom-color: var(--fill-color);\n",
              "    }\n",
              "    90% {\n",
              "      border-color: transparent;\n",
              "      border-bottom-color: var(--fill-color);\n",
              "    }\n",
              "  }\n",
              "</style>\n",
              "\n",
              "  <script>\n",
              "    async function quickchart(key) {\n",
              "      const quickchartButtonEl =\n",
              "        document.querySelector('#' + key + ' button');\n",
              "      quickchartButtonEl.disabled = true;  // To prevent multiple clicks.\n",
              "      quickchartButtonEl.classList.add('colab-df-spinner');\n",
              "      try {\n",
              "        const charts = await google.colab.kernel.invokeFunction(\n",
              "            'suggestCharts', [key], {});\n",
              "      } catch (error) {\n",
              "        console.error('Error during call to suggestCharts:', error);\n",
              "      }\n",
              "      quickchartButtonEl.classList.remove('colab-df-spinner');\n",
              "      quickchartButtonEl.classList.add('colab-df-quickchart-complete');\n",
              "    }\n",
              "    (() => {\n",
              "      let quickchartButtonEl =\n",
              "        document.querySelector('#df-08807e4e-c476-4d61-9606-ee6fb886c2ae button');\n",
              "      quickchartButtonEl.style.display =\n",
              "        google.colab.kernel.accessAllowed ? 'block' : 'none';\n",
              "    })();\n",
              "  </script>\n",
              "</div>\n",
              "    </div>\n",
              "  </div>\n"
            ],
            "application/vnd.google.colaboratory.intrinsic+json": {
              "type": "dataframe",
              "variable_name": "df",
              "summary": "{\n  \"name\": \"df\",\n  \"rows\": 37953,\n  \"fields\": [\n    {\n      \"column\": \"OriginalTweet\",\n      \"properties\": {\n        \"dtype\": \"string\",\n        \"num_unique_values\": 37866,\n        \"samples\": [\n          \"\\u041e\\u0442\\u0441\\u0443\\u0442\\u0441\\u0442\\u0432\\u0438\\u0435 \\u0441\\u043b\\u043e\\u0442\\u0430 \\u0434\\u043b\\u044f \\u0440\\u0430\\u0441\\u0448\\u0438\\u0440\\u0435\\u043d\\u0438\\u044f \\u043f\\u0430\\u043c\\u044f\\u0442\\u0438 \\u0434\\u043b\\u044f \\u043c\\u0435\\u043d\\u044f \\u043d\\u0435 \\u043a\\u0440\\u0438\\u0442\\u0438\\u0447\\u043d\\u043e. \\u041d\\u0435 \\u0442\\u0430\\u043a \\u0430\\u043a\\u0442\\u0438\\u0432\\u043d\\u043e \\u0435\\u0435 \\u0438\\u0441\\u043f\\u043e\\u043b\\u044c\\u0437\\u0443\\u044e, \\u043d\\u043e \\u0437\\u043d\\u0430\\u044e, \\u0447\\u0442\\u043e \\u0434\\u043b\\u044f \\u043d\\u0435\\u043a\\u043e\\u0442\\u043e\\u0440\\u044b\\u0445 \\u043b\\u044e\\u0434\\u0435\\u0439 \\u043f\\u0430\\u043c\\u044f\\u0442\\u044c \\u0432 32 \\u0433\\u0431(\\u0434\\u043e\\u0441\\u0442\\u0443\\u043f\\u043d\\u044b 26) \\u043c\\u043e\\u0436\\u0435\\u0442 \\u043e\\u043a\\u0430\\u0437\\u0430\\u0442\\u044c\\u0441\\u044f \\u043d\\u0435\\u0434\\u043e\\u0441\\u0442\\u0430\\u0442\\u043e\\u0447\\u043d\\u043e\\u0439. \\u041c\\u0443\\u0437\\u044b\\u043a\\u0443 \\u043d\\u0435 \\u0441\\u043b\\u0443\\u0448\\u0430\\u044e, \\u0435\\u0441\\u0442\\u044c \\u043f\\u043b\\u0435\\u0435\\u0440. \\u0412 \\u043e\\u0431\\u0449\\u0435\\u043c - \\u0442\\u0435\\u043b\\u0435\\u0444\\u043e\\u043d \\u0445\\u043e\\u0440\\u043e\\u0448\\u0438\\u0439:) \\u0418\\u0441\\u043f\\u043e\\u043b\\u044c\\u0437\\u0443\\u044e \\u043d\\u0435\\u0434\\u0435\\u043b\\u044e, \\u043f\\u043e\\u044d\\u0442\\u043e\\u043c\\u0443 \\u0442\\u043e\\u043b\\u044c\\u043a\\u043e \\u043f\\u0435\\u0440\\u0432\\u044b\\u0435 \\u0432\\u043f\\u0435\\u0447\\u0430\\u0442\\u043b\\u0435\\u043d\\u0438\\u044f. \\u0412 \\u0441\\u043a\\u043e\\u0440\\u043e\\u043c \\u0432\\u0440\\u0435\\u043c\\u0435\\u043d\\u0438 \\u043c\\u043e\\u0433\\u0443\\u0442 \\u0438\\u0437\\u043c\\u0435\\u043d\\u0438\\u0442\\u044c\\u0441\\u044f.\",\n          \"\\u0434\\u043e\\u0441\\u0442\\u0430\\u0432\\u0438\\u043b \\u0432\\u043e \\u0432\\u0440\\u0435\\u043c\\u044f \\u0443\\u0434\\u043e\\u0431\\u043d\\u044b\\u0439 \\u043c\\u043d\\u0435 \\u0432\\u0440\\u0435\\u043c\\u044f\",\n          \"\\u041f\\u043e\\u043b\\u044c\\u0437\\u043e\\u0432\\u0430\\u043b\\u0441\\u044f \\u0430\\u0439\\u0444\\u043e\\u043d\\u0430\\u043c\\u0438, \\u0433\\u0443\\u0433\\u043b\\u043e\\u0444\\u043e\\u043d\\u0430\\u043c\\u0438 (nexus), note4 \\u043e\\u0442 samsung, \\u0438 \\u0434\\u0440\\u0443\\u0433\\u0438\\u043c\\u0438 \\u0430\\u043d\\u0434\\u0440\\u043e\\u0438\\u0434\\u043e\\u0444\\u043e\\u043d\\u0430\\u043c\\u0438. \\r\\r\\u042d\\u0442\\u043e\\u0442 \\u0441\\u043c\\u0430\\u0440\\u0442 \\u043c\\u043d\\u0435 \\u0437\\u0430\\u0441\\u0435\\u043b \\u0432 \\u0434\\u0443\\u0448\\u0443 \\u0442\\u0430\\u043a, \\u0447\\u0442\\u043e \\u0447\\u0443\\u0432\\u0441\\u0442\\u0432\\u0443\\u044e \\u0441\\u043b\\u0435\\u0434\\u0443\\u044e\\u0449\\u0438\\u0439 \\u0431\\u0443\\u0434\\u0435\\u0442 \\u044d\\u0442\\u043e\\u0439 \\u0436\\u0435 \\u0444\\u0438\\u0440\\u043c\\u044b. \\u0412\\u0441\\u0451 \\u043e\\u0447\\u0435\\u043d\\u044c \\u043f\\u0440\\u043e\\u0441\\u0442\\u043e - \\u043e\\u043f\\u0435\\u0440\\u0430\\u0446\\u0438\\u043e\\u043d\\u043a\\u0430 \\u043d\\u0435 \\u0437\\u0430\\u0445\\u043b\\u0430\\u043c\\u043b\\u0435\\u043d\\u0430, \\u0440\\u0430\\u0431\\u043e\\u0442\\u0430\\u0435\\u0442 \\u043e\\u0447\\u0435\\u043d\\u044c \\u0448\\u0443\\u0441\\u0442\\u0440\\u043e, \\u043f\\u043b\\u044e\\u0441 \\u0443\\u0441\\u0442\\u0430\\u043d\\u043e\\u0432\\u043b\\u0435\\u043d\\u044b \\u0440\\u0430\\u0437\\u043b\\u0438\\u0447\\u043d\\u044b\\u0435 \\u0441\\u0435\\u0440\\u0432\\u0438\\u0441\\u043d\\u044b\\u0435 \\u043f\\u0440\\u043e\\u0433\\u0440\\u0430\\u043c\\u043c\\u044b \\u0442\\u0438\\u043f\\u0430 \\u044d\\u043a\\u043e\\u043d\\u043e\\u043c\\u0438\\u0438 \\u044d\\u043d\\u0435\\u0440\\u0433\\u0438\\u0438, \\u043e\\u0447\\u0438\\u0441\\u0442\\u043a\\u0438 \\u043f\\u0430\\u043c\\u044f\\u0442\\u0438 \\u0438 \\u0442\\u0434. \\u0422\\u0435\\u043b\\u0435\\u0444\\u043e\\u043d \\u043c\\u043e\\u0436\\u0435\\u0442 \\u043f\\u0440\\u043e\\u0436\\u0438\\u0442\\u044c \\u0434\\u0432\\u0430 \\u0434\\u043d\\u044f \\u043f\\u0440\\u0438 \\u0441\\u043b\\u0430\\u0431\\u043e\\u043c \\u0438\\u0441\\u043f\\u043e\\u043b\\u044c\\u0437\\u043e\\u0432\\u0430\\u043d\\u0438\\u0438. \\u041d\\u0430 \\u043e\\u0434\\u0438\\u043d \\u0434\\u0435\\u043d\\u044c \\u0442\\u043e\\u0447\\u043d\\u043e \\u0445\\u0432\\u0430\\u0442\\u0438\\u0442 - \\u0435\\u0441\\u043b\\u0438 \\u043d\\u0435 \\u0438\\u0433\\u0440\\u0430\\u0442\\u044c \\u0446\\u0435\\u043b\\u044b\\u0439 \\u0434\\u0435\\u043d\\u044c. \\u0412 \\u043e\\u0431\\u0449\\u0435\\u043c \\u043e\\u0447\\u0435\\u043d\\u044c \\u0441\\u0431\\u0430\\u043b\\u0430\\u043d\\u0441\\u0438\\u0440\\u043e\\u0432\\u0430\\u043d\\u043d\\u044b\\u0439 \\u0430\\u043f\\u043f\\u0430\\u0440\\u0430\\u0442. \\u041d\\u0443 \\u0438 \\u043a\\u043e\\u043d\\u0435\\u0447\\u043d\\u043e \\u0436\\u0435 \\u0446\\u0435\\u043d\\u0430 \\u0432 \\u043f\\u043e\\u043b\\u043e\\u0432\\u0438\\u043d\\u0443 \\u043c\\u0435\\u043d\\u044c\\u0448\\u0435 \\u0447\\u0435\\u043c \\u0443 \\u0430\\u043d\\u0430\\u043b\\u043e\\u0433\\u043e\\u0432.\"\n        ],\n        \"semantic_type\": \"\",\n        \"description\": \"\"\n      }\n    },\n    {\n      \"column\": \"Sentiment\",\n      \"properties\": {\n        \"dtype\": \"number\",\n        \"std\": 1,\n        \"min\": 1,\n        \"max\": 7,\n        \"num_unique_values\": 6,\n        \"samples\": [\n          5,\n          3,\n          7\n        ],\n        \"semantic_type\": \"\",\n        \"description\": \"\"\n      }\n    },\n    {\n      \"column\": \"text_clean\",\n      \"properties\": {\n        \"dtype\": \"string\",\n        \"num_unique_values\": 37578,\n        \"samples\": [\n          \"\\u0441\\u0440\\u0430\\u0437\\u0443 \\u043f\\u0440\\u0435\\u0434\\u0443\\u043f\\u0440\\u0435\\u0436\\u0443 \\u0447\\u0442\\u043e \\u0443\\u0436\\u0435 3 \\u0434\\u043d\\u044f \\u0432\\u043b\\u0430\\u0434\\u0435\\u044e iphone 4s \\u044d\\u0442\\u043e \\u043c\\u043e\\u0436\\u0435\\u0442 \\u0441\\u043a\\u0430\\u0437\\u0430\\u0442\\u044c\\u0441\\u044f \\u043d\\u0430 \\u043e\\u0442\\u0437\\u044b\\u0432\\u0435 \\u043d\\u043e \\u043f\\u043e\\u043f\\u0440\\u043e\\u0431\\u0443\\u044e\\u0434\\u043e x6 \\u0431\\u044b\\u043b\\u0430 5800 \\u0442\\u0435\\u043b\\u0435\\u0444\\u043e\\u043d\\u044b \\u043e\\u0434\\u0438\\u043d\\u0430\\u043a\\u043e\\u0432\\u044b\\u0435 \\u043a\\u0440\\u043e\\u043c\\u0435 \\u043d\\u0435\\u0441\\u043a\\u043e\\u043b\\u044c\\u043a\\u0438\\u0445 \\u043d\\u0435 \\u0437\\u043d\\u0430\\u0447\\u0438\\u0442\\u0435\\u043b\\u044c\\u043d\\u044b\\u0445 \\u043d\\u044e\\u0430\\u043d\\u0441\\u043e\\u0432 \\u044d\\u0442\\u043e \\u043a \\u0441\\u043b\\u043e\\u0432\\u0443\\u043d\\u0435\\u0441\\u043a\\u043e\\u043b\\u044c\\u043a\\u043e \\u0440\\u0430\\u0437 \\u0445\\u043e\\u0440\\u043e\\u0448\\u0435\\u043d\\u044c\\u043a\\u043e \\u0440\\u043e\\u043d\\u044f\\u043b \\u043d\\u0438\\u0447\\u0435\\u0433\\u043e \\u043d\\u0435 \\u0442\\u0440\\u0435\\u0441\\u043d\\u0443\\u043b\\u043e \\u0441\\u043b\\u0435\\u0433\\u043a\\u0430 \\u0437\\u0430\\u043c\\u044f\\u043b\\u0438\\u0441\\u044c \\u043c\\u0435\\u0442\\u0430\\u043b\\u043b\\u0438\\u0447\\u0435\\u0441\\u043a\\u0438\\u0435 \\u043e\\u043a\\u0430\\u043d\\u0442\\u043e\\u0432\\u043a\\u0438 \\u043f\\u0440\\u0438 \\u043f\\u0430\\u0434\\u0435\\u043d\\u0438\\u0438 \\u043e\\u0442\\u043b\\u0435\\u0442\\u0430\\u0435\\u0442 \\u043a\\u0440\\u044b\\u0448\\u043a\\u0430 \\u0438 \\u0431\\u0430\\u0442\\u0430\\u0440\\u0435\\u044f \\u0447\\u0442\\u043e \\u0432\\u0438\\u0434\\u0438\\u043c\\u043e \\u0433\\u0430\\u0441\\u0438\\u0442 \\u0443\\u0434\\u0430\\u0440 \\u044d\\u0442\\u043e \\u043e\\u0434\\u043d\\u043e\\u0437\\u043d\\u0430\\u0447\\u043d\\u043e \\u043f\\u043b\\u044e\\u0441\\u0432\\u043d\\u0435\\u0448\\u043d\\u0438\\u0435 \\u0434\\u0438\\u043d\\u0430\\u043c\\u0438\\u043a\\u0438 \\u0441\\u0442\\u0435\\u0440\\u0435\\u043e \\u0442\\u0435 \\u0438\\u0445 2 \\u043d\\u0430 \\u043c\\u0430\\u043a\\u0441\\u0438\\u043c\\u0443\\u043c\\u0435 \\u0438\\u0441\\u043a\\u0430\\u0436\\u0435\\u043d\\u0438\\u0439 \\u043d\\u0435 \\u0432\\u043e\\u0437\\u043d\\u0438\\u043a\\u0430\\u0435\\u0442 \\u0435\\u0441\\u043b\\u0438 \\u043d\\u0435 \\u0432\\u043a\\u043b\\u044e\\u0447\\u0438\\u0442\\u044c \\u0447\\u0435\\u0433\\u043e \\u043d\\u0438\\u0431\\u0443\\u0434\\u044c \\u0431\\u0430\\u0441\\u0438\\u0441\\u0442\\u043e\\u0433\\u043e \\u0442\\u043e\\u0433\\u0434\\u0430 \\u0435\\u0441\\u0442\\u0435\\u0441\\u0442\\u0432\\u0435\\u043d\\u043d\\u043e \\u043a\\u0445\\u043c \\u043f\\u043e\\u0434\\u043f\\u0451\\u0440\\u0434\\u044b\\u0432\\u0430\\u0435\\u0442 \\u043d\\u043e \\u044d\\u0442\\u043e \\u0432 \\u043e\\u0431\\u0449\\u0435\\u043c \\u0442\\u043e \\u0435\\u0441\\u0442\\u0435\\u0441\\u0442\\u0432\\u0435\\u043d\\u043d\\u043e\\u0432\\u0438\\u0431\\u0440\\u0430\\u0442\\u043e\\u0440 \\u0432 \\u0442\\u0435\\u043b\\u0435\\u0444\\u043e\\u043d\\u0435 \\u0445\\u043e\\u0440\\u043e\\u0448\\u0438\\u0439 \\u0430\\u0439\\u0444\\u043e\\u043d \\u0432 \\u044d\\u0442\\u043e\\u043c \\u043f\\u043b\\u0430\\u043d\\u0435 \\u043f\\u0440\\u043e\\u0438\\u0433\\u0440\\u044b\\u0432\\u0430\\u0435\\u0442 \\u043f\\u0440\\u043e\\u043f\\u0443\\u0441\\u043a\\u0430\\u044e \\u0432\\u044b\\u0437\\u043e\\u0432\\u044b\\u043f\\u0440\\u0438 \\u043d\\u0430\\u0431\\u043e\\u0440\\u0435 \\u0441\\u043c\\u0441 \\u043c\\u043e\\u0436\\u043d\\u043e \\u043f\\u043e\\u0432\\u0435\\u0440\\u043d\\u0443\\u0442\\u044c \\u0442\\u0435\\u043b\\u0435\\u0444\\u043e\\u043d \\u0433\\u043e\\u0440\\u0438\\u0437\\u043e\\u043d\\u0442\\u0430\\u043b\\u044c\\u043d\\u043e \\u043f\\u043e\\u044f\\u0432\\u0438\\u0442\\u0441\\u044f qwerty \\u043a\\u043b\\u0430\\u0432\\u0438\\u0430\\u0442\\u0443\\u0440\\u0430 \\u043d\\u0430 \\u0432\\u0435\\u0441\\u044c \\u044d\\u043a\\u0440\\u0430\\u043d \\u043e\\u0447\\u0435\\u043d\\u044c \\u0443\\u0434\\u043e\\u0431\\u043d\\u043e \\u043d\\u0430\\u0431\\u0438\\u0440\\u0430\\u0442\\u044c \\u0442\\u0435\\u043a\\u0441\\u0442 \\u0445\\u043e\\u0442\\u044f \\u043c\\u043e\\u0436\\u0435\\u0442 \\u043f\\u0440\\u043e\\u0441\\u0442\\u043e \\u044f \\u043f\\u0440\\u0438\\u0432\\u044b\\u043a\\u043f\\u0440\\u0438 \\u043f\\u043e\\u0434\\u043a\\u043b\\u044e\\u0447\\u0435\\u043d\\u0438\\u0438 \\u043a \\u043a\\u043e\\u043c\\u043f\\u0443 \\u043e\\u043f\\u0440\\u0435\\u0434\\u0435\\u043b\\u044f\\u0435\\u0442\\u0441\\u044f \\u043a\\u0430\\u043a \\u0441\\u044a\\u0451\\u043c\\u043d\\u044b\\u0439 \\u0434\\u0438\\u0441\\u043a \\u0438 \\u043c\\u043e\\u0436\\u043d\\u043e \\u0441\\u0440\\u0430\\u0437\\u0443 \\u0437\\u0430\\u043a\\u0438\\u0434\\u044b\\u0432\\u0430\\u0442\\u044c\\u0441\\u043a\\u0438\\u0434\\u044b\\u0432\\u0430\\u0442\\u044c \\u0438\\u043d\\u0444\\u0443 \\u043d\\u0438\\u043a\\u0430\\u043a\\u0438\\u0445 \\u0432\\u0430\\u043c \\u0430\\u0439\\u0442\\u044e\\u043d\\u0437 \\u0438 \\u043f\\u0440\\u0430 \\u0442\\u0435\\u043f\\u0435\\u0440\\u044c \\u043f\\u043e \\u043c\\u0438\\u043d\\u0443\\u0441\\u0430\\u043c\\u043f\\u0440\\u0438\\u043b\\u043e\\u0436\\u0435\\u043d\\u0438\\u044f \\u0432\\u044b\\u043b\\u0435\\u0442\\u0430\\u044e\\u0442 \\u043f\\u0440\\u043e\\u0441\\u0442\\u043e \\u0442\\u0430\\u043a \\u044f\\u043d\\u0434\\u0435\\u043a\\u0441 \\u043a\\u0430\\u0440\\u0442\\u044b \\u043c\\u043e\\u0433\\u0443\\u0442 \\u0437\\u0430\\u043a\\u0440\\u044b\\u0442\\u044c\\u0441\\u044f \\u0431\\u0435\\u0437 \\u0432\\u0438\\u0434\\u0438\\u043c\\u044b\\u0445 \\u043f\\u0440\\u0438\\u0447\\u0438\\u043d \\u0441\\u0442\\u0430\\u043d\\u0434\\u0430\\u0440\\u0442\\u043d\\u044b\\u0439 \\u0431\\u0440\\u043e\\u0443\\u0437\\u0435\\u0440 \\u0432\\u043e\\u043e\\u0431\\u0449\\u0435 \\u0443\\u0436\\u0430\\u0441 \\u043d\\u0435\\u0432\\u043e\\u0437\\u043c\\u043e\\u0436\\u043d\\u043e \\u043f\\u043e\\u043b\\u044c\\u0437\\u043e\\u0432\\u0430\\u0442\\u044c\\u0441\\u044f \\u043f\\u0430\\u0434\\u0430\\u0435\\u0442\\u0433\\u043e\\u0432\\u043e\\u0440\\u044f\\u0442 \\u043c\\u043e\\u0436\\u043d\\u043e \\u043f\\u043e\\u0441\\u0442\\u0430\\u0432\\u0438\\u0442\\u044c \\u0441\\u0438\\u043c\\u0431\\u0438\\u0430\\u043d \\u0430\\u043d\\u043d\\u0430 \\u043d\\u0430 \\u044d\\u0442\\u043e\\u0442 \\u0442\\u0435\\u043b\\u0435\\u0444\\u043e\\u043d \\u043d\\u043e \\u043d\\u0443\\u0436\\u043d\\u043e \\u0434\\u0440\\u0443\\u0436\\u0438\\u0442\\u044c \\u0441 \\u043a\\u043e\\u043c\\u043f\\u044c\\u044e\\u0442\\u0435\\u0440\\u043e\\u043c \\u0438 \\u0432\\u043e\\u043e\\u0431\\u0449\\u0435 \\u043d\\u0435 \\u0434\\u043b\\u044f \\u0431\\u043b\\u043e\\u043d\\u0434\\u0438\\u043d\\u043e\\u043a \\u044d\\u0442\\u043e \\u0437\\u0430\\u043d\\u044f\\u0442\\u0438\\u0435 \\u043a \\u0442\\u043e\\u043c\\u0443 \\u0436\\u0435 \\u0440\\u0435\\u0437\\u0443\\u043b\\u044c\\u0442\\u0430\\u0442 \\u043d\\u0435 \\u043f\\u0440\\u0435\\u0434\\u0441\\u043a\\u0430\\u0437\\u0443\\u0435\\u043c \\u0434\\u0430 \\u0438 \\u043b\\u0443\\u0447\\u0448\\u0435 \\u043b\\u0438 \\u0442\\u0430 \\u0441\\u0438\\u043c\\u0431\\u0430 \\u0442\\u0435\\u043a\\u0443\\u0449\\u0435\\u0439\\u043f\\u044b\\u043b\\u044c \\u043f\\u043e\\u0434 \\u044d\\u043a\\u0440\\u0430\\u043d \\u043f\\u043e\\u043f\\u0430\\u0434\\u0430\\u0435\\u0442 \\u043d\\u043e \\u0432\\u0438\\u0434\\u043d\\u043e \\u044d\\u0442\\u043e \\u0442\\u043e\\u043b\\u044c\\u043a\\u043e \\u043d\\u0430 \\u0441\\u0432\\u0435\\u0442\\u0443 \\u0432\\u0441\\u0451 \\u0440\\u0430\\u0432\\u043d\\u043e \\u043d\\u0435 \\u0445\\u043e\\u0440\\u043e\\u0448\\u043e \\u044d\\u0442\\u043e\\u043a\\u0430\\u043c\\u0435\\u0440\\u0430 \\u0432 \\u0442\\u0435\\u043b\\u0435\\u0444\\u043e\\u043d\\u0435 \\u043f\\u0440\\u043e\\u0441\\u0442\\u043e \\u0443\\u0436\\u0430\\u0441 \\u0440\\u0430\\u0437\\u043d\\u0438\\u0446\\u0430 \\u0441 5800 \\u043a\\u043e\\u043d\\u0435\\u0447\\u043d\\u043e \\u0435\\u0441\\u0442\\u044c \\u043d\\u043e \\u043d\\u0435 \\u043d\\u0430 \\u043c\\u043d\\u043e\\u0433\\u043e\\u0432 \\u043e\\u0431\\u0449\\u0435\\u043c \\u0442\\u0435\\u043b\\u0435\\u0444\\u043e\\u043d \\u043a\\u0430\\u043a \\u0442\\u0435\\u043b\\u0435\\u0444\\u043e\\u043d \\u043d\\u0438\\u0447\\u0435\\u0433\\u043e \\u0441\\u0432\\u0435\\u0440\\u0445\\u044a\\u0435\\u0441\\u0442\\u0435\\u0441\\u0442\\u0432\\u0435\\u043d\\u043d\\u043e\\u0433\\u043e \\u0431\\u0430\\u0442\\u0430\\u0440\\u0435\\u044f \\u043f\\u0440\\u0438 \\u0430\\u043a\\u0442\\u0438\\u0432\\u043d\\u043e\\u043c \\u0438\\u0441\\u043f\\u043e\\u043b\\u044c\\u0437\\u043e\\u0432\\u0430\\u043d\\u0438\\u0438 \\u0441\\u0430\\u0434\\u0438\\u0442\\u0441\\u044f \\u0437\\u0430 \\u0441\\u0443\\u0442\\u043a\\u0438 \\u043f\\u0440\\u0438 \\u043d\\u0435 \\u0430\\u043a\\u0442\\u0438\\u0432\\u043d\\u043e\\u043c \\u0437\\u0430 \\u043f\\u043e\\u043b\\u0442\\u043e\\u0440\\u0430 \\u0441\\u0443\\u0442\\u043e\\u043a \\u0442\\u0430\\u043a \\u0447\\u0442\\u043e \\u043d\\u0430 \\u043d\\u043e\\u0447\\u044c \\u043d\\u0430 \\u0437\\u0430\\u0440\\u044f\\u0434\\u043a\\u0443 \\u043d\\u0430\\u0432\\u0438\\u0433\\u0430\\u0446\\u0438\\u044f \\u0445\\u043e\\u0440\\u043e\\u0448\\u0430\\u044f \\u043f\\u0430\\u0440\\u0443 \\u0440\\u0430\\u0437 \\u0435\\u0437\\u0434\\u0438\\u043b \\u043f\\u043e \\u0440\\u043e\\u0441\\u0441\\u0438\\u0438 \\u043d\\u0435 \\u0437\\u0430\\u0431\\u043b\\u0443\\u0434\\u0438\\u043b\\u0441\\u044f \\u0435\\u0434\\u0438\\u043d\\u0441\\u0442\\u0432\\u0435\\u043d\\u043d\\u043e\\u0435 \\u043c\\u0435\\u0441\\u0442\\u043e \\u0432 \\u043f\\u0440\\u0438\\u043a\\u0443\\u0440\\u0438\\u0432\\u0430\\u0442\\u0435\\u043b\\u0435 \\u0437\\u0430\\u043d\\u0438\\u043c\\u0430\\u0435\\u0442 \\u043d\\u043e \\u043d\\u0430\\u0432\\u0435\\u0440\\u043d\\u043e \\u0442\\u0430\\u043a \\u0432\\u0441\\u0435 gps \\u043f\\u0440\\u0438\\u0451\\u043c\\u043d\\u0438\\u043a\\u0438 \\u0434\\u0435\\u043b\\u0430\\u044e\\u0442\\u0441\\u0430\\u043c \\u0431\\u044b\\u0432\\u0448\\u0438\\u0439 \\u0444\\u0430\\u043d\\u0430\\u0442 nokia \\u043d\\u043e \\u0447\\u0435\\u0441\\u0442\\u043d\\u043e \\u0441\\u043a\\u0430\\u0437\\u0430\\u0442\\u044c \\u0434\\u0435\\u043b\\u043e \\u043d\\u0435 \\u0432 \\u0430\\u0439\\u0444\\u043e\\u043d\\u0435 nokia \\u043f\\u043e\\u0442\\u0435\\u0440\\u044f\\u043b\\u0430 \\u043c\\u0435\\u0441\\u0442\\u043e \\u043b\\u0438\\u0434\\u0435\\u0440\\u0430 \\u0442\\u0435\\u043f\\u0435\\u0440\\u044c \\u0434\\u0430\\u0436\\u0435 \\u0441\\u0430\\u043c\\u0441\\u0443\\u043d\\u0433 \\u0438 lg \\u0434\\u0435\\u043b\\u0430\\u044e\\u0442 \\u0442\\u0435\\u043b\\u0435\\u0444\\u043e\\u043d\\u044b \\u043b\\u0443\\u0447\\u0448\\u0435\",\n          \"\\u0442\\u043e\\u043f \\u043f\\u043e \\u0441\\u043e\\u043e\\u0442\\u043d\\u043e\\u0448\\u0435\\u043d\\u0438\\u044e \\u0446\\u0435\\u043d\\u0430\\u043a\\u0430\\u0447\\u0435\\u0441\\u0442\\u0432\\u043e\\u0435\\u0441\\u043b\\u0438 \\u0431\\u0440\\u0430\\u0442\\u044c \\u0447\\u0442\\u043e\\u0442\\u043e \\u043b\\u0443\\u0447\\u0448\\u0435 \\u0442\\u043e \\u043d\\u0443\\u0436\\u043d\\u043e \\u0440\\u0430\\u0441\\u043a\\u043e\\u0448\\u0435\\u043b\\u0438\\u0442\\u044c\\u0441\\u044f \\u043d\\u0430 4050\\u0442\\u0440 \\u0430 \\u044d\\u0442\\u043e\\u0442 \\u0430\\u043f\\u043f\\u0430\\u0440\\u0430\\u0442 \\u0441\\u0442\\u043e\\u0438\\u043b 1620\",\n          \"\\u0442\\u0435\\u043b\\u0435\\u0444\\u043e\\u043d \\u0431\\u0440\\u0430\\u043b \\u043d\\u0430 \\u0437\\u0430\\u043c\\u0435\\u043d\\u0443 \\u043e\\u0442\\u0432\\u0440\\u0430\\u0442\\u0438\\u0442\\u0435\\u043b\\u044c\\u043d\\u043e\\u043c\\u0443 w21 honphone\\u0442\\u0435\\u043f\\u0435\\u0440\\u044c \\u043e\\u0434\\u043d\\u0438 \\u043f\\u043e\\u043b\\u043e\\u0436\\u0438\\u0442\\u0435\\u043b\\u044c\\u043d\\u044b\\u0435 \\u044d\\u043c\\u043e\\u0446\\u0438\\u0438 \\u0437\\u0430 \\u0434\\u0432\\u0430 \\u0434\\u043d\\u044f \\u0440\\u0430\\u0431\\u043e\\u0442\\u044b gps3g \\u0437\\u0430\\u0440\\u044f\\u0434 \\u043e\\u043a\\u043e\\u043b\\u043e 30 \\u0441\\u043f\\u0443\\u0442\\u043d\\u0438\\u043a\\u0438 \\u043b\\u043e\\u0432\\u0438\\u0442 \\u043c\\u043e\\u043c\\u0435\\u043d\\u0442\\u0430\\u043b\\u044c\\u043d\\u043e \\u0437\\u0430 \\u043f\\u0430\\u0440\\u0443 \\u0441\\u0435\\u043a\\u0443\\u043d\\u0434 \\u044f\\u0440\\u043a\\u0438\\u0439 \\u043a\\u043e\\u043d\\u0442\\u0440\\u0430\\u0441\\u0442\\u043d\\u044b\\u0439 \\u044d\\u043a\\u0440\\u0430\\u043d \\u043d\\u0430 \\u0441\\u043e\\u043b\\u043d\\u0446\\u0435 \\u043d\\u043e\\u0440\\u043c\\u0430\\u043b\\u044c\\u043d\\u043e \\u0432\\u0438\\u0434\\u043d\\u043e \\u043a\\u0430\\u0440\\u0442\\u0438\\u043d\\u043a\\u0443 \\u043c\\u043d\\u0435 \\u0431\\u044b\\u043b \\u043d\\u0443\\u0436\\u0435\\u043d \\u0438\\u043c\\u0435\\u043d\\u043d\\u043e \\u0442\\u0430\\u043a\\u043e\\u0439 \\u0447\\u0442\\u043e \\u0431\\u044b \\u043d\\u0430 \\u0432\\u0435\\u043b\\u0438\\u043a \\u0443\\u0441\\u0442\\u0430\\u043d\\u043e\\u0432\\u0438\\u0442\\u044c \\u0438 \\u043a\\u0430\\u0442\\u0430\\u0442\\u044c\\u0441\\u044f \\u043f\\u043e \\u0433\\u043e\\u0440\\u043e\\u0434\\u0443 \\u0438 \\u043f\\u0440\\u0438\\u0433\\u043e\\u0440\\u043e\\u0434\\u0443\\u043f\\u0440\\u0438\\u043a\\u043e\\u043b\\u044c\\u043d\\u0430\\u044f \\u0444\\u0443\\u043d\\u043a\\u0446\\u0438\\u044f \\u0440\\u0430\\u0437\\u0431\\u043b\\u043e\\u043a\\u0438\\u0440\\u043e\\u0432\\u043a\\u0438 knock \\u043e\\u0441\\u0442\\u0430\\u043b\\u043e\\u0441\\u044c \\u0442\\u043e\\u043b\\u044c\\u043a\\u043e \\u0447\\u0435\\u0445\\u043e\\u043b\\u044c\\u0447\\u0438\\u043a \\u043f\\u0440\\u0438\\u043a\\u0443\\u043f\\u0438\\u0442\\u044c \\u0438 \\u0441\\u043d\\u044f\\u0442\\u044c \\u0434\\u0443\\u0440\\u0430\\u0446\\u043a\\u0443\\u044e \\u0437\\u0430\\u0449\\u0438\\u0442\\u043d\\u0443\\u044e \\u0437\\u0430\\u0432\\u043e\\u0434\\u0441\\u043a\\u0443\\u044e \\u043f\\u043b\\u0435\\u043d\\u043a\\u0443 \\u043d\\u0430 \\u043d\\u0435\\u0439 \\u043e\\u0434\\u043d\\u043e \\u0443\\u0434\\u043e\\u0431\\u0441\\u0442\\u0432\\u043e \\u0440\\u0430\\u0437\\u043c\\u0435\\u0447\\u0435\\u043d\\u044b \\u043a\\u0432\\u0430\\u0434\\u0440\\u0430\\u0442\\u044b \\u043a\\u0443\\u0434\\u0430 \\u0442\\u044b\\u043a\\u0430\\u0442\\u044c \\u043f\\u0430\\u043b\\u044c\\u0446\\u0430\\u043c\\u0438 \\u0434\\u043b\\u044f \\u043d\\u0430\\u0431\\u043e\\u0440\\u0430 \\u043a\\u043e\\u0434\\u0430\"\n        ],\n        \"semantic_type\": \"\",\n        \"description\": \"\"\n      }\n    },\n    {\n      \"column\": \"text_len\",\n      \"properties\": {\n        \"dtype\": \"number\",\n        \"std\": 67,\n        \"min\": 5,\n        \"max\": 354,\n        \"num_unique_values\": 339,\n        \"samples\": [\n          59,\n          227,\n          230\n        ],\n        \"semantic_type\": \"\",\n        \"description\": \"\"\n      }\n    },\n    {\n      \"column\": \"token_lens\",\n      \"properties\": {\n        \"dtype\": \"number\",\n        \"std\": 85,\n        \"min\": 7,\n        \"max\": 482,\n        \"num_unique_values\": 439,\n        \"samples\": [\n          177,\n          364,\n          98\n        ],\n        \"semantic_type\": \"\",\n        \"description\": \"\"\n      }\n    }\n  ]\n}"
            }
          },
          "metadata": {},
          "execution_count": 33
        }
      ]
    },
    {
      "cell_type": "code",
      "source": [
        "filtered_df = df.loc[df['token_lens'] < 100]"
      ],
      "metadata": {
        "id": "_P7e0371q1zL"
      },
      "execution_count": null,
      "outputs": []
    },
    {
      "cell_type": "code",
      "source": [
        "filtered_df.shape"
      ],
      "metadata": {
        "colab": {
          "base_uri": "https://localhost:8080/"
        },
        "id": "5oP1bQ-Nt95m",
        "outputId": "8e6fa53d-ed03-466d-b282-30544c856f42"
      },
      "execution_count": null,
      "outputs": [
        {
          "output_type": "execute_result",
          "data": {
            "text/plain": [
              "(26861, 5)"
            ]
          },
          "metadata": {},
          "execution_count": 42
        }
      ]
    },
    {
      "cell_type": "code",
      "source": [
        "df = filtered_df"
      ],
      "metadata": {
        "id": "MGjt9lxguJty"
      },
      "execution_count": null,
      "outputs": []
    },
    {
      "cell_type": "code",
      "source": [
        "df.info()"
      ],
      "metadata": {
        "colab": {
          "base_uri": "https://localhost:8080/"
        },
        "id": "WI_xZl9JMSYW",
        "outputId": "fadf0852-c518-45b3-9d33-f13ef532c3a2"
      },
      "execution_count": null,
      "outputs": [
        {
          "output_type": "stream",
          "name": "stdout",
          "text": [
            "<class 'pandas.core.frame.DataFrame'>\n",
            "Index: 26861 entries, 38001 to 11331\n",
            "Data columns (total 5 columns):\n",
            " #   Column         Non-Null Count  Dtype \n",
            "---  ------         --------------  ----- \n",
            " 0   OriginalTweet  26861 non-null  object\n",
            " 1   Sentiment      26861 non-null  int64 \n",
            " 2   text_clean     26861 non-null  object\n",
            " 3   text_len       26861 non-null  int64 \n",
            " 4   token_lens     26861 non-null  int64 \n",
            "dtypes: int64(3), object(2)\n",
            "memory usage: 1.2+ MB\n"
          ]
        }
      ]
    },
    {
      "cell_type": "code",
      "source": [
        "#df = df.iloc[16:]"
      ],
      "metadata": {
        "id": "N0iJjjjxyuKC"
      },
      "execution_count": null,
      "outputs": []
    },
    {
      "cell_type": "code",
      "source": [
        "df.shape"
      ],
      "metadata": {
        "colab": {
          "base_uri": "https://localhost:8080/"
        },
        "id": "FrXBr8HWAduy",
        "outputId": "5d7be49f-af16-476f-8ec1-de08a975257c"
      },
      "execution_count": null,
      "outputs": [
        {
          "output_type": "execute_result",
          "data": {
            "text/plain": [
              "(26861, 5)"
            ]
          },
          "metadata": {},
          "execution_count": 45
        }
      ]
    },
    {
      "cell_type": "markdown",
      "source": [
        "Теперь набор данных выглядит более чистым. Мы перетасуем его и сбросим индекс."
      ],
      "metadata": {
        "id": "IsLj7iCJFUaF"
      }
    },
    {
      "cell_type": "code",
      "source": [
        "df = df.sample(frac=1).reset_index(drop=True)"
      ],
      "metadata": {
        "execution": {
          "iopub.status.busy": "2021-12-22T21:16:45.981284Z",
          "iopub.execute_input": "2021-12-22T21:16:45.98155Z",
          "iopub.status.idle": "2021-12-22T21:16:45.995008Z",
          "shell.execute_reply.started": "2021-12-22T21:16:45.981515Z",
          "shell.execute_reply": "2021-12-22T21:16:45.994358Z"
        },
        "trusted": true,
        "id": "Kh5Y1sSUShbB"
      },
      "execution_count": null,
      "outputs": []
    },
    {
      "cell_type": "markdown",
      "source": [
        "### Анализ колонки Sentiment (Настроение)"
      ],
      "metadata": {
        "id": "MTEZOAvTGmWW"
      }
    },
    {
      "cell_type": "code",
      "source": [
        "df['Sentiment'].value_counts()"
      ],
      "metadata": {
        "execution": {
          "iopub.status.busy": "2021-12-22T21:16:47.549868Z",
          "iopub.execute_input": "2021-12-22T21:16:47.550374Z",
          "iopub.status.idle": "2021-12-22T21:16:47.564332Z",
          "shell.execute_reply.started": "2021-12-22T21:16:47.550336Z",
          "shell.execute_reply": "2021-12-22T21:16:47.56366Z"
        },
        "trusted": true,
        "id": "yWO9kr1yShbC",
        "outputId": "6c5d948e-2f32-4de9-ec13-1ec41e94f2e0",
        "colab": {
          "base_uri": "https://localhost:8080/",
          "height": 272
        }
      },
      "execution_count": null,
      "outputs": [
        {
          "output_type": "execute_result",
          "data": {
            "text/plain": [
              "Sentiment\n",
              "5    13722\n",
              "4     5893\n",
              "3     3309\n",
              "2     2075\n",
              "1     1862\n",
              "Name: count, dtype: int64"
            ],
            "text/html": [
              "<div>\n",
              "<style scoped>\n",
              "    .dataframe tbody tr th:only-of-type {\n",
              "        vertical-align: middle;\n",
              "    }\n",
              "\n",
              "    .dataframe tbody tr th {\n",
              "        vertical-align: top;\n",
              "    }\n",
              "\n",
              "    .dataframe thead th {\n",
              "        text-align: right;\n",
              "    }\n",
              "</style>\n",
              "<table border=\"1\" class=\"dataframe\">\n",
              "  <thead>\n",
              "    <tr style=\"text-align: right;\">\n",
              "      <th></th>\n",
              "      <th>count</th>\n",
              "    </tr>\n",
              "    <tr>\n",
              "      <th>Sentiment</th>\n",
              "      <th></th>\n",
              "    </tr>\n",
              "  </thead>\n",
              "  <tbody>\n",
              "    <tr>\n",
              "      <th>5</th>\n",
              "      <td>13722</td>\n",
              "    </tr>\n",
              "    <tr>\n",
              "      <th>4</th>\n",
              "      <td>5893</td>\n",
              "    </tr>\n",
              "    <tr>\n",
              "      <th>3</th>\n",
              "      <td>3309</td>\n",
              "    </tr>\n",
              "    <tr>\n",
              "      <th>2</th>\n",
              "      <td>2075</td>\n",
              "    </tr>\n",
              "    <tr>\n",
              "      <th>1</th>\n",
              "      <td>1862</td>\n",
              "    </tr>\n",
              "  </tbody>\n",
              "</table>\n",
              "</div><br><label><b>dtype:</b> int64</label>"
            ]
          },
          "metadata": {},
          "execution_count": 47
        }
      ]
    },
    {
      "cell_type": "code",
      "source": [
        "#df.drop(df[df['Sentiment'] == 7].index, inplace=True)\n",
        "#df.drop(df[df['Sentiment'] == 9].index, inplace=True)\n",
        "#df.drop(df[df['Sentiment'] == 0].index, inplace=True)"
      ],
      "metadata": {
        "id": "JA-BTcGnzXsf"
      },
      "execution_count": null,
      "outputs": []
    },
    {
      "cell_type": "markdown",
      "source": [
        "### Балансировка классов"
      ],
      "metadata": {
        "id": "HRx9H0CWH_Xr"
      }
    },
    {
      "cell_type": "markdown",
      "source": [
        "С помощью метода `RandomOverSampler`, мы увеличим выборки для классов с меньшим числом образцов. Это можно сделать различными способами, например, путем дублирования существующих примеров, генерации синтетических данных или комбинирования этих методов."
      ],
      "metadata": {
        "id": "_QNMFX_OH-Wr"
      }
    },
    {
      "cell_type": "code",
      "source": [
        "# Создание экземпляра RandomOverSampler\n",
        "ros = RandomOverSampler()\n",
        "\n",
        "# Применение увеличения выборки к данным (X_resampled, y_resampled = ros.fit_resample(X, y))\n",
        "train_x, train_y = ros.fit_resample(np.array(df['text_clean']).reshape(-1, 1), np.array(df['Sentiment']).reshape(-1, 1));\n",
        "\n",
        "# Снова объединим выборки в DataFrame\n",
        "train_os = pd.DataFrame(list(zip([x[0] for x in train_x], train_y)), columns = ['text_clean', 'Sentiment']);"
      ],
      "metadata": {
        "execution": {
          "iopub.status.busy": "2021-12-22T21:16:47.601159Z",
          "iopub.execute_input": "2021-12-22T21:16:47.601752Z",
          "iopub.status.idle": "2021-12-22T21:16:47.697589Z",
          "shell.execute_reply.started": "2021-12-22T21:16:47.601678Z",
          "shell.execute_reply": "2021-12-22T21:16:47.696904Z"
        },
        "trusted": true,
        "id": "si2HAB1kShbD"
      },
      "execution_count": null,
      "outputs": []
    },
    {
      "cell_type": "markdown",
      "source": [
        "В этом примере мы используем библиотеку `imbalanced-learn` для увеличения выборки с помощью `RandomOverSampler`. Этот метод случайным образом выбирает примеры из класса c меньшим числом примеров и дублирует их, пока не будет достигнут баланс."
      ],
      "metadata": {
        "id": "MxyknntOOP8u"
      }
    },
    {
      "cell_type": "code",
      "source": [
        "train_os['Sentiment'].value_counts()"
      ],
      "metadata": {
        "execution": {
          "iopub.status.busy": "2021-12-22T21:16:47.698691Z",
          "iopub.execute_input": "2021-12-22T21:16:47.698926Z",
          "iopub.status.idle": "2021-12-22T21:16:47.705998Z",
          "shell.execute_reply.started": "2021-12-22T21:16:47.698894Z",
          "shell.execute_reply": "2021-12-22T21:16:47.70527Z"
        },
        "trusted": true,
        "id": "1BwLYilNShbD",
        "outputId": "823fa6b7-4a71-48e8-8686-3d83d4b20f07",
        "colab": {
          "base_uri": "https://localhost:8080/",
          "height": 272
        }
      },
      "execution_count": null,
      "outputs": [
        {
          "output_type": "execute_result",
          "data": {
            "text/plain": [
              "Sentiment\n",
              "5    13722\n",
              "3    13722\n",
              "1    13722\n",
              "2    13722\n",
              "4    13722\n",
              "Name: count, dtype: int64"
            ],
            "text/html": [
              "<div>\n",
              "<style scoped>\n",
              "    .dataframe tbody tr th:only-of-type {\n",
              "        vertical-align: middle;\n",
              "    }\n",
              "\n",
              "    .dataframe tbody tr th {\n",
              "        vertical-align: top;\n",
              "    }\n",
              "\n",
              "    .dataframe thead th {\n",
              "        text-align: right;\n",
              "    }\n",
              "</style>\n",
              "<table border=\"1\" class=\"dataframe\">\n",
              "  <thead>\n",
              "    <tr style=\"text-align: right;\">\n",
              "      <th></th>\n",
              "      <th>count</th>\n",
              "    </tr>\n",
              "    <tr>\n",
              "      <th>Sentiment</th>\n",
              "      <th></th>\n",
              "    </tr>\n",
              "  </thead>\n",
              "  <tbody>\n",
              "    <tr>\n",
              "      <th>5</th>\n",
              "      <td>13722</td>\n",
              "    </tr>\n",
              "    <tr>\n",
              "      <th>3</th>\n",
              "      <td>13722</td>\n",
              "    </tr>\n",
              "    <tr>\n",
              "      <th>1</th>\n",
              "      <td>13722</td>\n",
              "    </tr>\n",
              "    <tr>\n",
              "      <th>2</th>\n",
              "      <td>13722</td>\n",
              "    </tr>\n",
              "    <tr>\n",
              "      <th>4</th>\n",
              "      <td>13722</td>\n",
              "    </tr>\n",
              "  </tbody>\n",
              "</table>\n",
              "</div><br><label><b>dtype:</b> int64</label>"
            ]
          },
          "metadata": {},
          "execution_count": 49
        }
      ]
    },
    {
      "cell_type": "markdown",
      "source": [
        "Теперь классы сбалансированы."
      ],
      "metadata": {
        "id": "9J14vIZIJwYm"
      }
    },
    {
      "cell_type": "markdown",
      "source": [
        "### Обучающая, проверочная и тестовая выборки"
      ],
      "metadata": {
        "id": "g0KRYieSJ5P7"
      }
    },
    {
      "cell_type": "code",
      "source": [
        "X = train_os['text_clean'].values\n",
        "y = train_os['Sentiment'].values"
      ],
      "metadata": {
        "id": "sl_NhyNh4kcD"
      },
      "execution_count": null,
      "outputs": []
    },
    {
      "cell_type": "code",
      "source": [
        "X_train, X_temp, y_train, y_temp = train_test_split(X, y, test_size=0.2, random_state=42)"
      ],
      "metadata": {
        "id": "ppwnlmSX4kcE"
      },
      "execution_count": null,
      "outputs": []
    },
    {
      "cell_type": "code",
      "source": [
        "X_valid, X_test, y_valid, y_test = train_test_split(X_temp, y_temp, test_size=0.5, random_state=42)"
      ],
      "metadata": {
        "id": "ripNdQOk4-Bx"
      },
      "execution_count": null,
      "outputs": []
    },
    {
      "cell_type": "markdown",
      "source": [
        "### One hot encoding"
      ],
      "metadata": {
        "id": "LAUMQp-8K3f0"
      }
    },
    {
      "cell_type": "markdown",
      "source": [
        "Также сделаем копии наших выборок, они нам еще пригодятся:"
      ],
      "metadata": {
        "id": "Iv0JwU31M8o4"
      }
    },
    {
      "cell_type": "code",
      "source": [
        "y_train_le = y_train.copy()\n",
        "y_valid_le = y_valid.copy()\n",
        "y_test_le = y_test.copy()"
      ],
      "metadata": {
        "execution": {
          "iopub.status.busy": "2021-12-22T21:16:47.770333Z",
          "iopub.execute_input": "2021-12-22T21:16:47.770915Z",
          "iopub.status.idle": "2021-12-22T21:16:47.776791Z",
          "shell.execute_reply.started": "2021-12-22T21:16:47.770878Z",
          "shell.execute_reply": "2021-12-22T21:16:47.776179Z"
        },
        "trusted": true,
        "id": "IwHy3y47ShbE"
      },
      "execution_count": null,
      "outputs": []
    },
    {
      "cell_type": "code",
      "source": [
        "ohe = preprocessing.OneHotEncoder() # создаем экземпляр класса OneHotEncoder()\n",
        "\n",
        "# Формируем кодированные OHE метки для тренировочной, проверочной и тестовой выборок\n",
        "y_train = ohe.fit_transform(np.array(y_train).reshape(-1, 1)).toarray()\n",
        "y_valid = ohe.fit_transform(np.array(y_valid).reshape(-1, 1)).toarray()\n",
        "y_test = ohe.fit_transform(np.array(y_test).reshape(-1, 1)).toarray()"
      ],
      "metadata": {
        "execution": {
          "iopub.status.busy": "2021-12-22T21:16:47.778211Z",
          "iopub.execute_input": "2021-12-22T21:16:47.778775Z",
          "iopub.status.idle": "2021-12-22T21:16:47.791468Z",
          "shell.execute_reply.started": "2021-12-22T21:16:47.778739Z",
          "shell.execute_reply": "2021-12-22T21:16:47.790847Z"
        },
        "trusted": true,
        "id": "9cgHliaLShbE"
      },
      "execution_count": null,
      "outputs": []
    },
    {
      "cell_type": "code",
      "source": [
        "print(f\"Тренировочная выборка: {X_train.shape[0]}\")\n",
        "print(f\"Проверочная выборка: {X_valid.shape[0]}\")\n",
        "print(f\"Тестовая выборка: {X_test.shape[0]}\")"
      ],
      "metadata": {
        "colab": {
          "base_uri": "https://localhost:8080/"
        },
        "id": "CgjpwJleNsEw",
        "outputId": "d22783c1-fa8c-4503-d3ae-6cc69cfc46bd"
      },
      "execution_count": null,
      "outputs": [
        {
          "output_type": "stream",
          "name": "stdout",
          "text": [
            "Тренировочная выборка: 54888\n",
            "Проверочная выборка: 6861\n",
            "Тестовая выборка: 6861\n"
          ]
        }
      ]
    },
    {
      "cell_type": "markdown",
      "source": [
        "### Базовая модель: Наивный байесовский классификатор"
      ],
      "metadata": {
        "id": "jguO1qA-OHKz"
      }
    },
    {
      "cell_type": "markdown",
      "source": [
        "Токенизируем твиты, используя CountVectorizer:"
      ],
      "metadata": {
        "id": "6M8NecOhVvMr"
      }
    },
    {
      "cell_type": "code",
      "source": [
        "clf = CountVectorizer()\n",
        "X_train_cv =  clf.fit_transform(X_train)\n",
        "X_test_cv = clf.transform(X_test)"
      ],
      "metadata": {
        "execution": {
          "iopub.status.busy": "2021-12-22T21:16:47.79882Z",
          "iopub.execute_input": "2021-12-22T21:16:47.799076Z",
          "iopub.status.idle": "2021-12-22T21:16:49.887448Z",
          "shell.execute_reply.started": "2021-12-22T21:16:47.799042Z",
          "shell.execute_reply": "2021-12-22T21:16:49.886665Z"
        },
        "trusted": true,
        "id": "1UK6Iw4LShbF"
      },
      "execution_count": null,
      "outputs": []
    },
    {
      "cell_type": "markdown",
      "source": [
        "Преобразуем токенизированные твиты в формат TF-IDF (частота использования термина, умноженная на частоту использования документа):"
      ],
      "metadata": {
        "id": "7RK9kuR7V8I_"
      }
    },
    {
      "cell_type": "code",
      "source": [
        "tf_transformer = TfidfTransformer(use_idf=True).fit(X_train_cv)\n",
        "X_train_tf = tf_transformer.transform(X_train_cv)\n",
        "X_test_tf = tf_transformer.transform(X_test_cv)"
      ],
      "metadata": {
        "execution": {
          "iopub.status.busy": "2021-12-22T21:16:49.888669Z",
          "iopub.execute_input": "2021-12-22T21:16:49.890719Z",
          "iopub.status.idle": "2021-12-22T21:16:49.984621Z",
          "shell.execute_reply.started": "2021-12-22T21:16:49.890677Z",
          "shell.execute_reply": "2021-12-22T21:16:49.983725Z"
        },
        "trusted": true,
        "id": "Z8ebXN4ZShbF"
      },
      "execution_count": null,
      "outputs": []
    },
    {
      "cell_type": "markdown",
      "source": [
        "Создаем модель наивного байесовского классификатора:"
      ],
      "metadata": {
        "id": "W0vTytF0WWTB"
      }
    },
    {
      "cell_type": "code",
      "source": [
        "nb_clf = MultinomialNB()"
      ],
      "metadata": {
        "execution": {
          "iopub.status.busy": "2021-12-22T21:16:49.985855Z",
          "iopub.execute_input": "2021-12-22T21:16:49.986537Z",
          "iopub.status.idle": "2021-12-22T21:16:49.990851Z",
          "shell.execute_reply.started": "2021-12-22T21:16:49.986496Z",
          "shell.execute_reply": "2021-12-22T21:16:49.989982Z"
        },
        "trusted": true,
        "id": "m9vdtXi-ShbF"
      },
      "execution_count": null,
      "outputs": []
    },
    {
      "cell_type": "markdown",
      "source": [
        "Обучим его:"
      ],
      "metadata": {
        "id": "ovtIHjW_WfPl"
      }
    },
    {
      "cell_type": "code",
      "source": [
        "nb_clf.fit(X_train_tf, y_train_le)"
      ],
      "metadata": {
        "execution": {
          "iopub.status.busy": "2021-12-22T21:16:49.992138Z",
          "iopub.execute_input": "2021-12-22T21:16:49.992559Z",
          "iopub.status.idle": "2021-12-22T21:16:50.02363Z",
          "shell.execute_reply.started": "2021-12-22T21:16:49.992487Z",
          "shell.execute_reply": "2021-12-22T21:16:50.022914Z"
        },
        "trusted": true,
        "id": "m7dLh304ShbF",
        "outputId": "8974a2a3-2b58-4477-86cf-6d9679f8fbcc",
        "colab": {
          "base_uri": "https://localhost:8080/",
          "height": 80
        }
      },
      "execution_count": null,
      "outputs": [
        {
          "output_type": "execute_result",
          "data": {
            "text/plain": [
              "MultinomialNB()"
            ],
            "text/html": [
              "<style>#sk-container-id-1 {\n",
              "  /* Definition of color scheme common for light and dark mode */\n",
              "  --sklearn-color-text: black;\n",
              "  --sklearn-color-line: gray;\n",
              "  /* Definition of color scheme for unfitted estimators */\n",
              "  --sklearn-color-unfitted-level-0: #fff5e6;\n",
              "  --sklearn-color-unfitted-level-1: #f6e4d2;\n",
              "  --sklearn-color-unfitted-level-2: #ffe0b3;\n",
              "  --sklearn-color-unfitted-level-3: chocolate;\n",
              "  /* Definition of color scheme for fitted estimators */\n",
              "  --sklearn-color-fitted-level-0: #f0f8ff;\n",
              "  --sklearn-color-fitted-level-1: #d4ebff;\n",
              "  --sklearn-color-fitted-level-2: #b3dbfd;\n",
              "  --sklearn-color-fitted-level-3: cornflowerblue;\n",
              "\n",
              "  /* Specific color for light theme */\n",
              "  --sklearn-color-text-on-default-background: var(--sg-text-color, var(--theme-code-foreground, var(--jp-content-font-color1, black)));\n",
              "  --sklearn-color-background: var(--sg-background-color, var(--theme-background, var(--jp-layout-color0, white)));\n",
              "  --sklearn-color-border-box: var(--sg-text-color, var(--theme-code-foreground, var(--jp-content-font-color1, black)));\n",
              "  --sklearn-color-icon: #696969;\n",
              "\n",
              "  @media (prefers-color-scheme: dark) {\n",
              "    /* Redefinition of color scheme for dark theme */\n",
              "    --sklearn-color-text-on-default-background: var(--sg-text-color, var(--theme-code-foreground, var(--jp-content-font-color1, white)));\n",
              "    --sklearn-color-background: var(--sg-background-color, var(--theme-background, var(--jp-layout-color0, #111)));\n",
              "    --sklearn-color-border-box: var(--sg-text-color, var(--theme-code-foreground, var(--jp-content-font-color1, white)));\n",
              "    --sklearn-color-icon: #878787;\n",
              "  }\n",
              "}\n",
              "\n",
              "#sk-container-id-1 {\n",
              "  color: var(--sklearn-color-text);\n",
              "}\n",
              "\n",
              "#sk-container-id-1 pre {\n",
              "  padding: 0;\n",
              "}\n",
              "\n",
              "#sk-container-id-1 input.sk-hidden--visually {\n",
              "  border: 0;\n",
              "  clip: rect(1px 1px 1px 1px);\n",
              "  clip: rect(1px, 1px, 1px, 1px);\n",
              "  height: 1px;\n",
              "  margin: -1px;\n",
              "  overflow: hidden;\n",
              "  padding: 0;\n",
              "  position: absolute;\n",
              "  width: 1px;\n",
              "}\n",
              "\n",
              "#sk-container-id-1 div.sk-dashed-wrapped {\n",
              "  border: 1px dashed var(--sklearn-color-line);\n",
              "  margin: 0 0.4em 0.5em 0.4em;\n",
              "  box-sizing: border-box;\n",
              "  padding-bottom: 0.4em;\n",
              "  background-color: var(--sklearn-color-background);\n",
              "}\n",
              "\n",
              "#sk-container-id-1 div.sk-container {\n",
              "  /* jupyter's `normalize.less` sets `[hidden] { display: none; }`\n",
              "     but bootstrap.min.css set `[hidden] { display: none !important; }`\n",
              "     so we also need the `!important` here to be able to override the\n",
              "     default hidden behavior on the sphinx rendered scikit-learn.org.\n",
              "     See: https://github.com/scikit-learn/scikit-learn/issues/21755 */\n",
              "  display: inline-block !important;\n",
              "  position: relative;\n",
              "}\n",
              "\n",
              "#sk-container-id-1 div.sk-text-repr-fallback {\n",
              "  display: none;\n",
              "}\n",
              "\n",
              "div.sk-parallel-item,\n",
              "div.sk-serial,\n",
              "div.sk-item {\n",
              "  /* draw centered vertical line to link estimators */\n",
              "  background-image: linear-gradient(var(--sklearn-color-text-on-default-background), var(--sklearn-color-text-on-default-background));\n",
              "  background-size: 2px 100%;\n",
              "  background-repeat: no-repeat;\n",
              "  background-position: center center;\n",
              "}\n",
              "\n",
              "/* Parallel-specific style estimator block */\n",
              "\n",
              "#sk-container-id-1 div.sk-parallel-item::after {\n",
              "  content: \"\";\n",
              "  width: 100%;\n",
              "  border-bottom: 2px solid var(--sklearn-color-text-on-default-background);\n",
              "  flex-grow: 1;\n",
              "}\n",
              "\n",
              "#sk-container-id-1 div.sk-parallel {\n",
              "  display: flex;\n",
              "  align-items: stretch;\n",
              "  justify-content: center;\n",
              "  background-color: var(--sklearn-color-background);\n",
              "  position: relative;\n",
              "}\n",
              "\n",
              "#sk-container-id-1 div.sk-parallel-item {\n",
              "  display: flex;\n",
              "  flex-direction: column;\n",
              "}\n",
              "\n",
              "#sk-container-id-1 div.sk-parallel-item:first-child::after {\n",
              "  align-self: flex-end;\n",
              "  width: 50%;\n",
              "}\n",
              "\n",
              "#sk-container-id-1 div.sk-parallel-item:last-child::after {\n",
              "  align-self: flex-start;\n",
              "  width: 50%;\n",
              "}\n",
              "\n",
              "#sk-container-id-1 div.sk-parallel-item:only-child::after {\n",
              "  width: 0;\n",
              "}\n",
              "\n",
              "/* Serial-specific style estimator block */\n",
              "\n",
              "#sk-container-id-1 div.sk-serial {\n",
              "  display: flex;\n",
              "  flex-direction: column;\n",
              "  align-items: center;\n",
              "  background-color: var(--sklearn-color-background);\n",
              "  padding-right: 1em;\n",
              "  padding-left: 1em;\n",
              "}\n",
              "\n",
              "\n",
              "/* Toggleable style: style used for estimator/Pipeline/ColumnTransformer box that is\n",
              "clickable and can be expanded/collapsed.\n",
              "- Pipeline and ColumnTransformer use this feature and define the default style\n",
              "- Estimators will overwrite some part of the style using the `sk-estimator` class\n",
              "*/\n",
              "\n",
              "/* Pipeline and ColumnTransformer style (default) */\n",
              "\n",
              "#sk-container-id-1 div.sk-toggleable {\n",
              "  /* Default theme specific background. It is overwritten whether we have a\n",
              "  specific estimator or a Pipeline/ColumnTransformer */\n",
              "  background-color: var(--sklearn-color-background);\n",
              "}\n",
              "\n",
              "/* Toggleable label */\n",
              "#sk-container-id-1 label.sk-toggleable__label {\n",
              "  cursor: pointer;\n",
              "  display: block;\n",
              "  width: 100%;\n",
              "  margin-bottom: 0;\n",
              "  padding: 0.5em;\n",
              "  box-sizing: border-box;\n",
              "  text-align: center;\n",
              "}\n",
              "\n",
              "#sk-container-id-1 label.sk-toggleable__label-arrow:before {\n",
              "  /* Arrow on the left of the label */\n",
              "  content: \"▸\";\n",
              "  float: left;\n",
              "  margin-right: 0.25em;\n",
              "  color: var(--sklearn-color-icon);\n",
              "}\n",
              "\n",
              "#sk-container-id-1 label.sk-toggleable__label-arrow:hover:before {\n",
              "  color: var(--sklearn-color-text);\n",
              "}\n",
              "\n",
              "/* Toggleable content - dropdown */\n",
              "\n",
              "#sk-container-id-1 div.sk-toggleable__content {\n",
              "  max-height: 0;\n",
              "  max-width: 0;\n",
              "  overflow: hidden;\n",
              "  text-align: left;\n",
              "  /* unfitted */\n",
              "  background-color: var(--sklearn-color-unfitted-level-0);\n",
              "}\n",
              "\n",
              "#sk-container-id-1 div.sk-toggleable__content.fitted {\n",
              "  /* fitted */\n",
              "  background-color: var(--sklearn-color-fitted-level-0);\n",
              "}\n",
              "\n",
              "#sk-container-id-1 div.sk-toggleable__content pre {\n",
              "  margin: 0.2em;\n",
              "  border-radius: 0.25em;\n",
              "  color: var(--sklearn-color-text);\n",
              "  /* unfitted */\n",
              "  background-color: var(--sklearn-color-unfitted-level-0);\n",
              "}\n",
              "\n",
              "#sk-container-id-1 div.sk-toggleable__content.fitted pre {\n",
              "  /* unfitted */\n",
              "  background-color: var(--sklearn-color-fitted-level-0);\n",
              "}\n",
              "\n",
              "#sk-container-id-1 input.sk-toggleable__control:checked~div.sk-toggleable__content {\n",
              "  /* Expand drop-down */\n",
              "  max-height: 200px;\n",
              "  max-width: 100%;\n",
              "  overflow: auto;\n",
              "}\n",
              "\n",
              "#sk-container-id-1 input.sk-toggleable__control:checked~label.sk-toggleable__label-arrow:before {\n",
              "  content: \"▾\";\n",
              "}\n",
              "\n",
              "/* Pipeline/ColumnTransformer-specific style */\n",
              "\n",
              "#sk-container-id-1 div.sk-label input.sk-toggleable__control:checked~label.sk-toggleable__label {\n",
              "  color: var(--sklearn-color-text);\n",
              "  background-color: var(--sklearn-color-unfitted-level-2);\n",
              "}\n",
              "\n",
              "#sk-container-id-1 div.sk-label.fitted input.sk-toggleable__control:checked~label.sk-toggleable__label {\n",
              "  background-color: var(--sklearn-color-fitted-level-2);\n",
              "}\n",
              "\n",
              "/* Estimator-specific style */\n",
              "\n",
              "/* Colorize estimator box */\n",
              "#sk-container-id-1 div.sk-estimator input.sk-toggleable__control:checked~label.sk-toggleable__label {\n",
              "  /* unfitted */\n",
              "  background-color: var(--sklearn-color-unfitted-level-2);\n",
              "}\n",
              "\n",
              "#sk-container-id-1 div.sk-estimator.fitted input.sk-toggleable__control:checked~label.sk-toggleable__label {\n",
              "  /* fitted */\n",
              "  background-color: var(--sklearn-color-fitted-level-2);\n",
              "}\n",
              "\n",
              "#sk-container-id-1 div.sk-label label.sk-toggleable__label,\n",
              "#sk-container-id-1 div.sk-label label {\n",
              "  /* The background is the default theme color */\n",
              "  color: var(--sklearn-color-text-on-default-background);\n",
              "}\n",
              "\n",
              "/* On hover, darken the color of the background */\n",
              "#sk-container-id-1 div.sk-label:hover label.sk-toggleable__label {\n",
              "  color: var(--sklearn-color-text);\n",
              "  background-color: var(--sklearn-color-unfitted-level-2);\n",
              "}\n",
              "\n",
              "/* Label box, darken color on hover, fitted */\n",
              "#sk-container-id-1 div.sk-label.fitted:hover label.sk-toggleable__label.fitted {\n",
              "  color: var(--sklearn-color-text);\n",
              "  background-color: var(--sklearn-color-fitted-level-2);\n",
              "}\n",
              "\n",
              "/* Estimator label */\n",
              "\n",
              "#sk-container-id-1 div.sk-label label {\n",
              "  font-family: monospace;\n",
              "  font-weight: bold;\n",
              "  display: inline-block;\n",
              "  line-height: 1.2em;\n",
              "}\n",
              "\n",
              "#sk-container-id-1 div.sk-label-container {\n",
              "  text-align: center;\n",
              "}\n",
              "\n",
              "/* Estimator-specific */\n",
              "#sk-container-id-1 div.sk-estimator {\n",
              "  font-family: monospace;\n",
              "  border: 1px dotted var(--sklearn-color-border-box);\n",
              "  border-radius: 0.25em;\n",
              "  box-sizing: border-box;\n",
              "  margin-bottom: 0.5em;\n",
              "  /* unfitted */\n",
              "  background-color: var(--sklearn-color-unfitted-level-0);\n",
              "}\n",
              "\n",
              "#sk-container-id-1 div.sk-estimator.fitted {\n",
              "  /* fitted */\n",
              "  background-color: var(--sklearn-color-fitted-level-0);\n",
              "}\n",
              "\n",
              "/* on hover */\n",
              "#sk-container-id-1 div.sk-estimator:hover {\n",
              "  /* unfitted */\n",
              "  background-color: var(--sklearn-color-unfitted-level-2);\n",
              "}\n",
              "\n",
              "#sk-container-id-1 div.sk-estimator.fitted:hover {\n",
              "  /* fitted */\n",
              "  background-color: var(--sklearn-color-fitted-level-2);\n",
              "}\n",
              "\n",
              "/* Specification for estimator info (e.g. \"i\" and \"?\") */\n",
              "\n",
              "/* Common style for \"i\" and \"?\" */\n",
              "\n",
              ".sk-estimator-doc-link,\n",
              "a:link.sk-estimator-doc-link,\n",
              "a:visited.sk-estimator-doc-link {\n",
              "  float: right;\n",
              "  font-size: smaller;\n",
              "  line-height: 1em;\n",
              "  font-family: monospace;\n",
              "  background-color: var(--sklearn-color-background);\n",
              "  border-radius: 1em;\n",
              "  height: 1em;\n",
              "  width: 1em;\n",
              "  text-decoration: none !important;\n",
              "  margin-left: 1ex;\n",
              "  /* unfitted */\n",
              "  border: var(--sklearn-color-unfitted-level-1) 1pt solid;\n",
              "  color: var(--sklearn-color-unfitted-level-1);\n",
              "}\n",
              "\n",
              ".sk-estimator-doc-link.fitted,\n",
              "a:link.sk-estimator-doc-link.fitted,\n",
              "a:visited.sk-estimator-doc-link.fitted {\n",
              "  /* fitted */\n",
              "  border: var(--sklearn-color-fitted-level-1) 1pt solid;\n",
              "  color: var(--sklearn-color-fitted-level-1);\n",
              "}\n",
              "\n",
              "/* On hover */\n",
              "div.sk-estimator:hover .sk-estimator-doc-link:hover,\n",
              ".sk-estimator-doc-link:hover,\n",
              "div.sk-label-container:hover .sk-estimator-doc-link:hover,\n",
              ".sk-estimator-doc-link:hover {\n",
              "  /* unfitted */\n",
              "  background-color: var(--sklearn-color-unfitted-level-3);\n",
              "  color: var(--sklearn-color-background);\n",
              "  text-decoration: none;\n",
              "}\n",
              "\n",
              "div.sk-estimator.fitted:hover .sk-estimator-doc-link.fitted:hover,\n",
              ".sk-estimator-doc-link.fitted:hover,\n",
              "div.sk-label-container:hover .sk-estimator-doc-link.fitted:hover,\n",
              ".sk-estimator-doc-link.fitted:hover {\n",
              "  /* fitted */\n",
              "  background-color: var(--sklearn-color-fitted-level-3);\n",
              "  color: var(--sklearn-color-background);\n",
              "  text-decoration: none;\n",
              "}\n",
              "\n",
              "/* Span, style for the box shown on hovering the info icon */\n",
              ".sk-estimator-doc-link span {\n",
              "  display: none;\n",
              "  z-index: 9999;\n",
              "  position: relative;\n",
              "  font-weight: normal;\n",
              "  right: .2ex;\n",
              "  padding: .5ex;\n",
              "  margin: .5ex;\n",
              "  width: min-content;\n",
              "  min-width: 20ex;\n",
              "  max-width: 50ex;\n",
              "  color: var(--sklearn-color-text);\n",
              "  box-shadow: 2pt 2pt 4pt #999;\n",
              "  /* unfitted */\n",
              "  background: var(--sklearn-color-unfitted-level-0);\n",
              "  border: .5pt solid var(--sklearn-color-unfitted-level-3);\n",
              "}\n",
              "\n",
              ".sk-estimator-doc-link.fitted span {\n",
              "  /* fitted */\n",
              "  background: var(--sklearn-color-fitted-level-0);\n",
              "  border: var(--sklearn-color-fitted-level-3);\n",
              "}\n",
              "\n",
              ".sk-estimator-doc-link:hover span {\n",
              "  display: block;\n",
              "}\n",
              "\n",
              "/* \"?\"-specific style due to the `<a>` HTML tag */\n",
              "\n",
              "#sk-container-id-1 a.estimator_doc_link {\n",
              "  float: right;\n",
              "  font-size: 1rem;\n",
              "  line-height: 1em;\n",
              "  font-family: monospace;\n",
              "  background-color: var(--sklearn-color-background);\n",
              "  border-radius: 1rem;\n",
              "  height: 1rem;\n",
              "  width: 1rem;\n",
              "  text-decoration: none;\n",
              "  /* unfitted */\n",
              "  color: var(--sklearn-color-unfitted-level-1);\n",
              "  border: var(--sklearn-color-unfitted-level-1) 1pt solid;\n",
              "}\n",
              "\n",
              "#sk-container-id-1 a.estimator_doc_link.fitted {\n",
              "  /* fitted */\n",
              "  border: var(--sklearn-color-fitted-level-1) 1pt solid;\n",
              "  color: var(--sklearn-color-fitted-level-1);\n",
              "}\n",
              "\n",
              "/* On hover */\n",
              "#sk-container-id-1 a.estimator_doc_link:hover {\n",
              "  /* unfitted */\n",
              "  background-color: var(--sklearn-color-unfitted-level-3);\n",
              "  color: var(--sklearn-color-background);\n",
              "  text-decoration: none;\n",
              "}\n",
              "\n",
              "#sk-container-id-1 a.estimator_doc_link.fitted:hover {\n",
              "  /* fitted */\n",
              "  background-color: var(--sklearn-color-fitted-level-3);\n",
              "}\n",
              "</style><div id=\"sk-container-id-1\" class=\"sk-top-container\"><div class=\"sk-text-repr-fallback\"><pre>MultinomialNB()</pre><b>In a Jupyter environment, please rerun this cell to show the HTML representation or trust the notebook. <br />On GitHub, the HTML representation is unable to render, please try loading this page with nbviewer.org.</b></div><div class=\"sk-container\" hidden><div class=\"sk-item\"><div class=\"sk-estimator fitted sk-toggleable\"><input class=\"sk-toggleable__control sk-hidden--visually\" id=\"sk-estimator-id-1\" type=\"checkbox\" checked><label for=\"sk-estimator-id-1\" class=\"sk-toggleable__label fitted sk-toggleable__label-arrow fitted\">&nbsp;&nbsp;MultinomialNB<a class=\"sk-estimator-doc-link fitted\" rel=\"noreferrer\" target=\"_blank\" href=\"https://scikit-learn.org/1.5/modules/generated/sklearn.naive_bayes.MultinomialNB.html\">?<span>Documentation for MultinomialNB</span></a><span class=\"sk-estimator-doc-link fitted\">i<span>Fitted</span></span></label><div class=\"sk-toggleable__content fitted\"><pre>MultinomialNB()</pre></div> </div></div></div></div>"
            ]
          },
          "metadata": {},
          "execution_count": 59
        }
      ]
    },
    {
      "cell_type": "markdown",
      "source": [
        "Запустим предсказание на тестовой выборке:"
      ],
      "metadata": {
        "id": "NNSWc6iFWnYl"
      }
    },
    {
      "cell_type": "code",
      "source": [
        "nb_pred = nb_clf.predict(X_test_tf)"
      ],
      "metadata": {
        "execution": {
          "iopub.status.busy": "2021-12-22T21:16:50.025595Z",
          "iopub.execute_input": "2021-12-22T21:16:50.0258Z",
          "iopub.status.idle": "2021-12-22T21:16:50.033226Z",
          "shell.execute_reply.started": "2021-12-22T21:16:50.025776Z",
          "shell.execute_reply": "2021-12-22T21:16:50.032277Z"
        },
        "trusted": true,
        "id": "GQgwlhWRShbF"
      },
      "execution_count": null,
      "outputs": []
    },
    {
      "cell_type": "markdown",
      "source": [
        "Выведем метрики с помощью метода `classification_report` библиотеки `sklearn`:"
      ],
      "metadata": {
        "id": "QdtfcMt3Wsfj"
      }
    },
    {
      "cell_type": "code",
      "source": [
        "print('Расчет метрик для наивного байесовского классификатора:')\n",
        "print()\n",
        "print()\n",
        "print(classification_report(y_test_le, nb_pred, target_names=['5', '4', '3', '2', '1']))\n"
      ],
      "metadata": {
        "colab": {
          "base_uri": "https://localhost:8080/"
        },
        "id": "wAd05uVNXF-l",
        "outputId": "7f06dcc8-33a6-4a39-af43-8bb3e58a02e9"
      },
      "execution_count": null,
      "outputs": [
        {
          "output_type": "stream",
          "name": "stdout",
          "text": [
            "Расчет метрик для наивного байесовского классификатора:\n",
            "\n",
            "\n",
            "              precision    recall  f1-score   support\n",
            "\n",
            "           5       0.88      0.92      0.90      1372\n",
            "           4       0.84      0.89      0.86      1385\n",
            "           3       0.80      0.83      0.81      1357\n",
            "           2       0.71      0.71      0.71      1423\n",
            "           1       0.76      0.65      0.70      1324\n",
            "\n",
            "    accuracy                           0.80      6861\n",
            "   macro avg       0.80      0.80      0.80      6861\n",
            "weighted avg       0.80      0.80      0.80      6861\n",
            "\n"
          ]
        }
      ]
    },
    {
      "cell_type": "markdown",
      "source": [
        "### Классификация с помощью BERT"
      ],
      "metadata": {
        "id": "efIZ29qJZuP_"
      }
    },
    {
      "cell_type": "code",
      "source": [
        "def tokenize(data, max_len=128):\n",
        "    input_ids = []\n",
        "    attention_masks = []\n",
        "    for i in range(len(data)):\n",
        "        encoded = tokenizer.encode_plus(\n",
        "            data[i],\n",
        "            add_special_tokens=True,\n",
        "            max_length=max_len,\n",
        "            padding='max_length',  # Убедитесь, что последовательности имеют одинаковую длину\n",
        "            truncation=True,       # Обрезаем длинные последовательности\n",
        "            return_attention_mask=True\n",
        "        )\n",
        "        input_ids.append(encoded['input_ids'])\n",
        "        attention_masks.append(encoded['attention_mask'])\n",
        " # Преобразуем списки в NumPy массивы\n",
        "    return np.array(input_ids), np.array(attention_masks)"
      ],
      "metadata": {
        "id": "HFVvmI7m-vpO"
      },
      "execution_count": null,
      "outputs": []
    },
    {
      "cell_type": "code",
      "source": [
        "# Применяем функцию tokenize к выборкам\n",
        "train_input_ids, train_attention_masks = tokenize(X_train)\n",
        "val_input_ids, val_attention_masks = tokenize(X_valid)\n",
        "test_input_ids, test_attention_masks = tokenize(X_test)"
      ],
      "metadata": {
        "id": "DEIjSaxT-s-X"
      },
      "execution_count": null,
      "outputs": []
    },
    {
      "cell_type": "markdown",
      "source": [
        "Применим функцию токенизатора к наборам данным и получим соответствующие маски:"
      ],
      "metadata": {
        "id": "o1-YrnGia4Ss"
      }
    },
    {
      "cell_type": "markdown",
      "source": [
        "Теперь мы можем импортировать предварительно обученную BERT модель из библиотеки Hugging face."
      ],
      "metadata": {
        "id": "lid8RukMetQL"
      }
    },
    {
      "cell_type": "code",
      "source": [
        "bert_model = TFBertModel.from_pretrained(\"kazars24/rubert-ner-drugname\") # префикс TF означает, что модель для TensorFlow"
      ],
      "metadata": {
        "_kg_hide-output": true,
        "execution": {
          "iopub.status.busy": "2021-12-22T21:17:05.895409Z",
          "iopub.execute_input": "2021-12-22T21:17:05.89565Z",
          "iopub.status.idle": "2021-12-22T21:17:08.74259Z",
          "shell.execute_reply.started": "2021-12-22T21:17:05.895617Z",
          "shell.execute_reply": "2021-12-22T21:17:08.741859Z"
        },
        "trusted": true,
        "id": "zZdCEtScShbG",
        "outputId": "1637e370-3d73-46a2-a5f7-de6afb49e41b",
        "colab": {
          "base_uri": "https://localhost:8080/",
          "height": 188,
          "referenced_widgets": [
            "b86329963d464d87ac5d6a289aae4e11",
            "53204ecb2d79475ba4887f036c2cb274",
            "ac3a98ed3cc346629f3f56f49067185f",
            "24db486109c643d9b8948ccc36d2fe7f",
            "2032a73b261d4cb28a6660b3ed908d50",
            "40d66ef95d024b3eb5eca487fc5e5158",
            "628cd85213634c79a9136b20b3b03d3f",
            "cf815c88e8f4462c8c461e5d1a3963ae",
            "f7bd3345cb3d4b1ca4245db19b5db644",
            "114a1caba5204096a9027dd9bbdf9e60",
            "00a710adfe8b4e8fa02902a2292fa3c1",
            "40a727f6854945058f0f3cdd3b568a10",
            "02236bd81e26484eb2fe4f64effb5adb",
            "72dc2f3e79f54b2d9eefca8040cf16b4",
            "d12a923a407c4df9b980f98e102ef263",
            "5083d0fa90da47a186c2541e38941432",
            "72386f0975b64518b36576f87432c8df",
            "cf897e65c98044778190b13d52d13830",
            "bd4fdc9f91fb4c85a3df267c5df39062",
            "5e9a63014fd242399a8aff5838aafc6d",
            "fd315f336eac430085a31946cfb3f02f",
            "7f6a5e819f0b43e0bf3f7f05eebe1021"
          ]
        }
      },
      "execution_count": null,
      "outputs": [
        {
          "output_type": "display_data",
          "data": {
            "text/plain": [
              "config.json:   0%|          | 0.00/1.02k [00:00<?, ?B/s]"
            ],
            "application/vnd.jupyter.widget-view+json": {
              "version_major": 2,
              "version_minor": 0,
              "model_id": "b86329963d464d87ac5d6a289aae4e11"
            }
          },
          "metadata": {}
        },
        {
          "output_type": "display_data",
          "data": {
            "text/plain": [
              "model.safetensors:   0%|          | 0.00/709M [00:00<?, ?B/s]"
            ],
            "application/vnd.jupyter.widget-view+json": {
              "version_major": 2,
              "version_minor": 0,
              "model_id": "40a727f6854945058f0f3cdd3b568a10"
            }
          },
          "metadata": {}
        },
        {
          "output_type": "stream",
          "name": "stderr",
          "text": [
            "Some weights of the PyTorch model were not used when initializing the TF 2.0 model TFBertModel: ['classifier.bias', 'classifier.weight']\n",
            "- This IS expected if you are initializing TFBertModel from a PyTorch model trained on another task or with another architecture (e.g. initializing a TFBertForSequenceClassification model from a BertForPreTraining model).\n",
            "- This IS NOT expected if you are initializing TFBertModel from a PyTorch model that you expect to be exactly identical (e.g. initializing a TFBertForSequenceClassification model from a BertForSequenceClassification model).\n",
            "Some weights or buffers of the TF 2.0 model TFBertModel were not initialized from the PyTorch model and are newly initialized: ['bert.pooler.dense.weight', 'bert.pooler.dense.bias']\n",
            "You should probably TRAIN this model on a down-stream task to be able to use it for predictions and inference.\n"
          ]
        }
      ]
    },
    {
      "cell_type": "code",
      "source": [
        "def create_model(bert_model, max_len=128):\n",
        "\n",
        "    # Параметры обучения\n",
        "    opt = tf.keras.optimizers.legacy.Adam(learning_rate=1e-5, decay=1e-7) # оптимизатор - Adam\n",
        "    loss = tf.keras.losses.CategoricalCrossentropy()                      # функция потерь - категориальная кросс-энтропия\n",
        "    accuracy = tf.keras.metrics.CategoricalAccuracy()                     # метрика - категориальная точность\n",
        "\n",
        "\n",
        "    input_ids = tf.keras.Input(shape=(max_len,), dtype='int32')         # вход для токенизированной последовательности\n",
        "\n",
        "    attention_masks = tf.keras.Input(shape=(max_len,), dtype='int32')   # маска\n",
        "\n",
        "    embeddings = bert_model([input_ids, attention_masks])[1]            # BERT-модель\n",
        "\n",
        "    output = tf.keras.layers.Dense(5, activation=\"softmax\")(embeddings) # полносвязный слой для классификации OHE\n",
        "\n",
        "    model = tf.keras.models.Model(inputs = [input_ids, attention_masks], outputs = output)\n",
        "\n",
        "    model.compile(opt, loss=loss, metrics=accuracy)\n",
        "\n",
        "\n",
        "    return model"
      ],
      "metadata": {
        "execution": {
          "iopub.status.busy": "2021-12-22T21:17:08.744124Z",
          "iopub.execute_input": "2021-12-22T21:17:08.744637Z",
          "iopub.status.idle": "2021-12-22T21:17:08.752172Z",
          "shell.execute_reply.started": "2021-12-22T21:17:08.744596Z",
          "shell.execute_reply": "2021-12-22T21:17:08.751417Z"
        },
        "trusted": true,
        "id": "I_4sHp0QShbG"
      },
      "execution_count": null,
      "outputs": []
    },
    {
      "cell_type": "code",
      "source": [
        "model = create_model(bert_model)\n",
        "model.summary()"
      ],
      "metadata": {
        "execution": {
          "iopub.status.busy": "2021-12-22T21:17:08.753301Z",
          "iopub.execute_input": "2021-12-22T21:17:08.753634Z",
          "iopub.status.idle": "2021-12-22T21:17:10.212279Z",
          "shell.execute_reply.started": "2021-12-22T21:17:08.753596Z",
          "shell.execute_reply": "2021-12-22T21:17:10.211498Z"
        },
        "trusted": true,
        "id": "WTwFEH7xShbG",
        "outputId": "92517cc8-78a6-4156-c50b-732b4629c8e4",
        "colab": {
          "base_uri": "https://localhost:8080/"
        }
      },
      "execution_count": null,
      "outputs": [
        {
          "output_type": "stream",
          "name": "stdout",
          "text": [
            "Model: \"model_3\"\n",
            "__________________________________________________________________________________________________\n",
            " Layer (type)                Output Shape                 Param #   Connected to                  \n",
            "==================================================================================================\n",
            " input_7 (InputLayer)        [(None, 128)]                0         []                            \n",
            "                                                                                                  \n",
            " input_8 (InputLayer)        [(None, 128)]                0         []                            \n",
            "                                                                                                  \n",
            " tf_bert_model (TFBertModel  multiple                     1778534   ['input_7[0][0]',             \n",
            " )                                                        40         'input_8[0][0]']             \n",
            "                                                                                                  \n",
            " dense_3 (Dense)             (None, 5)                    3845      ['tf_bert_model[3][1]']       \n",
            "                                                                                                  \n",
            "==================================================================================================\n",
            "Total params: 177857285 (678.47 MB)\n",
            "Trainable params: 177857285 (678.47 MB)\n",
            "Non-trainable params: 0 (0.00 Byte)\n",
            "__________________________________________________________________________________________________\n"
          ]
        }
      ]
    },
    {
      "cell_type": "markdown",
      "source": [
        "Запускаем fine-tuning BERT трансформера:"
      ],
      "metadata": {
        "id": "8IINVHb1tWzx"
      }
    },
    {
      "cell_type": "code",
      "source": [
        "history_bert = model.fit([train_input_ids, train_attention_masks], y_train, validation_data=([val_input_ids, val_attention_masks], y_valid), epochs=4, batch_size=16)"
      ],
      "metadata": {
        "execution": {
          "iopub.status.busy": "2021-12-22T21:17:10.21337Z",
          "iopub.execute_input": "2021-12-22T21:17:10.213855Z",
          "iopub.status.idle": "2021-12-22T22:06:54.439353Z",
          "shell.execute_reply.started": "2021-12-22T21:17:10.213816Z",
          "shell.execute_reply": "2021-12-22T22:06:54.438631Z"
        },
        "trusted": true,
        "id": "4CuZoKDnShbH",
        "outputId": "40707a89-7dde-4a81-f142-ca23f7e20ae1",
        "colab": {
          "base_uri": "https://localhost:8080/"
        }
      },
      "execution_count": null,
      "outputs": [
        {
          "output_type": "stream",
          "name": "stdout",
          "text": [
            "Epoch 1/4\n",
            "3431/3431 [==============================] - 1684s 485ms/step - loss: 1.0675 - categorical_accuracy: 0.5363 - val_loss: 0.6554 - val_categorical_accuracy: 0.7393\n",
            "Epoch 2/4\n",
            "3431/3431 [==============================] - 1664s 485ms/step - loss: 0.5281 - categorical_accuracy: 0.7923 - val_loss: 0.3982 - val_categorical_accuracy: 0.8389\n",
            "Epoch 3/4\n",
            "3431/3431 [==============================] - 1662s 484ms/step - loss: 0.3149 - categorical_accuracy: 0.8787 - val_loss: 0.3403 - val_categorical_accuracy: 0.8800\n",
            "Epoch 4/4\n",
            "3431/3431 [==============================] - 1645s 479ms/step - loss: 0.2162 - categorical_accuracy: 0.9191 - val_loss: 0.3280 - val_categorical_accuracy: 0.8851\n"
          ]
        }
      ]
    },
    {
      "cell_type": "code",
      "source": [
        "# Сохранение модели в формате TensorFlow SavedModel\n",
        "model.save('my_model')"
      ],
      "metadata": {
        "id": "DqtArZsHIVou"
      },
      "execution_count": null,
      "outputs": []
    },
    {
      "cell_type": "code",
      "source": [
        "# Сохранение модели в формате HDF5\n",
        "model.save('my_model.h5')"
      ],
      "metadata": {
        "id": "tVc9iyEfIa2w"
      },
      "execution_count": null,
      "outputs": []
    },
    {
      "cell_type": "markdown",
      "source": [
        "Запустим предсказание на тестовой выборке:"
      ],
      "metadata": {
        "id": "6Hy66LqFtnlW"
      }
    },
    {
      "cell_type": "code",
      "source": [
        "result_bert = model.predict([test_input_ids, test_attention_masks])"
      ],
      "metadata": {
        "execution": {
          "iopub.status.busy": "2021-12-22T22:06:54.441058Z",
          "iopub.execute_input": "2021-12-22T22:06:54.441322Z",
          "iopub.status.idle": "2021-12-22T22:07:16.077636Z",
          "shell.execute_reply.started": "2021-12-22T22:06:54.441287Z",
          "shell.execute_reply": "2021-12-22T22:07:16.076752Z"
        },
        "trusted": true,
        "id": "Wm2gRmHQShbH",
        "colab": {
          "base_uri": "https://localhost:8080/"
        },
        "outputId": "e1df2f4e-7778-4745-dad9-f842c7922ebf"
      },
      "execution_count": null,
      "outputs": [
        {
          "output_type": "stream",
          "name": "stdout",
          "text": [
            "215/215 [==============================] - 69s 307ms/step\n"
          ]
        }
      ]
    },
    {
      "cell_type": "markdown",
      "source": [
        "Возвращаем метку наиболее вероятного класса и строим матрицу ошибок:"
      ],
      "metadata": {
        "id": "1N--vyHhuZ1u"
      }
    },
    {
      "cell_type": "code",
      "source": [
        "y_pred_bert =  np.zeros_like(result_bert)\n",
        "y_pred_bert[np.arange(len(y_pred_bert)), result_bert.argmax(1)] = 1"
      ],
      "metadata": {
        "execution": {
          "iopub.status.busy": "2021-12-22T22:07:16.081165Z",
          "iopub.execute_input": "2021-12-22T22:07:16.081513Z",
          "iopub.status.idle": "2021-12-22T22:07:16.087746Z",
          "shell.execute_reply.started": "2021-12-22T22:07:16.081482Z",
          "shell.execute_reply": "2021-12-22T22:07:16.087002Z"
        },
        "trusted": true,
        "id": "q7a7FNTFShbH"
      },
      "execution_count": null,
      "outputs": []
    },
    {
      "cell_type": "code",
      "source": [
        "conf_matrix(y_test.argmax(1), y_pred_bert.argmax(1),'Матрица ошибок для BERT классификации')"
      ],
      "metadata": {
        "_kg_hide-input": true,
        "execution": {
          "iopub.status.busy": "2021-12-22T22:07:16.089167Z",
          "iopub.execute_input": "2021-12-22T22:07:16.089448Z",
          "iopub.status.idle": "2021-12-22T22:07:16.318816Z",
          "shell.execute_reply.started": "2021-12-22T22:07:16.089414Z",
          "shell.execute_reply": "2021-12-22T22:07:16.318033Z"
        },
        "trusted": true,
        "id": "LfXrW6TbShbH",
        "colab": {
          "base_uri": "https://localhost:8080/",
          "height": 506
        },
        "outputId": "aca06385-7eda-4f7f-9c3c-86cf31a8fa30"
      },
      "execution_count": null,
      "outputs": [
        {
          "output_type": "display_data",
          "data": {
            "text/plain": [
              "<Figure size 500x500 with 1 Axes>"
            ],
            "image/png": "[encoded data removed]"
          },
          "metadata": {}
        }
      ]
    },
    {
      "cell_type": "code",
      "source": [
        "print('Расчет метрик для BERT классификатора:')\n",
        "print()\n",
        "print()\n",
        "print(classification_report(y_test, y_pred_bert, target_names=['5', '4', '3', '2', '1']))"
      ],
      "metadata": {
        "colab": {
          "base_uri": "https://localhost:8080/"
        },
        "id": "fQ4_ExR0MAKQ",
        "outputId": "707bac95-f7a0-43b8-aafc-d553efd1a683"
      },
      "execution_count": null,
      "outputs": [
        {
          "output_type": "stream",
          "name": "stdout",
          "text": [
            "Расчет метрик для BERT классификатора:\n",
            "\n",
            "\n",
            "              precision    recall  f1-score   support\n",
            "\n",
            "           5       0.98      0.99      0.99      1372\n",
            "           4       0.97      0.98      0.98      1385\n",
            "           3       0.92      0.97      0.95      1357\n",
            "           2       0.71      0.91      0.80      1423\n",
            "           1       0.91      0.57      0.70      1324\n",
            "\n",
            "   micro avg       0.89      0.89      0.89      6861\n",
            "   macro avg       0.90      0.89      0.88      6861\n",
            "weighted avg       0.90      0.89      0.88      6861\n",
            " samples avg       0.89      0.89      0.89      6861\n",
            "\n"
          ]
        }
      ]
    },
    {
      "cell_type": "code",
      "source": [
        "for i in range(len(X_test[:10])):\n",
        "    print(f'Text: {X_test[i]}')\n",
        "    print(f'Predicted Class: {y_pred_bert[i]}')\n",
        "    print(f'True Class: {y_test[i]}')\n",
        "    print('-' * 50)"
      ],
      "metadata": {
        "colab": {
          "base_uri": "https://localhost:8080/"
        },
        "id": "FxT4xEtXQ1yk",
        "outputId": "7fcec697-2751-4608-9311-8c15f99a0867"
      },
      "execution_count": null,
      "outputs": [
        {
          "output_type": "stream",
          "name": "stdout",
          "text": [
            "Text: в общем хороший телефон не стоимость его завышена\n",
            "Predicted Class: [0. 1. 0. 0. 0.]\n",
            "True Class: [0. 0. 1. 0. 0.]\n",
            "--------------------------------------------------\n",
            "Text: неплохой телефон для людей без сильных требований сносная камера долго держит зарядку при первом включении телефон напичкан мало нужными программами но это не так значительно отключить большую часть и будет вам радость\n",
            "Predicted Class: [0. 0. 1. 0. 0.]\n",
            "True Class: [0. 0. 1. 0. 0.]\n",
            "--------------------------------------------------\n",
            "Text: не покупайте этот смартфон не повторяйте ошибки пользуюсь данным аппаратом месяц и очень жалею о покупке просто есть с чем сравнивать до этого был сони м2 дуал проблем не было вообще хороший аппарат и работал хорошо и аккумулятор первые 15 года держал отлично с утра до ночи при интенсивной эксплуатации смело\n",
            "Predicted Class: [1. 0. 0. 0. 0.]\n",
            "True Class: [1. 0. 0. 0. 0.]\n",
            "--------------------------------------------------\n",
            "Text: использую около 2х лет аккумулятор держит так же как и при покупке почта whatsapp icq cityguide skype sms без проблем при просмотре приэттаченых документов в почте возникают проблемы доволен аппаратом на все 100 свою задачу он выполнил на сегоднешний день уже не стал бы его покупать купил бы samsung ativ s за те же 10 12 тр но 2 года назад такого самсунга не было пока пользуюсь nokia e7 меня все устраивает\n",
            "Predicted Class: [0. 0. 0. 1. 0.]\n",
            "True Class: [0. 0. 0. 1. 0.]\n",
            "--------------------------------------------------\n",
            "Text: первое впечатление вау а в процессе эксплуатации тормозит на простейших операциях при свободном гигабайте оперативной памяти из двухне рекомендую\n",
            "Predicted Class: [1. 0. 0. 0. 0.]\n",
            "True Class: [1. 0. 0. 0. 0.]\n",
            "--------------------------------------------------\n",
            "Text: в целом очень хороший и мощный смартфон если бы не одно но как телефон он работает не стабильно стоит две симки одна из них мтс раз в несколько суток иногда и несколько раз в сутки эта симка отваливается раньше хоть на экране было видно крестик в панели уведомлений после последнего обновления симка отваливается тихо на экране все в порядке но при звонке на эту сим сообщается что абонент не доступен при этом слот куда вставлена симка не имеет значения\n",
            "Predicted Class: [0. 0. 1. 0. 0.]\n",
            "True Class: [0. 0. 1. 0. 0.]\n",
            "--------------------------------------------------\n",
            "Text: вот что меня решительно взбесило 32gb говорите по факту 22 gb доступно и 2 занято\n",
            "Predicted Class: [0. 0. 1. 0. 0.]\n",
            "True Class: [0. 0. 0. 1. 0.]\n",
            "--------------------------------------------------\n",
            "Text: вряд ли еще куплю nokia раньше пользовался телефонами другого производителя этот тел взял попробовать и для себя уже сделал окончательный вывод о телефонах данного производителя\n",
            "Predicted Class: [0. 1. 0. 0. 0.]\n",
            "True Class: [0. 1. 0. 0. 0.]\n",
            "--------------------------------------------------\n",
            "Text: из всего этого крайне не рекомендую его покупать мне хоть от телефона нужен минимум стандартных действийзвонить читать слушать музыку но все эти косяки жутко режут глаз как царапина которую не видно но ты знаешь что она есть\n",
            "Predicted Class: [0. 1. 0. 0. 0.]\n",
            "True Class: [0. 1. 0. 0. 0.]\n",
            "--------------------------------------------------\n",
            "Text: подходит только для звонков и ничего больше\n",
            "Predicted Class: [0. 1. 0. 0. 0.]\n",
            "True Class: [0. 1. 0. 0. 0.]\n",
            "--------------------------------------------------\n"
          ]
        }
      ]
    }
  ]
}